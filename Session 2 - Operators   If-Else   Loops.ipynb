{
 "cells": [
  {
   "cell_type": "markdown",
   "id": "9805a4b5",
   "metadata": {},
   "source": [
    "# --------------------------------------------------------------------------------------\n",
    "# Session 2 - Operators + If-Else + Loops\n",
    "\n",
    "  - Video URL: https://youtu.be/JCkIrdrZEE8  \n",
    "  - Code URL: https://colab.research.google.com/drive/1dJIncqudN2wFNZ1P3_1sdJX76pzw-s-4?usp=sharing\n",
    "  - Updated Code URL: https://colab.research.google.com/drive/1He-CC_4GUaswgQ2NFg8exc23A-mChTwK?usp=sharing\n",
    "# --------------------------------------------------------------------------------------"
   ]
  },
  {
   "cell_type": "markdown",
   "id": "d9e6ffcf",
   "metadata": {},
   "source": [
    "## Operators in Python"
   ]
  },
  {
   "cell_type": "markdown",
   "id": "8c2463ca",
   "metadata": {},
   "source": [
    "### Arithmetic Operators:   \n",
    "\n",
    "- Python provides several arithmetic operators for performing mathematical operations on numbers and variables."
   ]
  },
  {
   "cell_type": "code",
   "execution_count": 1,
   "id": "78b81b17",
   "metadata": {},
   "outputs": [
    {
     "name": "stdout",
     "output_type": "stream",
     "text": [
      "11\n"
     ]
    }
   ],
   "source": [
    "# Addition (+) - Used to add two numbers or concatenate strings.\n",
    "print(5+6)"
   ]
  },
  {
   "cell_type": "code",
   "execution_count": 2,
   "id": "3eae810b",
   "metadata": {},
   "outputs": [
    {
     "name": "stdout",
     "output_type": "stream",
     "text": [
      "2\n"
     ]
    }
   ],
   "source": [
    "# Subtraction (-) - Used to subtract one number from another.\n",
    "print(5-3)"
   ]
  },
  {
   "cell_type": "code",
   "execution_count": 3,
   "id": "23c34029",
   "metadata": {},
   "outputs": [
    {
     "name": "stdout",
     "output_type": "stream",
     "text": [
      "30\n"
     ]
    }
   ],
   "source": [
    "# Multiplication (*) - Used to multiply two numbers or repeat a string.\n",
    "print(5*6)"
   ]
  },
  {
   "cell_type": "code",
   "execution_count": 4,
   "id": "edffcdaf",
   "metadata": {},
   "outputs": [
    {
     "name": "stdout",
     "output_type": "stream",
     "text": [
      "0.8333333333333334\n"
     ]
    }
   ],
   "source": [
    "# Division (/) - Used to divide one number by another, and the result is a float.\n",
    "print(5/6)"
   ]
  },
  {
   "cell_type": "code",
   "execution_count": 5,
   "id": "811368a3",
   "metadata": {},
   "outputs": [
    {
     "name": "stdout",
     "output_type": "stream",
     "text": [
      "1\n"
     ]
    }
   ],
   "source": [
    "# Integer Division (//) - Used to perform division and round the result down to the nearest integer.\n",
    "print(6//5)"
   ]
  },
  {
   "cell_type": "code",
   "execution_count": 6,
   "id": "7a331094",
   "metadata": {},
   "outputs": [
    {
     "name": "stdout",
     "output_type": "stream",
     "text": [
      "1\n"
     ]
    }
   ],
   "source": [
    "# Modulus (%) - Returns the remainder of a division operation.\n",
    "print(5%2)"
   ]
  },
  {
   "cell_type": "code",
   "execution_count": 7,
   "id": "752551ae",
   "metadata": {},
   "outputs": [
    {
     "name": "stdout",
     "output_type": "stream",
     "text": [
      "8\n"
     ]
    }
   ],
   "source": [
    "# Exponentiation (**) - Used to raise a number to a power.\n",
    "print(2 ** 3)"
   ]
  },
  {
   "cell_type": "markdown",
   "id": "05545e88",
   "metadata": {},
   "source": [
    "### Relational or comparison operators\n",
    "\n",
    "-  Relational operators, also known as comparison operators, are used in Python to compare values or expressions and determine the relationship between them. Relational operators return a Boolean value, either True or False, depending on whether the specified condition is satisfied."
   ]
  },
  {
   "cell_type": "code",
   "execution_count": 8,
   "id": "7e95066c",
   "metadata": {},
   "outputs": [
    {
     "name": "stdout",
     "output_type": "stream",
     "text": [
      "True\n",
      "False\n"
     ]
    }
   ],
   "source": [
    "# Equal to (==) - Checks if two values are equal.\n",
    "print(100 == 100)\n",
    "print(100 == 101)"
   ]
  },
  {
   "cell_type": "code",
   "execution_count": 9,
   "id": "716c258c",
   "metadata": {},
   "outputs": [
    {
     "name": "stdout",
     "output_type": "stream",
     "text": [
      "True\n",
      "False\n"
     ]
    }
   ],
   "source": [
    "# Not equal to (!=) - Checks if two values are not equal.\n",
    "print(5 != 3)\n",
    "print(3 != 3)"
   ]
  },
  {
   "cell_type": "code",
   "execution_count": 10,
   "id": "95509200",
   "metadata": {},
   "outputs": [
    {
     "name": "stdout",
     "output_type": "stream",
     "text": [
      "True\n",
      "False\n"
     ]
    }
   ],
   "source": [
    "# Greater than (>) - Checks if the left value is greater than the right value.\n",
    "print(7 > 3)\n",
    "print(7>9)"
   ]
  },
  {
   "cell_type": "code",
   "execution_count": 11,
   "id": "0b7aae54",
   "metadata": {},
   "outputs": [
    {
     "name": "stdout",
     "output_type": "stream",
     "text": [
      "True\n",
      "False\n"
     ]
    }
   ],
   "source": [
    "# Less than (<) - Checks if the left value is less than the right value.\n",
    "print(7<10)\n",
    "print(3<1)"
   ]
  },
  {
   "cell_type": "code",
   "execution_count": 12,
   "id": "e6fc38e9",
   "metadata": {},
   "outputs": [
    {
     "name": "stdout",
     "output_type": "stream",
     "text": [
      "True\n",
      "False\n",
      "True\n"
     ]
    }
   ],
   "source": [
    "# Greater than or equal to (>=) - Checks if the left value is greater than or equal to the right value.\n",
    "print(5 >= 5)\n",
    "print(5 >= 6)\n",
    "print(8 >= 5)"
   ]
  },
  {
   "cell_type": "code",
   "execution_count": 13,
   "id": "93615749",
   "metadata": {},
   "outputs": [
    {
     "name": "stdout",
     "output_type": "stream",
     "text": [
      "False\n",
      "True\n",
      "False\n"
     ]
    }
   ],
   "source": [
    "# Less than or equal to (<=) - Checks if the left value is less than or equal to the right value.\n",
    "print(4 <= 3)\n",
    "print(4 <= 4)\n",
    "print(5 <= 4)"
   ]
  },
  {
   "cell_type": "markdown",
   "id": "de16765a",
   "metadata": {},
   "source": [
    "### Logical operators: \n",
    "\n",
    "- Logical operators in Python are used to combine or manipulate Boolean values (True or False). They allow you to create more complex conditions by performing logical operations on one or more Boolean expressions."
   ]
  },
  {
   "cell_type": "code",
   "execution_count": 14,
   "id": "5a46ba3d",
   "metadata": {},
   "outputs": [
    {
     "name": "stdout",
     "output_type": "stream",
     "text": [
      "True\n",
      "False\n"
     ]
    }
   ],
   "source": [
    "# Logical AND (and) - Returns True if both operands are True, otherwise, it returns False.\n",
    "\n",
    "result1 = True and True  # result will be True\n",
    "print(result1)\n",
    "\n",
    "result2 = True and False  # result will be False\n",
    "print(result2)"
   ]
  },
  {
   "cell_type": "code",
   "execution_count": 15,
   "id": "fc70940c",
   "metadata": {},
   "outputs": [
    {
     "name": "stdout",
     "output_type": "stream",
     "text": [
      "0\n"
     ]
    }
   ],
   "source": [
    "print(1 and 0)"
   ]
  },
  {
   "cell_type": "code",
   "execution_count": 16,
   "id": "55ca5e04",
   "metadata": {},
   "outputs": [
    {
     "name": "stdout",
     "output_type": "stream",
     "text": [
      "True\n",
      "False\n",
      "True\n"
     ]
    }
   ],
   "source": [
    "# Logical OR (or) - Returns True if at least one of the operands is True, otherwise, it returns False.\n",
    "\n",
    "result1 = True or False  # result will be True\n",
    "print(result1)\n",
    "\n",
    "result2 = False or False  # result will be False\n",
    "print(result2)\n",
    "\n",
    "result3 = False or True  # result will be False\n",
    "print(result3)"
   ]
  },
  {
   "cell_type": "code",
   "execution_count": 17,
   "id": "fc57b864",
   "metadata": {},
   "outputs": [
    {
     "name": "stdout",
     "output_type": "stream",
     "text": [
      "1\n"
     ]
    }
   ],
   "source": [
    "print(1 or 0)"
   ]
  },
  {
   "cell_type": "code",
   "execution_count": 18,
   "id": "6ca38444",
   "metadata": {},
   "outputs": [
    {
     "name": "stdout",
     "output_type": "stream",
     "text": [
      "False\n",
      "True\n"
     ]
    }
   ],
   "source": [
    "# Logical NOT (not) - Returns the opposite of the operand value. If operand is True, it returns False,& vice versa.\n",
    "\n",
    "result1 = not True  # result will be False\n",
    "print(result1)\n",
    "\n",
    "result2 = not False  # result will be True\n",
    "print(result2)"
   ]
  },
  {
   "cell_type": "code",
   "execution_count": 19,
   "id": "9f0e6558",
   "metadata": {},
   "outputs": [
    {
     "name": "stdout",
     "output_type": "stream",
     "text": [
      "False\n"
     ]
    }
   ],
   "source": [
    "print(not 1)"
   ]
  },
  {
   "cell_type": "code",
   "execution_count": 20,
   "id": "19f229cc",
   "metadata": {},
   "outputs": [
    {
     "name": "stdout",
     "output_type": "stream",
     "text": [
      "Both x and y are positive.\n"
     ]
    }
   ],
   "source": [
    "# We can also combine multiple logical operators to create more complex conditions, example below\n",
    "x = 5\n",
    "y = 10\n",
    "\n",
    "if x > 0 and y > 0:\n",
    "    print(\"Both x and y are positive.\")\n"
   ]
  },
  {
   "cell_type": "markdown",
   "id": "e5638467",
   "metadata": {},
   "source": [
    "### Bitwise Operators:\n",
    "\n",
    "- Bitwise operators in Python are used to perform operations on individual bits of integer values."
   ]
  },
  {
   "cell_type": "code",
   "execution_count": 21,
   "id": "4eb0b488",
   "metadata": {},
   "outputs": [
    {
     "name": "stdout",
     "output_type": "stream",
     "text": [
      "1\n"
     ]
    }
   ],
   "source": [
    "# Bitwise AND (&) \n",
    "# - Performs a bitwise AND operation on each pair of corresponding bits.\n",
    "# - If both bits are 1, the result is 1; otherwise, it's 0.\n",
    "\n",
    "result = 5 & 3  # result will be 1\n",
    "print(result)"
   ]
  },
  {
   "cell_type": "code",
   "execution_count": 22,
   "id": "7df4066b",
   "metadata": {},
   "outputs": [
    {
     "name": "stdout",
     "output_type": "stream",
     "text": [
      "7\n"
     ]
    }
   ],
   "source": [
    "# Bitwise OR (|) \n",
    "# Performs a bitwise OR operation on each pair of corresponding bits.\n",
    "# If at least one of the bits is 1, the result is 1.\n",
    "\n",
    "result = 5 | 3  # result will be 7\n",
    "print(result)"
   ]
  },
  {
   "cell_type": "code",
   "execution_count": 23,
   "id": "ebe0fe03",
   "metadata": {},
   "outputs": [
    {
     "name": "stdout",
     "output_type": "stream",
     "text": [
      "6\n"
     ]
    }
   ],
   "source": [
    "# Bitwise XOR (^)\n",
    "# Performs a bitwise XOR (exclusive OR) operation on each pair of corresponding bits.\n",
    "# If the bits are different (one is 0 and the other is 1), the result is 1; otherwise, it's 0.\n",
    "\n",
    "result = 5 ^ 3  # result will be 6\n",
    "print(result)"
   ]
  },
  {
   "cell_type": "code",
   "execution_count": 24,
   "id": "8a9596fb",
   "metadata": {},
   "outputs": [
    {
     "name": "stdout",
     "output_type": "stream",
     "text": [
      "-6\n"
     ]
    }
   ],
   "source": [
    "# Bitwise NOT (~)\n",
    "# Performs a bitwise NOT operation, which inverts each bit.\n",
    "# It returns the complement of the binary representation of the number.\n",
    "\n",
    "result = ~5  # result will depend on the platform, but it inverts the bits\n",
    "print(result)"
   ]
  },
  {
   "cell_type": "code",
   "execution_count": 25,
   "id": "470fa07d",
   "metadata": {},
   "outputs": [
    {
     "name": "stdout",
     "output_type": "stream",
     "text": [
      "20\n"
     ]
    }
   ],
   "source": [
    "# Bitwise Left Shift (<<)\n",
    "# Shifts the bits of the left operand to the left by the number of positions specified in the right operand.\n",
    "# Filling the empty positions with zeros.\n",
    "\n",
    "result = 5 << 2  # result will be 20\n",
    "print(result)"
   ]
  },
  {
   "cell_type": "code",
   "execution_count": 26,
   "id": "70ca6cc7",
   "metadata": {},
   "outputs": [
    {
     "name": "stdout",
     "output_type": "stream",
     "text": [
      "4\n"
     ]
    }
   ],
   "source": [
    "# Bitwise Right Shift (>>)\n",
    "# Shifts the bits of the left operand to the right by the number of positions specified in the right operand.\n",
    "# The empty positions are filled according to the sign (arithmetic right shift) for signed integers.\n",
    "\n",
    "result = 16 >> 2  # result will be 4\n",
    "print(result)"
   ]
  },
  {
   "cell_type": "markdown",
   "id": "97143ef4",
   "metadata": {},
   "source": [
    "- Bitwise operators are mainly used for low-level programming, such as hardware control, bit manipulation, and optimizing certain algorithms. They allow you to work with the binary representation of data to achieve specific tasks."
   ]
  },
  {
   "cell_type": "markdown",
   "id": "50d956c8",
   "metadata": {},
   "source": [
    "### Assignment Operator:\n",
    "\n",
    "- the assignment operator (=) is used to assign a value to a variable. It is the most fundamental and commonly used operator for creating and updating variables.\n",
    "\n",
    "- variable_name = value\n",
    "\n",
    "- The variable on the left side of the = operator is assigned the value on the right side.\n",
    "\n",
    "- If the variable doesn't exist, it's created. If it already exists, its value is updated with the new value.\n"
   ]
  },
  {
   "cell_type": "code",
   "execution_count": 27,
   "id": "9a117988",
   "metadata": {},
   "outputs": [],
   "source": [
    "x = 10  # Create a variable x and assign the value 10 to it\n",
    "name = \"Alice\"  # Create a variable name and assign the string \"Alice\" to it\n",
    "\n",
    "x = 20  # Update the value of the variable x to 20"
   ]
  },
  {
   "cell_type": "code",
   "execution_count": 28,
   "id": "05e4ca42",
   "metadata": {},
   "outputs": [],
   "source": [
    "a = 5\n",
    "b = 3\n",
    "a += b  # Equivalent to a = a + b; a is updated to 8\n"
   ]
  },
  {
   "cell_type": "markdown",
   "id": "f25cd42e",
   "metadata": {},
   "source": [
    "### Membership Operators:\n",
    "\n",
    "- In Python are used to test whether a specific value or element is a member of a sequence, such as a string, list, tuple, or set.  \n",
    "- Python provides two membership operators:\n",
    "\n",
    "- #### 'in' Operator:   \n",
    "- The in operator is used to check if a value exists in a sequence or container.   \n",
    "- It returns True if the specified element is found in the sequence and False otherwise.\n",
    "\n",
    "\n",
    "- #### 'not in' Operator:   \n",
    "- The not in operator is used to check if a value does not exist in a sequence.   \n",
    "- It returns True if the specified element is not found in the sequence and False if it is found."
   ]
  },
  {
   "cell_type": "code",
   "execution_count": 29,
   "id": "ba71f8db",
   "metadata": {},
   "outputs": [
    {
     "name": "stdout",
     "output_type": "stream",
     "text": [
      "True\n"
     ]
    }
   ],
   "source": [
    "my_list = [1, 2, 3, 4, 5]\n",
    "result = 3 in my_list  # result will be True\n",
    "print(result)"
   ]
  },
  {
   "cell_type": "code",
   "execution_count": 30,
   "id": "a87163a0",
   "metadata": {},
   "outputs": [
    {
     "name": "stdout",
     "output_type": "stream",
     "text": [
      "True\n"
     ]
    }
   ],
   "source": [
    "my_string = \"Hello, World\"\n",
    "result = 'x' not in my_string  # result will be True\n",
    "print(result)"
   ]
  },
  {
   "cell_type": "markdown",
   "id": "29e5ac0d",
   "metadata": {},
   "source": [
    "- Membership operators are handy for checking the presence or absence of specific values within data structures like lists, strings, and sets, making your code more efficient and readable."
   ]
  },
  {
   "cell_type": "code",
   "execution_count": 31,
   "id": "95506d34",
   "metadata": {},
   "outputs": [
    {
     "name": "stdout",
     "output_type": "stream",
     "text": [
      "enter fisrt numer2\n",
      "enter second numer3\n",
      "enter third numer1\n",
      "6\n"
     ]
    }
   ],
   "source": [
    "### Program - Find the sum of a 3 number entered by the user\n",
    "\n",
    "num1 = int(input('enter fisrt numer'))\n",
    "num2 = int(input('enter second numer'))\n",
    "num3 = int(input('enter third numer'))\n",
    "result = num1+num2+num3\n",
    "print(result)"
   ]
  },
  {
   "cell_type": "code",
   "execution_count": 32,
   "id": "45c36052",
   "metadata": {},
   "outputs": [
    {
     "name": "stdout",
     "output_type": "stream",
     "text": [
      "enter fisrt numer: 8\n",
      "8.0\n"
     ]
    }
   ],
   "source": [
    "### Program - Find the sum of a 3 digit number entered by the user\n",
    "\n",
    "number = int(input('enter fisrt numer: '))\n",
    "\n",
    "a = number%10   #345%10 -> 5\n",
    "\n",
    "number = number//10\n",
    "\n",
    "b = number%10. #34%10 -> 4\n",
    "\n",
    "number = number//10 \n",
    "\n",
    "c = number%10  #3%10 -> 3\n",
    "\n",
    "print(a+b+c)"
   ]
  },
  {
   "cell_type": "code",
   "execution_count": 33,
   "id": "857da0f3",
   "metadata": {},
   "outputs": [
    {
     "data": {
      "text/plain": [
       "5"
      ]
     },
     "execution_count": 33,
     "metadata": {},
     "output_type": "execute_result"
    }
   ],
   "source": [
    "345%10"
   ]
  },
  {
   "cell_type": "code",
   "execution_count": 34,
   "id": "5ccf7147",
   "metadata": {},
   "outputs": [
    {
     "data": {
      "text/plain": [
       "4"
      ]
     },
     "execution_count": 34,
     "metadata": {},
     "output_type": "execute_result"
    }
   ],
   "source": [
    "34%10"
   ]
  },
  {
   "cell_type": "code",
   "execution_count": 35,
   "id": "3c3edd37",
   "metadata": {},
   "outputs": [
    {
     "data": {
      "text/plain": [
       "3"
      ]
     },
     "execution_count": 35,
     "metadata": {},
     "output_type": "execute_result"
    }
   ],
   "source": [
    "3%10"
   ]
  },
  {
   "cell_type": "markdown",
   "id": "b8c66c09",
   "metadata": {},
   "source": [
    "## If-else in Python\n",
    "\n",
    "- The if and else statements are used for conditional execution of code. They allow you to specify different code blocks to be executed based on a condition."
   ]
  },
  {
   "cell_type": "code",
   "execution_count": null,
   "id": "21f05031",
   "metadata": {},
   "outputs": [],
   "source": [
    "if condition:\n",
    "    # Code to execute if the condition is True\n",
    "else:\n",
    "    # Code to execute if the condition is False"
   ]
  },
  {
   "cell_type": "markdown",
   "id": "fe1a5c19",
   "metadata": {},
   "source": [
    "- The if statement checks a specified condition.  \n",
    "- If the condition is True, the code block indented under if is executed.\n",
    "\n",
    "\n",
    "- The else statement is optional and provides an alternative code block that is executed when the condition in the if statement is False."
   ]
  },
  {
   "cell_type": "code",
   "execution_count": 37,
   "id": "3ab003b3",
   "metadata": {},
   "outputs": [
    {
     "name": "stdout",
     "output_type": "stream",
     "text": [
      "x is greater than 5\n"
     ]
    }
   ],
   "source": [
    "x = 10\n",
    "\n",
    "if x > 5:\n",
    "    print(\"x is greater than 5\")\n",
    "else:\n",
    "    print(\"x is not greater than 5\")"
   ]
  },
  {
   "cell_type": "code",
   "execution_count": 38,
   "id": "34da9bdf",
   "metadata": {},
   "outputs": [
    {
     "name": "stdout",
     "output_type": "stream",
     "text": [
      "x is not greater than 5\n"
     ]
    }
   ],
   "source": [
    "x = 2\n",
    "\n",
    "if x > 5:\n",
    "    print(\"x is greater than 5\")\n",
    "else:\n",
    "    print(\"x is not greater than 5\")\n"
   ]
  },
  {
   "cell_type": "code",
   "execution_count": 39,
   "id": "7f295b9c",
   "metadata": {},
   "outputs": [
    {
     "name": "stdout",
     "output_type": "stream",
     "text": [
      "x is equal to 5\n"
     ]
    }
   ],
   "source": [
    "x = 5\n",
    "\n",
    "if x > 5:\n",
    "    print(\"x is greater than 5\")\n",
    "elif x == 5:\n",
    "    print(\"x is equal to 5\")\n",
    "else:\n",
    "    print(\"x is less than 5\")"
   ]
  },
  {
   "cell_type": "code",
   "execution_count": 40,
   "id": "4220d2ec",
   "metadata": {},
   "outputs": [
    {
     "name": "stdout",
     "output_type": "stream",
     "text": [
      "Enter the Email ID: python@gmail.com\n",
      "Enter your Password: python\n",
      "Incorrect Password, Try Again Later!\n"
     ]
    }
   ],
   "source": [
    "# login program and indentation\n",
    "# email -> prakash@gmail.com\n",
    "# password -> 12345\n",
    "\n",
    "email = input('Enter the Email ID: ')\n",
    "password = input('Enter your Password: ')\n",
    "\n",
    "if email == 'prakash@gmail.com' and password == '12345':\n",
    "    print('Welcome to the Portal')\n",
    "    \n",
    "else:\n",
    "      # tell the user\n",
    "    print('Incorrect Password, Try Again Later!')"
   ]
  },
  {
   "cell_type": "code",
   "execution_count": 41,
   "id": "2dac5c19",
   "metadata": {},
   "outputs": [
    {
     "name": "stdout",
     "output_type": "stream",
     "text": [
      "Enter the Email ID: prakash@gmail.com\n",
      "Enter your Password: 12345\n",
      "Welcome to the Portal\n"
     ]
    }
   ],
   "source": [
    "# login program and indentation\n",
    "# email -> prakash@gmail.com\n",
    "# password -> 12345\n",
    "\n",
    "email = input('Enter the Email ID: ')\n",
    "password = input('Enter your Password: ')\n",
    "\n",
    "if email == 'prakash@gmail.com' and password == '12345':\n",
    "    print('Welcome to the Portal')\n",
    "    \n",
    "else:\n",
    "      # tell the user\n",
    "    print('Incorrect Password, Try Again Later!')"
   ]
  },
  {
   "cell_type": "code",
   "execution_count": 42,
   "id": "a3424394",
   "metadata": {},
   "outputs": [
    {
     "name": "stdout",
     "output_type": "stream",
     "text": [
      "Enter Phone Number: 7411123456\n",
      "Enter OTP: 2023\n",
      "Welcome to the Portal\n"
     ]
    }
   ],
   "source": [
    "# Same login program and indentation using elif\n",
    "#Mobile -> 7411123456\n",
    "#OTO -> 2023\n",
    "\n",
    "mobile = input('Enter Phone Number: ')\n",
    "otp = input('Enter OTP: ')\n",
    "\n",
    "if mobile == '7411123456' and otp == '2023':\n",
    "    print('Welcome to the Portal')\n",
    "elif mobile == '7411123456' and otp != '2023':\n",
    "    print('Wrong OTP, Try Again')\n",
    "    otp = input('Enter OTP Again')\n",
    "    if otp == '2023':\n",
    "        print('Welcome to Portal')\n",
    "    else:\n",
    "            print(\"You can't Visit this Page\")\n",
    "else:\n",
    "    print('Invalid OTP')"
   ]
  },
  {
   "cell_type": "code",
   "execution_count": 43,
   "id": "c614f715",
   "metadata": {},
   "outputs": [
    {
     "name": "stdout",
     "output_type": "stream",
     "text": [
      "Enter Phone Number: 7411123451\n",
      "Enter OTP: 2022\n",
      "Invalid OTP\n"
     ]
    }
   ],
   "source": [
    "# Same login program and indentation using elif\n",
    "#Mobile -> 7411123456\n",
    "#OTO -> 2023\n",
    "\n",
    "mobile = input('Enter Phone Number: ')\n",
    "otp = input('Enter OTP: ')\n",
    "\n",
    "if mobile == '7411123456' and otp == '2023':\n",
    "    print('Welcome to the Portal')\n",
    "elif mobile == '7411123456' and otp != '2023':\n",
    "    print('Wrong OTP, Try Again')\n",
    "    otp = input('Enter OTP Again')\n",
    "    if otp == '2023':\n",
    "        print('Welcome to Portal')\n",
    "    else:\n",
    "            print(\"You can't Visit this Page\")\n",
    "else:\n",
    "    print('Invalid OTP')"
   ]
  },
  {
   "cell_type": "code",
   "execution_count": 44,
   "id": "a57f49aa",
   "metadata": {},
   "outputs": [
    {
     "name": "stdout",
     "output_type": "stream",
     "text": [
      "enter first number: 23\n",
      "enter second number: 2\n",
      "enter third number: 1\n",
      "Smallest is:  1\n"
     ]
    }
   ],
   "source": [
    "# More examples on if-else\n",
    "\n",
    "# Program - find the minimum of 3 given numbers\n",
    "\n",
    "a = int(input('enter first number: '))\n",
    "b = int(input('enter second number: '))\n",
    "c = int(input('enter third number: '))\n",
    "\n",
    "if a<b and a<c:\n",
    "    print('Smallest is: ',a)\n",
    "elif b<c:\n",
    "        print('Smallest is: ',b)\n",
    "else:\n",
    "        print('Smallest is: ',c)"
   ]
  },
  {
   "cell_type": "code",
   "execution_count": 45,
   "id": "f8906a62",
   "metadata": {},
   "outputs": [
    {
     "name": "stdout",
     "output_type": "stream",
     "text": [
      "enter first number: 2\n",
      "enter second number: 2\n",
      "enter third number: 2\n",
      "Smallest is:  2\n"
     ]
    }
   ],
   "source": [
    "a = int(input('enter first number: '))\n",
    "b = int(input('enter second number: '))\n",
    "c = int(input('enter third number: '))\n",
    "\n",
    "if a<b and a<c:\n",
    "    print('Smallest is: ',a)\n",
    "elif b<c:\n",
    "        print('Smallest is: ',b)\n",
    "else:\n",
    "        print('Smallest is: ',c)"
   ]
  },
  {
   "cell_type": "code",
   "execution_count": 46,
   "id": "6729dc12",
   "metadata": {},
   "outputs": [
    {
     "name": "stdout",
     "output_type": "stream",
     "text": [
      "Enter fnum: 23\n",
      "Enter snum: 11\n",
      "Enter the Operation: +\n",
      "34\n"
     ]
    }
   ],
   "source": [
    "# Program - Menu Driven Calculator\n",
    "\n",
    "fnum = int(input('Enter fnum: '))\n",
    "snum = int(input('Enter snum: '))\n",
    "\n",
    "op = input('Enter the Operation: ')\n",
    "\n",
    "if op == '+':\n",
    "    print(fnum+snum)\n",
    "elif op == '-':\n",
    "    print(fnum-snum)\n",
    "elif op == '*':\n",
    "    print(fnum*snum)\n",
    "else:\n",
    "    print(fnum/snum)"
   ]
  },
  {
   "cell_type": "code",
   "execution_count": 47,
   "id": "c9f8cf7e",
   "metadata": {},
   "outputs": [
    {
     "name": "stdout",
     "output_type": "stream",
     "text": [
      "Enter fnum: 11\n",
      "Enter snum: 5\n",
      "Enter the Operation: *\n",
      "55\n"
     ]
    }
   ],
   "source": [
    "# Program - Menu Driven Calculator\n",
    "\n",
    "fnum = int(input('Enter fnum: '))\n",
    "snum = int(input('Enter snum: '))\n",
    "\n",
    "op = input('Enter the Operation: ')\n",
    "\n",
    "if op == '+':\n",
    "    print(fnum+snum)\n",
    "elif op == '-':\n",
    "    print(fnum-snum)\n",
    "elif op == '*':\n",
    "    print(fnum*snum)\n",
    "else:\n",
    "    print(fnum/snum)"
   ]
  },
  {
   "cell_type": "code",
   "execution_count": 48,
   "id": "61fb1664",
   "metadata": {},
   "outputs": [
    {
     "name": "stdout",
     "output_type": "stream",
     "text": [
      " \n",
      "Hi! how can i help you.\n",
      "1. Enter 1 for Pin Change\n",
      "2. Enter 2 for Balance Check\n",
      "3. Enter 3 for Transfer Money\n",
      "4. Enter 4 for Exit\n",
      "1\n",
      "Your pin has been changed\n"
     ]
    }
   ],
   "source": [
    "# Menu Driven if-else example\n",
    "\n",
    "menu = input(\"\"\" \n",
    "Hi! how can i help you.\n",
    "1. Enter 1 for Pin Change\n",
    "2. Enter 2 for Balance Check\n",
    "3. Enter 3 for Transfer Money\n",
    "4. Enter 4 for Exit\n",
    "\"\"\")\n",
    "\n",
    "if menu == '1':\n",
    "    print('Your pin has been changed')\n",
    "elif menu == '2':\n",
    "    print('Your Current Balance is 112023')\n",
    "elif menu == '3':\n",
    "    print('Amount Transferred')\n",
    "else:\n",
    "    print('Logged Out')"
   ]
  },
  {
   "cell_type": "code",
   "execution_count": 49,
   "id": "0d71665e",
   "metadata": {},
   "outputs": [
    {
     "name": "stdout",
     "output_type": "stream",
     "text": [
      " \n",
      "Hi! how can i help you.\n",
      "1. Enter 1 for Pin Change\n",
      "2. Enter 2 for Balance Check\n",
      "3. Enter 3 for Transfer Money\n",
      "4. Enter 4 for Exit\n",
      "2\n",
      "Your Current Balance is 112023\n"
     ]
    }
   ],
   "source": [
    "# Menu Driven if-else example\n",
    "\n",
    "menu = input(\"\"\" \n",
    "Hi! how can i help you.\n",
    "1. Enter 1 for Pin Change\n",
    "2. Enter 2 for Balance Check\n",
    "3. Enter 3 for Transfer Money\n",
    "4. Enter 4 for Exit\n",
    "\"\"\")\n",
    "\n",
    "if menu == '1':\n",
    "    print('Your pin has been changed')\n",
    "elif menu == '2':\n",
    "    print('Your Current Balance is 112023')\n",
    "elif menu == '3':\n",
    "    print('Amount Transferred')\n",
    "else:\n",
    "    print('Logged Out')"
   ]
  },
  {
   "cell_type": "code",
   "execution_count": 50,
   "id": "e8950413",
   "metadata": {},
   "outputs": [
    {
     "name": "stdout",
     "output_type": "stream",
     "text": [
      " \n",
      "Hi! how can i help you.\n",
      "1. Enter 1 for Pin Change\n",
      "2. Enter 2 for Balance Check\n",
      "3. Enter 3 for Transfer Money\n",
      "4. Enter 4 for Exit\n",
      "3\n",
      "Amount Transferred\n"
     ]
    }
   ],
   "source": [
    "# Menu Driven if-else example\n",
    "\n",
    "menu = input(\"\"\" \n",
    "Hi! how can i help you.\n",
    "1. Enter 1 for Pin Change\n",
    "2. Enter 2 for Balance Check\n",
    "3. Enter 3 for Transfer Money\n",
    "4. Enter 4 for Exit\n",
    "\"\"\")\n",
    "\n",
    "if menu == '1':\n",
    "    print('Your pin has been changed')\n",
    "elif menu == '2':\n",
    "    print('Your Current Balance is 112023')\n",
    "elif menu == '3':\n",
    "    print('Amount Transferred')\n",
    "else:\n",
    "    print('Logged Out')"
   ]
  },
  {
   "cell_type": "markdown",
   "id": "918e5d9d",
   "metadata": {},
   "source": [
    "## Modules in Python"
   ]
  },
  {
   "cell_type": "markdown",
   "id": "4991dba7",
   "metadata": {},
   "source": [
    "#### Math Module:"
   ]
  },
  {
   "cell_type": "code",
   "execution_count": 51,
   "id": "ca570228",
   "metadata": {},
   "outputs": [],
   "source": [
    "# import math library\n",
    "import math\n"
   ]
  },
  {
   "cell_type": "code",
   "execution_count": 52,
   "id": "7c507326",
   "metadata": {},
   "outputs": [
    {
     "data": {
      "text/plain": [
       "2"
      ]
     },
     "execution_count": 52,
     "metadata": {},
     "output_type": "execute_result"
    }
   ],
   "source": [
    "math.factorial(2)"
   ]
  },
  {
   "cell_type": "code",
   "execution_count": 53,
   "id": "dc37f407",
   "metadata": {},
   "outputs": [
    {
     "data": {
      "text/plain": [
       "6"
      ]
     },
     "execution_count": 53,
     "metadata": {},
     "output_type": "execute_result"
    }
   ],
   "source": [
    "math.floor(6.8)"
   ]
  },
  {
   "cell_type": "code",
   "execution_count": 54,
   "id": "eb7b5200",
   "metadata": {},
   "outputs": [
    {
     "data": {
      "text/plain": [
       "2.0"
      ]
     },
     "execution_count": 54,
     "metadata": {},
     "output_type": "execute_result"
    }
   ],
   "source": [
    "math.sqrt(4)"
   ]
  },
  {
   "cell_type": "markdown",
   "id": "2f45ff7e",
   "metadata": {},
   "source": [
    "#### Keyword Module:"
   ]
  },
  {
   "cell_type": "code",
   "execution_count": 55,
   "id": "3439389f",
   "metadata": {},
   "outputs": [],
   "source": [
    "# import keyword library\n",
    "\n",
    "import keyword"
   ]
  },
  {
   "cell_type": "code",
   "execution_count": 56,
   "id": "4adf20d0",
   "metadata": {},
   "outputs": [
    {
     "name": "stdout",
     "output_type": "stream",
     "text": [
      "['False', 'None', 'True', 'and', 'as', 'assert', 'async', 'await', 'break', 'class', 'continue', 'def', 'del', 'elif', 'else', 'except', 'finally', 'for', 'from', 'global', 'if', 'import', 'in', 'is', 'lambda', 'nonlocal', 'not', 'or', 'pass', 'raise', 'return', 'try', 'while', 'with', 'yield']\n"
     ]
    }
   ],
   "source": [
    "print(keyword.kwlist)\n",
    "\n",
    "# it will print the list of all python keywords"
   ]
  },
  {
   "cell_type": "markdown",
   "id": "c233b295",
   "metadata": {},
   "source": [
    "#### Random Module:"
   ]
  },
  {
   "cell_type": "code",
   "execution_count": 57,
   "id": "cb2f8107",
   "metadata": {},
   "outputs": [],
   "source": [
    "# import random modele\n",
    "import random\n"
   ]
  },
  {
   "cell_type": "code",
   "execution_count": 58,
   "id": "69c278a4",
   "metadata": {},
   "outputs": [
    {
     "name": "stdout",
     "output_type": "stream",
     "text": [
      "12\n"
     ]
    }
   ],
   "source": [
    "print(random.randint(1,20))"
   ]
  },
  {
   "cell_type": "markdown",
   "id": "896c6a71",
   "metadata": {},
   "source": [
    "#### Datetime Module:"
   ]
  },
  {
   "cell_type": "code",
   "execution_count": 59,
   "id": "70690685",
   "metadata": {},
   "outputs": [],
   "source": [
    "# import datetime library\n",
    "\n",
    "import datetime"
   ]
  },
  {
   "cell_type": "code",
   "execution_count": 60,
   "id": "7d98f04b",
   "metadata": {},
   "outputs": [
    {
     "name": "stdout",
     "output_type": "stream",
     "text": [
      "2023-12-11 07:50:54.911273\n"
     ]
    }
   ],
   "source": [
    "print(datetime.datetime.now())"
   ]
  },
  {
   "cell_type": "code",
   "execution_count": 61,
   "id": "9ab67e67",
   "metadata": {},
   "outputs": [
    {
     "name": "stdout",
     "output_type": "stream",
     "text": [
      "\n",
      "Please wait a moment while I gather a list of all available modules...\n",
      "\n"
     ]
    },
    {
     "name": "stderr",
     "output_type": "stream",
     "text": [
      "WARNING: AstropyDeprecationWarning: The private astropy._erfa module has been made into its own package, pyerfa, which is a dependency of astropy and can be imported directly using \"import erfa\" [astropy._erfa]\n",
      "/Users/satya.ps/anaconda3/lib/python3.10/site-packages/caffe2/__init__.py:5: UserWarning: Caffe2 support is not fully enabled in this PyTorch build. Please enable Caffe2 by building PyTorch from source with `BUILD_CAFFE2=1` flag.\n",
      "  warnings.warn(\"Caffe2 support is not fully enabled in this PyTorch build. \"\n",
      "/Users/satya.ps/anaconda3/lib/python3.10/site-packages/caffe2/proto/__init__.py:17: UserWarning: Caffe2 support is not enabled in this PyTorch build. Please enable Caffe2 by building PyTorch from source with `BUILD_CAFFE2=1` flag.\n",
      "  warnings.warn('Caffe2 support is not enabled in this PyTorch build. '\n",
      "/Users/satya.ps/anaconda3/lib/python3.10/site-packages/caffe2/proto/__init__.py:17: UserWarning: Caffe2 support is not enabled in this PyTorch build. Please enable Caffe2 by building PyTorch from source with `BUILD_CAFFE2=1` flag.\n",
      "  warnings.warn('Caffe2 support is not enabled in this PyTorch build. '\n",
      "/Users/satya.ps/anaconda3/lib/python3.10/site-packages/caffe2/python/__init__.py:9: UserWarning: Caffe2 support is not enabled in this PyTorch build. Please enable Caffe2 by building PyTorch from source with `BUILD_CAFFE2=1` flag.\n",
      "  warnings.warn('Caffe2 support is not enabled in this PyTorch build. '\n",
      "/Users/satya.ps/anaconda3/lib/python3.10/site-packages/llvmlite/llvmpy/__init__.py:3: UserWarning: The module `llvmlite.llvmpy` is deprecated and will be removed in the future.\n",
      "  warnings.warn(\n",
      "/Users/satya.ps/anaconda3/lib/python3.10/site-packages/nltk/twitter/__init__.py:20: UserWarning: The twython library has not been installed. Some functionality from the twitter package will not be available.\n",
      "  warnings.warn(\n",
      "/Users/satya.ps/anaconda3/lib/python3.10/pkgutil.py:92: UserWarning: The numpy.array_api submodule is still experimental. See NEP 47.\n",
      "  __import__(info.name)\n",
      "/Users/satya.ps/anaconda3/lib/python3.10/site-packages/_distutils_hack/__init__.py:33: UserWarning: Setuptools is replacing distutils.\n",
      "  warnings.warn(\"Setuptools is replacing distutils.\")\n",
      "/Users/satya.ps/anaconda3/lib/python3.10/pkgutil.py:92: UserWarning:\n",
      "\n",
      "viewer requires Qt\n",
      "\n",
      "No QCoreApplication instance found. Application patches not applied. You have to call load_stylesheet function after instantiation of QApplication to take effect. \n",
      "NOTE: Redirects are currently not supported in Windows or MacOs.\n",
      "/Users/satya.ps/anaconda3/lib/python3.10/pkgutil.py:107: VisibleDeprecationWarning:\n",
      "\n",
      "zmq.eventloop.minitornado is deprecated in pyzmq 14.0 and will be removed.\n",
      "    Install tornado itself to use zmq with the tornado IOLoop.\n",
      "    \n",
      "\n"
     ]
    },
    {
     "name": "stdout",
     "output_type": "stream",
     "text": [
      "AppKit              certifi             jupyterlab_pygments requests_file\n",
      "Cocoa               cffi                jupyterlab_server   requests_oauthlib\n",
      "CoreFoundation      cgi                 jupyterlab_widgets  resource\n",
      "CoreServices        cgitb               jwt                 rich\n",
      "FSEvents            chardet             keyring             rlcompleter\n",
      "Foundation          charset_normalizer  keyword             rope\n",
      "IPython             chunk               kiwisolver          rsa\n",
      "OpenSSL             click               lazy_object_proxy   rtree\n",
      "PIL                 clint               lib2to3             ruamel_yaml\n",
      "PyQt5               cloudpickle         libarchive          runpy\n",
      "TBB                 clyent              libfuturize         sched\n",
      "__future__          cmath               libpasteurize       scipy\n",
      "_abc                cmd                 lief                scrapy\n",
      "_aix_support        code                linecache           seaborn\n",
      "_argon2_cffi_bindings codecs              llvmlite            secrets\n",
      "_ast                codeop              locale              select\n",
      "_asyncio            collections         locket              selectors\n",
      "_bisect             colorama            logging             send2trash\n",
      "_black_version      colorcet            lxml                service_identity\n",
      "_blake2             colorsys            lz4                 setuptools\n",
      "_bootsubprocess     comm                lzma                shelve\n",
      "_bz2                compileall          mactypes            shlex\n",
      "_cffi_backend       concurrent          mailbox             shutil\n",
      "_codecs             conda               mailcap             signal\n",
      "_codecs_cn          conda_build         markdown            sipbuild\n",
      "_codecs_hk          conda_content_trust markdown_it         site\n",
      "_codecs_iso2022     conda_env           markupsafe          six\n",
      "_codecs_jp          conda_index         marshal             skimage\n",
      "_codecs_kr          conda_pack          math                sklearn\n",
      "_codecs_tw          conda_package_handling matplotlib          slugify\n",
      "_collections        conda_package_streaming matplotlib_inline   smart_open\n",
      "_collections_abc    conda_token         mccabe              smmap\n",
      "_compat_pickle      conda_verify        mdurl               smtpd\n",
      "_compression        configparser        mimetypes           smtplib\n",
      "_contextvars        constantly          mistune             snappy\n",
      "_crypt              contextlib          mmap                sndhdr\n",
      "_csv                contextvars         mock                sniffio\n",
      "_ctypes             contourpy           modulefinder        snowballstemmer\n",
      "_ctypes_test        cookiecutter        more_itertools      socket\n",
      "_curses             copy                mpmath              socketserver\n",
      "_curses_panel       copyreg             msgpack             socks\n",
      "_datetime           crypt               multipledispatch    sockshandler\n",
      "_dbm                cryptography        multiprocessing     sortedcontainers\n",
      "_decimal            cssselect           munkres             soupsieve\n",
      "_distutils_hack     csv                 mypy_extensions     sphinx\n",
      "_elementtree        ctypes              mysql               spyder\n",
      "_functools          curl                mysqlx              spyder_kernels\n",
      "_hashlib            curses              navigator_updater   sqlalchemy\n",
      "_heapq              cycler              nbclassic           sqlite3\n",
      "_imp                cytoolz             nbclient            sre_compile\n",
      "_io                 dask                nbconvert           sre_constants\n",
      "_json               dataclasses         nbformat            sre_parse\n",
      "_locale             datashader          nest_asyncio        ssl\n",
      "_lsprof             datashape           netrc               stack_data\n",
      "_lzma               datetime            networkx            stat\n",
      "_markupbase         dateutil            nis                 statistics\n",
      "_md5                dbm                 nltk                statsmodels\n",
      "_multibytecodec     debugpy             nntplib             streamlit\n",
      "_multiprocessing    decimal             notebook            string\n",
      "_opcode             decorator           notebook_shim       stringprep\n",
      "_operator           defusedxml          ntpath              struct\n",
      "_osx_support        diff_match_patch    nturl2path          subprocess\n",
      "_pickle             difflib             numba               sunau\n",
      "_plotly_future_     dill                numbergen           sympy\n",
      "_plotly_utils       dis                 numbers             symtable\n",
      "_posixshmem         distributed         numexpr             sys\n",
      "_posixsubprocess    distutils           numpy               sysconfig\n",
      "_py_abc             docstring_to_markdown numpydoc            syslog\n",
      "_pydecimal          doctest             oauthlib            tables\n",
      "_pyio               docutils            objc                tabnanny\n",
      "_pyrsistent_version email               opcode              tabulate\n",
      "_pytest             encodings           openpyxl            tarfile\n",
      "_queue              ensurepip           operator            tbb\n",
      "_random             entrypoints         optparse            tblib\n",
      "_ruamel_yaml        enum                os                  telnetlib\n",
      "_scproxy            erfa                osax                tempfile\n",
      "_sha1               errno               packaging           tenacity\n",
      "_sha256             et_xmlfile          pandas              terminado\n",
      "_sha3               executing           pandocfilters       termios\n",
      "_sha512             fastjsonschema      panel               test\n",
      "_signal             faulthandler        param               test_pycosat\n",
      "_sitebuiltins       fcntl               parsel              text_unidecode\n",
      "_socket             filecmp             parso               textblob\n",
      "_sqlite3            fileinput           partd               textdistance\n",
      "_sre                filelock            past                textplot\n",
      "_ssl                flake8              pathlib             textwrap\n",
      "_stat               flask               pathspec            this\n",
      "_statistics         flit_core           patsy               threading\n",
      "_string             fnmatch             pdb                 threadpoolctl\n",
      "_strptime           folium              pep8                three_merge\n",
      "_struct             fontTools           pexpect             tifffile\n",
      "_symtable           fractions           pickle              time\n",
      "_sysconfigdata__darwin_darwin fsspec              pickleshare         timeit\n",
      "_sysconfigdata_x86_64_apple_darwin13_4_0 ftplib              pickletools         tinycss2\n",
      "_testbuffer         functools           pip                 tkinter\n",
      "_testcapi           future              pipes               tldextract\n",
      "_testimportmultiple gc                  pkg_resources       tlz\n",
      "_testinternalcapi   genericpath         pkginfo             token\n",
      "_testmultiphase     gensim              pkgutil             tokenize\n",
      "_thread             getopt              platform            tokenizers\n",
      "_threading_local    getpass             platformdirs        toml\n",
      "_tkinter            gettext             plistlib            tomli\n",
      "_tracemalloc        git                 plotly              tomlkit\n",
      "_uuid               gitdb               pluggy              toolz\n",
      "_warnings           glob                ply                 torch\n",
      "_watchdog_fsevents  glob2               pooch               torchgen\n",
      "_weakref            gmpy2               poplib              tornado\n",
      "_weakrefset         google_auth_oauthlib posix               tqdm\n",
      "_xxsubinterpreters  graphlib            posixpath           trace\n",
      "_xxtestfuzz         greenlet            poyo                traceback\n",
      "_yaml               grp                 pprint              tracemalloc\n",
      "_zoneinfo           gspread             profile             traitlets\n",
      "abc                 gzip                prometheus_client   transformers\n",
      "aem                 h5py                prompt_toolkit      truststore\n",
      "aifc                hamcrest            protego             tty\n",
      "alabaster           hashlib             pstats              turtle\n",
      "altair              heapdict            psutil              turtledemo\n",
      "anaconda_navigator  heapq               pty                 twisted\n",
      "anaconda_project    hmac                ptyprocess          types\n",
      "antigravity         holoviews           pure_eval           typing\n",
      "anyio               html                pvectorc            typing_extensions\n",
      "appdirs             http                pwd                 tzlocal\n",
      "applaunchservices   huggingface_hub     py                  ujson\n",
      "appnope             hvplot              py_compile          unicodedata\n",
      "appscript           hyperlink           pyarrow             unidecode\n",
      "argon2              idlelib             pyasn1              unittest\n",
      "argparse            idna                pyasn1_modules      urllib\n",
      "args                imagecodecs         pyclbr              urllib3\n",
      "array               imageio             pycodestyle         uu\n",
      "arrow               imagesize           pycosat             uuid\n",
      "ast                 imaplib             pycparser           validators\n",
      "astroid             imblearn            pyct                venv\n",
      "astropy             imghdr              pycurl              w3lib\n",
      "asttokens           imp                 pydeck              warnings\n",
      "asynchat            importlib           pydispatch          watchdog\n",
      "asyncio             importlib_metadata  pydoc               wave\n",
      "asyncore            incremental         pydoc_data          wcwidth\n",
      "atexit              inflection          pydocstyle          weakref\n",
      "atomicwrites        iniconfig           pyexpat             webbrowser\n",
      "attr                inspect             pyflakes            webencodings\n",
      "attrs               intake              pygments            websocket\n",
      "audioop             intervaltree        pylab               werkzeug\n",
      "automat             io                  pylint              whatthepatch\n",
      "autopep8            ipaddress           pylint_venv         wheel\n",
      "babel               ipykernel           pyls_spyder         widgetsnbextension\n",
      "backcall            ipykernel_launcher  pylsp               wordcloud\n",
      "backports           ipython_genutils    pylsp_black         wrapt\n",
      "base64              ipywidgets          pylsp_jsonrpc       wsgiref\n",
      "bcrypt              isort               pymysql             wurlitzer\n",
      "bdb                 isympy              pyodbc              xarray\n",
      "binaryornot         itemadapter         pyparsing           xdrlib\n",
      "binascii            itemloaders         pyrsistent          xlwings\n",
      "binhex              itertools           pytest              xml\n",
      "binstar_client      itsdangerous        pytoolconfig        xmlrpc\n",
      "bisect              jedi                pytz                xxlimited\n",
      "black               jellyfish           pyviz_comms         xxlimited_35\n",
      "blackd              jinja2              pywt                xxsubtype\n",
      "bleach              jinja2_time         qdarkstyle          yaml\n",
      "blib2to3            jmespath            qstylizer           yapf\n",
      "blinker             joblib              qtawesome           yapftests\n",
      "bokeh               json                qtconsole           zict\n",
      "boltons             json5               qtpy                zipapp\n",
      "bottleneck          jsonpatch           queue               zipfile\n",
      "branca              jsonpointer         queuelib            zipimport\n",
      "brotli              jsonschema          quopri              zipp\n",
      "bs4                 jupyter             random              zlib\n",
      "builtins            jupyter_client      re                  zmq\n",
      "bz2                 jupyter_console     readline            zoneinfo\n",
      "cProfile            jupyter_core        regex               zope\n",
      "cachetools          jupyter_server      repo_cli            zstandard\n",
      "caffe2              jupyterlab          reprlib             \n",
      "calendar            jupyterlab_plotly   requests            \n",
      "\n",
      "Enter any module name to get more help.  Or, type \"modules spam\" to search\n",
      "for modules whose name or summary contain the string \"spam\".\n",
      "\n"
     ]
    }
   ],
   "source": [
    "## To check how many modules are available in python\n",
    "\n",
    "help('modules')"
   ]
  },
  {
   "cell_type": "markdown",
   "id": "0f0e1bc7",
   "metadata": {},
   "source": [
    "## 12. Loops in Python\n",
    "\n",
    "- In Python, loops are used to repeatedly execute a block of code. There are two main types of loops in Python: for loops and while loops."
   ]
  },
  {
   "cell_type": "markdown",
   "id": "3a94d5a5",
   "metadata": {},
   "source": [
    "### For Loops: \n",
    "\n",
    "- 'for' loops are used to iterate over a sequence (such as a list, tuple, string, or range) and perform a set of operations for each element in the sequence.  \n",
    "- They are suitable when you know the number of iterations in advance."
   ]
  },
  {
   "cell_type": "code",
   "execution_count": 62,
   "id": "facab941",
   "metadata": {},
   "outputs": [
    {
     "name": "stdout",
     "output_type": "stream",
     "text": [
      "apple\n",
      "banana\n",
      "cherry\n"
     ]
    }
   ],
   "source": [
    "fruits = [\"apple\", \"banana\", \"cherry\"]\n",
    "for fruit in fruits:\n",
    "    print(fruit)"
   ]
  },
  {
   "cell_type": "markdown",
   "id": "c7478a0a",
   "metadata": {},
   "source": [
    "### While Loops:\n",
    "\n",
    "- 'while' loops are used to repeatedly execute a block of code as long as a specified condition is True.  \n",
    "- They are suitable when the number of iterations is not known in advance."
   ]
  },
  {
   "cell_type": "code",
   "execution_count": 63,
   "id": "db335aa9",
   "metadata": {},
   "outputs": [
    {
     "name": "stdout",
     "output_type": "stream",
     "text": [
      "Count: 0\n",
      "Count: 1\n",
      "Count: 2\n",
      "Count: 3\n",
      "Count: 4\n"
     ]
    }
   ],
   "source": [
    "count = 0\n",
    "while count < 5:\n",
    "    print(\"Count:\", count)\n",
    "    count += 1\n"
   ]
  },
  {
   "cell_type": "markdown",
   "id": "64c01c4a",
   "metadata": {},
   "source": [
    "- In both types of loops, you can use control flow statements like 'break' to exit the loop prematurely and 'continue' to skip the current iteration and proceed to the next one."
   ]
  },
  {
   "cell_type": "markdown",
   "id": "1daadfc0",
   "metadata": {},
   "source": [
    "-  Loops are a fundamental part of programming and allow you to automate repetitive tasks, process data, and make your code more efficient and flexible. They are essential for iterating through collections, performing calculations, and handling dynamic data."
   ]
  },
  {
   "cell_type": "code",
   "execution_count": 64,
   "id": "fd89d6c1",
   "metadata": {},
   "outputs": [
    {
     "name": "stdout",
     "output_type": "stream",
     "text": [
      "enter the number23\n",
      "23\n",
      "46\n",
      "69\n",
      "92\n",
      "115\n",
      "138\n",
      "161\n",
      "184\n",
      "207\n",
      "230\n"
     ]
    }
   ],
   "source": [
    "# While loop example ---> program to print the table\n",
    "\n",
    "number = int(input('enter the number'))\n",
    "\n",
    "i = 1\n",
    "\n",
    "while i<11:\n",
    "    print(number * i)\n",
    "    i += 1"
   ]
  },
  {
   "cell_type": "code",
   "execution_count": 65,
   "id": "9dea09bf",
   "metadata": {},
   "outputs": [
    {
     "name": "stdout",
     "output_type": "stream",
     "text": [
      "enter the number11\n",
      "11 * 1 = 11\n",
      "11 * 2 = 22\n",
      "11 * 3 = 33\n",
      "11 * 4 = 44\n",
      "11 * 5 = 55\n",
      "11 * 6 = 66\n",
      "11 * 7 = 77\n",
      "11 * 8 = 88\n",
      "11 * 9 = 99\n",
      "11 * 10 = 110\n"
     ]
    }
   ],
   "source": [
    "# Same example in beautified way\n",
    "\n",
    "number = int(input('enter the number'))\n",
    "\n",
    "i = 1\n",
    "\n",
    "while i<11:\n",
    "    print(number,'*',i,'=',number * i)\n",
    "    i += 1"
   ]
  },
  {
   "cell_type": "code",
   "execution_count": 66,
   "id": "ee140664",
   "metadata": {},
   "outputs": [
    {
     "name": "stdout",
     "output_type": "stream",
     "text": [
      "1\n",
      "2\n",
      "limit crossed\n"
     ]
    }
   ],
   "source": [
    "# while loop with else\n",
    "\n",
    "x = 1\n",
    "while x < 3:\n",
    "    print(x)\n",
    "    x += 1\n",
    "else:\n",
    "    print('limit crossed')"
   ]
  },
  {
   "cell_type": "code",
   "execution_count": 68,
   "id": "21ddfc74",
   "metadata": {},
   "outputs": [
    {
     "name": "stdout",
     "output_type": "stream",
     "text": [
      "Guess the number (1-100): 88\n",
      "Better luck next time, select a lower number\n",
      "Guess the number (1-100): 45\n",
      "Better luck next time, select a higher number\n",
      "Guess the number (1-100): 69\n",
      "Better luck next time, select a higher number\n",
      "Guess the number (1-100): 79\n",
      "Better luck next time, select a lower number\n",
      "Guess the number (1-100): 71\n",
      "Better luck next time, select a higher number\n",
      "Guess the number (1-100): 75\n",
      "Better luck next time, select a lower number\n",
      "Guess the number (1-100): 73\n",
      "Better luck next time, select a higher number\n",
      "Guess the number (1-100): 72\n",
      "Better luck next time, select a higher number\n",
      "Guess the number (1-100): 74\n",
      "Congratulations, You Won the Jackpot!\n",
      "Number of Attempts: 9\n"
     ]
    }
   ],
   "source": [
    "# Guessing Game\n",
    "\n",
    "# generate a random integer between 1 and 100\n",
    "\n",
    "import random\n",
    "\n",
    "jackpot = random.randint(1, 100)\n",
    "counter = 0  # Initialize the counter to 0\n",
    "\n",
    "while True:\n",
    "    guess = int(input('Guess the number (1-100): '))\n",
    "    counter += 1\n",
    "\n",
    "    if guess < jackpot:\n",
    "        print('Better luck next time, select a higher number')\n",
    "    elif guess > jackpot:\n",
    "        print('Better luck next time, select a lower number')\n",
    "    else:\n",
    "        print('Congratulations, You Won the Jackpot!')\n",
    "        print('Number of Attempts:', counter)\n",
    "        break  # Exit the loop when the correct guess is made"
   ]
  },
  {
   "cell_type": "code",
   "execution_count": 69,
   "id": "68e7ec2c",
   "metadata": {},
   "outputs": [
    {
     "name": "stdout",
     "output_type": "stream",
     "text": [
      "1\n",
      "2\n",
      "3\n",
      "4\n",
      "5\n",
      "6\n",
      "7\n",
      "8\n",
      "9\n",
      "10\n"
     ]
    }
   ],
   "source": [
    "# for Loop demo\n",
    "\n",
    "for i in range(1,11):\n",
    "    print(i)"
   ]
  },
  {
   "cell_type": "code",
   "execution_count": 70,
   "id": "24ee40b8",
   "metadata": {},
   "outputs": [
    {
     "name": "stdout",
     "output_type": "stream",
     "text": [
      "1\n",
      "3\n",
      "5\n",
      "7\n",
      "9\n"
     ]
    }
   ],
   "source": [
    "# demo 2\n",
    "\n",
    "for i in range(1,11,2):\n",
    "    print(i)"
   ]
  },
  {
   "cell_type": "code",
   "execution_count": 71,
   "id": "e725521a",
   "metadata": {},
   "outputs": [
    {
     "name": "stdout",
     "output_type": "stream",
     "text": [
      "10\n",
      "9\n",
      "8\n",
      "7\n",
      "6\n",
      "5\n",
      "4\n",
      "3\n",
      "2\n",
      "1\n"
     ]
    }
   ],
   "source": [
    "# demo 3\n",
    "for i in range(10,0,-1):\n",
    "    print(i)"
   ]
  },
  {
   "cell_type": "code",
   "execution_count": 72,
   "id": "86408756",
   "metadata": {},
   "outputs": [
    {
     "name": "stdout",
     "output_type": "stream",
     "text": [
      "D\n",
      "e\n",
      "l\n",
      "h\n",
      "i\n"
     ]
    }
   ],
   "source": [
    "for i in 'Delhi':\n",
    "    print(i)"
   ]
  },
  {
   "cell_type": "code",
   "execution_count": 73,
   "id": "ac90683c",
   "metadata": {},
   "outputs": [
    {
     "name": "stdout",
     "output_type": "stream",
     "text": [
      "1\n",
      "2\n",
      "3\n",
      "4\n",
      "5\n"
     ]
    }
   ],
   "source": [
    "for i in [1, 2, 3, 4, 5]:\n",
    "    print(i)"
   ]
  },
  {
   "cell_type": "markdown",
   "id": "fd426477",
   "metadata": {},
   "source": [
    "#### Programe - for loop example\n",
    "\n",
    "- Program - The current population of a town is 10000. The population of the town is increasing at the rate of 10% per year. You have to write a program to find out the population at the end of each of the last 10 years."
   ]
  },
  {
   "cell_type": "code",
   "execution_count": 75,
   "id": "68270447",
   "metadata": {},
   "outputs": [
    {
     "name": "stdout",
     "output_type": "stream",
     "text": [
      "10 10000\n",
      "9 9000.0\n",
      "8 8100.0\n",
      "7 7290.0\n",
      "6 6561.0\n",
      "5 5904.9\n",
      "4 5314.41\n",
      "3 4782.969\n",
      "2 4304.6721\n",
      "1 3874.20489\n"
     ]
    }
   ],
   "source": [
    "curr_pop = 10000\n",
    "\n",
    "for i in range(10,0,-1):\n",
    "    print(i, curr_pop)\n",
    "    curr_pop = curr_pop - 0.1*curr_pop"
   ]
  },
  {
   "cell_type": "markdown",
   "id": "f46ef22a",
   "metadata": {},
   "source": [
    "# --------------------------------------------------------------------------------------\n",
    " - #### Tasks of Session 2: https://colab.research.google.com/drive/13DXTOC5mQUcVw2VAnY4xFnqIhWXfjcw2?usp=sharing\n",
    "# -------------------------------------------------------------------------------------- "
   ]
  }
 ],
 "metadata": {
  "kernelspec": {
   "display_name": "Python 3 (ipykernel)",
   "language": "python",
   "name": "python3"
  },
  "language_info": {
   "codemirror_mode": {
    "name": "ipython",
    "version": 3
   },
   "file_extension": ".py",
   "mimetype": "text/x-python",
   "name": "python",
   "nbconvert_exporter": "python",
   "pygments_lexer": "ipython3",
   "version": "3.10.9"
  }
 },
 "nbformat": 4,
 "nbformat_minor": 5
}
