{
 "cells": [
  {
   "cell_type": "markdown",
   "id": "f8ae7948",
   "metadata": {},
   "source": [
    "# --------------------------------------------------------------------------------------\n",
    "# Session 11 - Exception Handling in Python\n",
    "\n",
    "  - Video URL: https://youtu.be/rvKR6tciJ2Q  \n",
    "  - Code URL: https://colab.research.google.com/drive/1-yYl5wagPH1ctS_x-RBDyMFj-ez8hWvS?usp=sharing  \n",
    "# --------------------------------------------------------------------------------------"
   ]
  },
  {
   "cell_type": "markdown",
   "id": "a1174e45",
   "metadata": {},
   "source": [
    "## Exception Handling:\n",
    "\n",
    " - There are two stages where error may happen in a program\n",
    "   - During Compilation --> Due to Syntax Error\n",
    "   - During Execution   --> Exceptions"
   ]
  },
  {
   "cell_type": "markdown",
   "id": "666f0fb4",
   "metadata": {},
   "source": [
    "### Syntax Error:\n",
    "  - Something in the program is not written according to the program grammar.\n",
    "  - Error is raised by the interpreter/compiler\n",
    "  - You can solve it by rectifying the program"
   ]
  },
  {
   "cell_type": "code",
   "execution_count": 2,
   "id": "8afe597b",
   "metadata": {},
   "outputs": [
    {
     "ename": "SyntaxError",
     "evalue": "Missing parentheses in call to 'print'. Did you mean print(...)? (2128387212.py, line 3)",
     "output_type": "error",
     "traceback": [
      "\u001b[0;36m  Cell \u001b[0;32mIn[2], line 3\u001b[0;36m\u001b[0m\n\u001b[0;31m    print 'hello world'\u001b[0m\n\u001b[0m    ^\u001b[0m\n\u001b[0;31mSyntaxError\u001b[0m\u001b[0;31m:\u001b[0m Missing parentheses in call to 'print'. Did you mean print(...)?\n"
     ]
    }
   ],
   "source": [
    "# Example of syntax error\n",
    "\n",
    "print 'hello world'"
   ]
  },
  {
   "cell_type": "markdown",
   "id": "1919e83e",
   "metadata": {},
   "source": [
    "### Other examples of syntax error\n",
    "  - Leaving symbols like colon, brackets\n",
    "  - Misspelling a Keyword\n",
    "  - Incorrect Indentation\n",
    "  - Empty if / else / loopclass / functions"
   ]
  },
  {
   "cell_type": "code",
   "execution_count": 7,
   "id": "838f717e",
   "metadata": {},
   "outputs": [
    {
     "ename": "SyntaxError",
     "evalue": "expected ':' (2395581159.py, line 3)",
     "output_type": "error",
     "traceback": [
      "\u001b[0;36m  Cell \u001b[0;32mIn[7], line 3\u001b[0;36m\u001b[0m\n\u001b[0;31m    if a==3\u001b[0m\n\u001b[0m           ^\u001b[0m\n\u001b[0;31mSyntaxError\u001b[0m\u001b[0;31m:\u001b[0m expected ':'\n"
     ]
    }
   ],
   "source": [
    "# syntax Errors examples\n",
    "a = 5\n",
    "if a==3\n",
    "    print('hello')\n"
   ]
  },
  {
   "cell_type": "code",
   "execution_count": 4,
   "id": "54636b91",
   "metadata": {},
   "outputs": [
    {
     "ename": "SyntaxError",
     "evalue": "invalid syntax (3234124072.py, line 2)",
     "output_type": "error",
     "traceback": [
      "\u001b[0;36m  Cell \u001b[0;32mIn[4], line 2\u001b[0;36m\u001b[0m\n\u001b[0;31m    iff a==3:\u001b[0m\n\u001b[0m        ^\u001b[0m\n\u001b[0;31mSyntaxError\u001b[0m\u001b[0;31m:\u001b[0m invalid syntax\n"
     ]
    }
   ],
   "source": [
    "a = 5\n",
    "iff a==3:\n",
    "    print('hello')"
   ]
  },
  {
   "cell_type": "code",
   "execution_count": 6,
   "id": "f0a825e4",
   "metadata": {},
   "outputs": [
    {
     "ename": "IndentationError",
     "evalue": "expected an indented block after 'if' statement on line 3 (469306208.py, line 4)",
     "output_type": "error",
     "traceback": [
      "\u001b[0;36m  Cell \u001b[0;32mIn[6], line 4\u001b[0;36m\u001b[0m\n\u001b[0;31m    print('hello')\u001b[0m\n\u001b[0m    ^\u001b[0m\n\u001b[0;31mIndentationError\u001b[0m\u001b[0;31m:\u001b[0m expected an indented block after 'if' statement on line 3\n"
     ]
    }
   ],
   "source": [
    "# Indentation Error\n",
    "a = 5\n",
    "if a==3:\n",
    "print('hello')"
   ]
  },
  {
   "cell_type": "code",
   "execution_count": 8,
   "id": "62f8d075",
   "metadata": {},
   "outputs": [
    {
     "ename": "IndexError",
     "evalue": "list index out of range",
     "output_type": "error",
     "traceback": [
      "\u001b[0;31m---------------------------------------------------------------------------\u001b[0m",
      "\u001b[0;31mIndexError\u001b[0m                                Traceback (most recent call last)",
      "Cell \u001b[0;32mIn[8], line 7\u001b[0m\n\u001b[1;32m      1\u001b[0m \u001b[38;5;66;03m# IndexError\u001b[39;00m\n\u001b[1;32m      2\u001b[0m \n\u001b[1;32m      3\u001b[0m \u001b[38;5;66;03m# The IndexError is thrown when a module could not be found.\u001b[39;00m\n\u001b[1;32m      6\u001b[0m L \u001b[38;5;241m=\u001b[39m [\u001b[38;5;241m1\u001b[39m,\u001b[38;5;241m2\u001b[39m,\u001b[38;5;241m3\u001b[39m]\n\u001b[0;32m----> 7\u001b[0m \u001b[43mL\u001b[49m\u001b[43m[\u001b[49m\u001b[38;5;241;43m100\u001b[39;49m\u001b[43m]\u001b[49m\n",
      "\u001b[0;31mIndexError\u001b[0m: list index out of range"
     ]
    }
   ],
   "source": [
    "# IndexError\n",
    "\n",
    "# The IndexError is thrown when a module could not be found.\n",
    "\n",
    "L = [1,2,3]\n",
    "L[100]"
   ]
  },
  {
   "cell_type": "code",
   "execution_count": 9,
   "id": "d03efb55",
   "metadata": {},
   "outputs": [
    {
     "ename": "ModuleNotFoundError",
     "evalue": "No module named 'mathi'",
     "output_type": "error",
     "traceback": [
      "\u001b[0;31m---------------------------------------------------------------------------\u001b[0m",
      "\u001b[0;31mModuleNotFoundError\u001b[0m                       Traceback (most recent call last)",
      "Cell \u001b[0;32mIn[9], line 5\u001b[0m\n\u001b[1;32m      1\u001b[0m \u001b[38;5;66;03m# ModuleNotFoundError\u001b[39;00m\n\u001b[1;32m      2\u001b[0m \n\u001b[1;32m      3\u001b[0m \u001b[38;5;66;03m# The ModuleNotFoundError is thrown when a module could not be found\u001b[39;00m\n\u001b[0;32m----> 5\u001b[0m \u001b[38;5;28;01mimport\u001b[39;00m \u001b[38;5;21;01mmathi\u001b[39;00m\n\u001b[1;32m      6\u001b[0m math\u001b[38;5;241m.\u001b[39mfloor(\u001b[38;5;241m5.3\u001b[39m)\n",
      "\u001b[0;31mModuleNotFoundError\u001b[0m: No module named 'mathi'"
     ]
    }
   ],
   "source": [
    "# ModuleNotFoundError\n",
    "\n",
    "# The ModuleNotFoundError is thrown when a module could not be found\n",
    "\n",
    "import mathi\n",
    "math.floor(5.3)"
   ]
  },
  {
   "cell_type": "code",
   "execution_count": 10,
   "id": "bc6cbec3",
   "metadata": {},
   "outputs": [
    {
     "ename": "KeyError",
     "evalue": "'age'",
     "output_type": "error",
     "traceback": [
      "\u001b[0;31m---------------------------------------------------------------------------\u001b[0m",
      "\u001b[0;31mKeyError\u001b[0m                                  Traceback (most recent call last)",
      "Cell \u001b[0;32mIn[10], line 6\u001b[0m\n\u001b[1;32m      1\u001b[0m \u001b[38;5;66;03m# KeyError\u001b[39;00m\n\u001b[1;32m      2\u001b[0m \n\u001b[1;32m      3\u001b[0m \u001b[38;5;66;03m# The KeyError is thrown when a key is not found\u001b[39;00m\n\u001b[1;32m      5\u001b[0m d \u001b[38;5;241m=\u001b[39m {\u001b[38;5;124m'\u001b[39m\u001b[38;5;124mname\u001b[39m\u001b[38;5;124m'\u001b[39m:\u001b[38;5;124m'\u001b[39m\u001b[38;5;124mPrakash\u001b[39m\u001b[38;5;124m'\u001b[39m}\n\u001b[0;32m----> 6\u001b[0m \u001b[43md\u001b[49m\u001b[43m[\u001b[49m\u001b[38;5;124;43m'\u001b[39;49m\u001b[38;5;124;43mage\u001b[39;49m\u001b[38;5;124;43m'\u001b[39;49m\u001b[43m]\u001b[49m\n",
      "\u001b[0;31mKeyError\u001b[0m: 'age'"
     ]
    }
   ],
   "source": [
    "# KeyError\n",
    "\n",
    "# The KeyError is thrown when a key is not found\n",
    "\n",
    "d = {'name':'Prakash'}\n",
    "d['age']"
   ]
  },
  {
   "cell_type": "code",
   "execution_count": 12,
   "id": "a3aca2c6",
   "metadata": {},
   "outputs": [
    {
     "ename": "TypeError",
     "evalue": "unsupported operand type(s) for +: 'int' and 'str'",
     "output_type": "error",
     "traceback": [
      "\u001b[0;31m---------------------------------------------------------------------------\u001b[0m",
      "\u001b[0;31mTypeError\u001b[0m                                 Traceback (most recent call last)",
      "Cell \u001b[0;32mIn[12], line 6\u001b[0m\n\u001b[1;32m      1\u001b[0m \u001b[38;5;66;03m# TypeError\u001b[39;00m\n\u001b[1;32m      2\u001b[0m \n\u001b[1;32m      3\u001b[0m \u001b[38;5;66;03m# The TypeError is thrown when a function's argument is of an inappropriate type.\u001b[39;00m\n\u001b[0;32m----> 6\u001b[0m \u001b[38;5;241;43m1\u001b[39;49m\u001b[38;5;241;43m+\u001b[39;49m\u001b[43m \u001b[49m\u001b[38;5;124;43m'\u001b[39;49m\u001b[38;5;124;43ma\u001b[39;49m\u001b[38;5;124;43m'\u001b[39;49m\n",
      "\u001b[0;31mTypeError\u001b[0m: unsupported operand type(s) for +: 'int' and 'str'"
     ]
    }
   ],
   "source": [
    "# TypeError\n",
    "\n",
    "# The TypeError is thrown when a function's argument is of an inappropriate type.\n",
    "\n",
    "\n",
    "1+ 'a'"
   ]
  },
  {
   "cell_type": "code",
   "execution_count": 11,
   "id": "f0825ddf",
   "metadata": {},
   "outputs": [
    {
     "ename": "ValueError",
     "evalue": "invalid literal for int() with base 10: 'a'",
     "output_type": "error",
     "traceback": [
      "\u001b[0;31m---------------------------------------------------------------------------\u001b[0m",
      "\u001b[0;31mValueError\u001b[0m                                Traceback (most recent call last)",
      "Cell \u001b[0;32mIn[11], line 5\u001b[0m\n\u001b[1;32m      1\u001b[0m \u001b[38;5;66;03m# ValueError\u001b[39;00m\n\u001b[1;32m      2\u001b[0m \n\u001b[1;32m      3\u001b[0m \u001b[38;5;66;03m# The ValueError is thrown when a function's argument is of an inappropriate type.\u001b[39;00m\n\u001b[0;32m----> 5\u001b[0m \u001b[38;5;28;43mint\u001b[39;49m\u001b[43m(\u001b[49m\u001b[38;5;124;43m'\u001b[39;49m\u001b[38;5;124;43ma\u001b[39;49m\u001b[38;5;124;43m'\u001b[39;49m\u001b[43m)\u001b[49m\n",
      "\u001b[0;31mValueError\u001b[0m: invalid literal for int() with base 10: 'a'"
     ]
    }
   ],
   "source": [
    "# ValueError\n",
    "\n",
    "# The ValueError is thrown when a function's argument is of an inappropriate type.\n",
    "\n",
    "int('a')"
   ]
  },
  {
   "cell_type": "code",
   "execution_count": 13,
   "id": "3d27fbfe",
   "metadata": {},
   "outputs": [
    {
     "ename": "NameError",
     "evalue": "name 'k' is not defined",
     "output_type": "error",
     "traceback": [
      "\u001b[0;31m---------------------------------------------------------------------------\u001b[0m",
      "\u001b[0;31mNameError\u001b[0m                                 Traceback (most recent call last)",
      "Cell \u001b[0;32mIn[13], line 6\u001b[0m\n\u001b[1;32m      1\u001b[0m \u001b[38;5;66;03m# NameError\u001b[39;00m\n\u001b[1;32m      2\u001b[0m \n\u001b[1;32m      3\u001b[0m \u001b[38;5;66;03m# The NameError is thrown when an object could not be found.\u001b[39;00m\n\u001b[0;32m----> 6\u001b[0m \u001b[38;5;28mprint\u001b[39m(\u001b[43mk\u001b[49m)\n",
      "\u001b[0;31mNameError\u001b[0m: name 'k' is not defined"
     ]
    }
   ],
   "source": [
    "# NameError\n",
    "\n",
    "# The NameError is thrown when an object could not be found.\n",
    "\n",
    "\n",
    "print(k)"
   ]
  },
  {
   "cell_type": "code",
   "execution_count": 65,
   "id": "0f2ad7b7",
   "metadata": {},
   "outputs": [
    {
     "ename": "AttributeError",
     "evalue": "'list' object has no attribute 'upper'",
     "output_type": "error",
     "traceback": [
      "\u001b[0;31m---------------------------------------------------------------------------\u001b[0m",
      "\u001b[0;31mAttributeError\u001b[0m                            Traceback (most recent call last)",
      "Cell \u001b[0;32mIn[65], line 5\u001b[0m\n\u001b[1;32m      1\u001b[0m \u001b[38;5;66;03m# AttributeError\u001b[39;00m\n\u001b[1;32m      2\u001b[0m \u001b[38;5;66;03m# An AttributeError in Python is raised when you try to access or modify an attribute of an object that doesn't exist.\u001b[39;00m\n\u001b[1;32m      4\u001b[0m L \u001b[38;5;241m=\u001b[39m [\u001b[38;5;241m1\u001b[39m,\u001b[38;5;241m2\u001b[39m,\u001b[38;5;241m3\u001b[39m]\n\u001b[0;32m----> 5\u001b[0m \u001b[43mL\u001b[49m\u001b[38;5;241;43m.\u001b[39;49m\u001b[43mupper\u001b[49m()\n",
      "\u001b[0;31mAttributeError\u001b[0m: 'list' object has no attribute 'upper'"
     ]
    }
   ],
   "source": [
    "# AttributeError\n",
    "# An AttributeError in Python is raised when you try to access or modify an attribute of an object that doesn't exist.\n",
    "\n",
    "L = [1,2,3]\n",
    "L.upper()\n",
    "\n",
    "# Stacktrace"
   ]
  },
  {
   "cell_type": "code",
   "execution_count": 20,
   "id": "880d8600",
   "metadata": {},
   "outputs": [
    {
     "ename": "FileNotFoundError",
     "evalue": "[Errno 2] No such file or directory: 'test11.txt'",
     "output_type": "error",
     "traceback": [
      "\u001b[0;31m---------------------------------------------------------------------------\u001b[0m",
      "\u001b[0;31mFileNotFoundError\u001b[0m                         Traceback (most recent call last)",
      "Cell \u001b[0;32mIn[20], line 5\u001b[0m\n\u001b[1;32m      1\u001b[0m \u001b[38;5;66;03m# FileNotFoundError\u001b[39;00m\n\u001b[1;32m      2\u001b[0m \n\u001b[1;32m      3\u001b[0m \u001b[38;5;66;03m# A FileNotFoundError in Python is raised when an operation involving file input/output (I/O) is performed on a file that does not exist or cannot be found at the specified location.\u001b[39;00m\n\u001b[0;32m----> 5\u001b[0m \u001b[38;5;28;01mwith\u001b[39;00m \u001b[38;5;28;43mopen\u001b[39;49m\u001b[43m(\u001b[49m\u001b[38;5;124;43m'\u001b[39;49m\u001b[38;5;124;43mtest11.txt\u001b[39;49m\u001b[38;5;124;43m'\u001b[39;49m\u001b[43m,\u001b[49m\u001b[38;5;124;43m'\u001b[39;49m\u001b[38;5;124;43mr\u001b[39;49m\u001b[38;5;124;43m'\u001b[39;49m\u001b[43m)\u001b[49m \u001b[38;5;28;01mas\u001b[39;00m f:\n\u001b[1;32m      6\u001b[0m     \u001b[38;5;28mprint\u001b[39m(f\u001b[38;5;241m.\u001b[39mread())\n",
      "File \u001b[0;32m~/anaconda3/lib/python3.10/site-packages/IPython/core/interactiveshell.py:282\u001b[0m, in \u001b[0;36m_modified_open\u001b[0;34m(file, *args, **kwargs)\u001b[0m\n\u001b[1;32m    275\u001b[0m \u001b[38;5;28;01mif\u001b[39;00m file \u001b[38;5;129;01min\u001b[39;00m {\u001b[38;5;241m0\u001b[39m, \u001b[38;5;241m1\u001b[39m, \u001b[38;5;241m2\u001b[39m}:\n\u001b[1;32m    276\u001b[0m     \u001b[38;5;28;01mraise\u001b[39;00m \u001b[38;5;167;01mValueError\u001b[39;00m(\n\u001b[1;32m    277\u001b[0m         \u001b[38;5;124mf\u001b[39m\u001b[38;5;124m\"\u001b[39m\u001b[38;5;124mIPython won\u001b[39m\u001b[38;5;124m'\u001b[39m\u001b[38;5;124mt let you open fd=\u001b[39m\u001b[38;5;132;01m{\u001b[39;00mfile\u001b[38;5;132;01m}\u001b[39;00m\u001b[38;5;124m by default \u001b[39m\u001b[38;5;124m\"\u001b[39m\n\u001b[1;32m    278\u001b[0m         \u001b[38;5;124m\"\u001b[39m\u001b[38;5;124mas it is likely to crash IPython. If you know what you are doing, \u001b[39m\u001b[38;5;124m\"\u001b[39m\n\u001b[1;32m    279\u001b[0m         \u001b[38;5;124m\"\u001b[39m\u001b[38;5;124myou can use builtins\u001b[39m\u001b[38;5;124m'\u001b[39m\u001b[38;5;124m open.\u001b[39m\u001b[38;5;124m\"\u001b[39m\n\u001b[1;32m    280\u001b[0m     )\n\u001b[0;32m--> 282\u001b[0m \u001b[38;5;28;01mreturn\u001b[39;00m \u001b[43mio_open\u001b[49m\u001b[43m(\u001b[49m\u001b[43mfile\u001b[49m\u001b[43m,\u001b[49m\u001b[43m \u001b[49m\u001b[38;5;241;43m*\u001b[39;49m\u001b[43margs\u001b[49m\u001b[43m,\u001b[49m\u001b[43m \u001b[49m\u001b[38;5;241;43m*\u001b[39;49m\u001b[38;5;241;43m*\u001b[39;49m\u001b[43mkwargs\u001b[49m\u001b[43m)\u001b[49m\n",
      "\u001b[0;31mFileNotFoundError\u001b[0m: [Errno 2] No such file or directory: 'test11.txt'"
     ]
    }
   ],
   "source": [
    "# FileNotFoundError\n",
    "\n",
    "# A FileNotFoundError in Python is raised when an operation involving file input/output (I/O) is performed on a file that does not exist or cannot be found at the specified location.\n",
    "\n",
    "with open('test11.txt','r') as f:\n",
    "    print(f.read())"
   ]
  },
  {
   "cell_type": "markdown",
   "id": "893fdc11",
   "metadata": {},
   "source": [
    "### -----------------------------------------------------------------------------------------------------------------------------\n",
    "## Exceptions\n",
    "\n",
    " - If the things go wrong during the execution of the program (runtime). It generally happens when something unforeseen has happened.\n",
    "   - Exceptions are raised by the python runtime\n",
    "   - You have to takle it on the fly\n",
    "\n",
    "   #### Examples:\n",
    "   - Memory Overflow\n",
    "   - Divide by 0 --> Logical Error\n",
    "   - Database Error"
   ]
  },
  {
   "cell_type": "markdown",
   "id": "829eaafd",
   "metadata": {},
   "source": [
    "### Why it is important to handle exception ?  \n",
    "\n",
    " Handling exceptions in Python is crucial for several reasons:  \n",
    "\n",
    "  - Graceful Termination:\n",
    "\n",
    "      - Exception handling prevents your program from crashing abruptly when it encounters an error.\n",
    "      - Instead of letting the program terminate unexpectedly, you can catch and handle exceptions to provide a graceful exit or recovery. \n",
    "\n",
    "  - Error Identification:\n",
    "\n",
    "      - Exception messages can provide valuable information about what went wrong.\n",
    "      - Proper exception handling allows you to log or display meaningful error messages, making it easier to identify and fix issues during development or when users encounter problems.\n",
    "\n",
    "\n",
    "  - User Experience:  \n",
    "\n",
    "      - In applications with a graphical user interface (GUI) or command-line interface (CLI), unhandled exceptions can lead to a poor user experience.\n",
    "      - By handling exceptions, you can present informative error messages to users, guiding them on what action to take. \n",
    "\n",
    "  - Robustness: \n",
    "\n",
    "    - Exception handling makes your code more robust and resilient to unexpected situations.\n",
    "    - It allows your program to recover from errors, continue execution, or gracefully exit, depending on the nature of the error.\n",
    "\n",
    "  - Debugging:\n",
    "\n",
    "    - Exception handling aids in the debugging process by providing information about where and why an error occurred.\n",
    "    - During development, you can use exception handling to catch and investigate errors, facilitating the debugging process.\n",
    "    \n",
    "  - Security:\n",
    "\n",
    "    - Handling exceptions can contribute to the security of your application.\n",
    "    - It prevents potential vulnerabilities that could be exploited if errors are not properly managed.\n",
    "    \n",
    "  - Program Control:\n",
    "\n",
    "    - Exception handling allows you to control the flow of your program even when errors occur.\n",
    "    - You can specify different actions to take based on the type of exception, enabling you to handle errors in a customized manner."
   ]
  },
  {
   "cell_type": "code",
   "execution_count": 15,
   "id": "6fdd3c4a",
   "metadata": {},
   "outputs": [
    {
     "name": "stdout",
     "output_type": "stream",
     "text": [
      "Error: division by zero\n",
      "Cleanup code\n"
     ]
    }
   ],
   "source": [
    "## Here's a simple example illustrating the importance of exception handling:\n",
    "\n",
    "\n",
    "try:\n",
    "    # Code that may raise an exception\n",
    "    result = 10 / 0\n",
    "except ZeroDivisionError as e:\n",
    "    # Handling a specific exception\n",
    "    print(f\"Error: {e}\")\n",
    "except Exception as e:\n",
    "    # Handling a generic exception\n",
    "    print(f\"Unexpected error: {e}\")\n",
    "finally:\n",
    "    # Code that always runs, whether an exception occurred or not\n",
    "    print(\"Cleanup code\")\n"
   ]
  },
  {
   "cell_type": "markdown",
   "id": "45fa889a",
   "metadata": {},
   "source": [
    "### How to handle exception ?"
   ]
  },
  {
   "cell_type": "code",
   "execution_count": 16,
   "id": "df0666ce",
   "metadata": {},
   "outputs": [],
   "source": [
    "# lets create a file\n",
    "\n",
    "with open('test1.txt','w') as f:\n",
    "    f.write('Hello World')"
   ]
  },
  {
   "cell_type": "code",
   "execution_count": 21,
   "id": "d7148d95",
   "metadata": {},
   "outputs": [
    {
     "name": "stdout",
     "output_type": "stream",
     "text": [
      "Hello World\n"
     ]
    }
   ],
   "source": [
    "# Read created file above\n",
    "\n",
    "with open('test1.txt','r') as f:\n",
    "    print(f.read())"
   ]
  },
  {
   "cell_type": "code",
   "execution_count": 23,
   "id": "5ef383a9",
   "metadata": {},
   "outputs": [
    {
     "name": "stdout",
     "output_type": "stream",
     "text": [
      "Sorry file not found\n"
     ]
    }
   ],
   "source": [
    "# try catch demo\n",
    "\n",
    "try:\n",
    "    with open('test11.txt','r') as f:   # This file does not exist \n",
    "        print(f.read())\n",
    "except:\n",
    "    print('Sorry file not found')"
   ]
  },
  {
   "cell_type": "code",
   "execution_count": 24,
   "id": "17435035",
   "metadata": {},
   "outputs": [
    {
     "name": "stdout",
     "output_type": "stream",
     "text": [
      "Something Went Wrong\n"
     ]
    }
   ],
   "source": [
    "# Catching specific exception\n",
    "\n",
    "try:\n",
    "    f = open('sample.txt','r')\n",
    "    print(f.read())\n",
    "    print(m)\n",
    "except:\n",
    "    print('Something Went Wrong')"
   ]
  },
  {
   "cell_type": "code",
   "execution_count": 25,
   "id": "ce1a03cf",
   "metadata": {},
   "outputs": [
    {
     "name": "stdout",
     "output_type": "stream",
     "text": [
      "Hello World\n",
      "Variable Not Found\n"
     ]
    }
   ],
   "source": [
    "try:\n",
    "    f = open('test1.txt','r')\n",
    "    print(f.read())\n",
    "    print(m)\n",
    "except FileNotFoundError:\n",
    "    print('File Not Found')\n",
    "except NameError:\n",
    "    print('Variable Not Found')\n",
    "    "
   ]
  },
  {
   "cell_type": "code",
   "execution_count": 33,
   "id": "5dc2a09c",
   "metadata": {},
   "outputs": [
    {
     "name": "stdout",
     "output_type": "stream",
     "text": [
      "Hello World\n",
      "5\n",
      "<built-in method with_traceback of ZeroDivisionError object at 0x7ff3017e4630>\n"
     ]
    }
   ],
   "source": [
    "try:\n",
    "    m = 5\n",
    "    f = open('test1.txt','r')\n",
    "    print(f.read())\n",
    "    print(m)\n",
    "    print(5/0)\n",
    "    \n",
    "except FileNotFoundError:\n",
    "    print('File Not Found')\n",
    "    \n",
    "except NameError:\n",
    "    print('Variable Not Found')\n",
    "    \n",
    "except Exception as e:\n",
    "    print(e.with_traceback)"
   ]
  },
  {
   "cell_type": "code",
   "execution_count": 34,
   "id": "31cca229",
   "metadata": {},
   "outputs": [
    {
     "name": "stdout",
     "output_type": "stream",
     "text": [
      "Hello World\n",
      "5\n",
      "Can't Divide by Zero\n"
     ]
    }
   ],
   "source": [
    "try:\n",
    "    m = 5\n",
    "    f = open('test1.txt','r')\n",
    "    print(f.read())\n",
    "    print(m)\n",
    "    print(5/0)\n",
    "    \n",
    "except FileNotFoundError:\n",
    "    print('File Not Found')\n",
    "    \n",
    "except NameError:\n",
    "    print('Variable Not Found')\n",
    "    \n",
    "except ZeroDivisionError:\n",
    "    print(\"Can't Divide by Zero\")"
   ]
  },
  {
   "cell_type": "code",
   "execution_count": 49,
   "id": "c12f9b41",
   "metadata": {},
   "outputs": [
    {
     "name": "stdout",
     "output_type": "stream",
     "text": [
      "Hello World\n",
      "5\n",
      "2.5\n",
      "list index out of range\n"
     ]
    }
   ],
   "source": [
    "try:\n",
    "    m = 5\n",
    "    f = open('test1.txt','r')\n",
    "    print(f.read())\n",
    "    print(m)\n",
    "    print(5/2)\n",
    "    L =[1,2,3]\n",
    "    L[100]\n",
    "    \n",
    "except FileNotFoundError:\n",
    "    print('File Not Found')\n",
    "    \n",
    "except NameError:\n",
    "    print('Variable Not Found')\n",
    "    \n",
    "except ZeroDivisionError:\n",
    "    print(\"Can't Divide by Zero\")\n",
    "    \n",
    "except Exception as e:     # generic exception\n",
    "    print(e)\n",
    "\n",
    "## This generic exception handling should be always in last otherwise it will take over other exceptions."
   ]
  },
  {
   "cell_type": "code",
   "execution_count": 51,
   "id": "050c6f4c",
   "metadata": {},
   "outputs": [
    {
     "name": "stdout",
     "output_type": "stream",
     "text": [
      "Hello World\n"
     ]
    }
   ],
   "source": [
    "# use else: in exception handling\n",
    "\n",
    "## If code fail during execution it will go to exception else will perform as per the code under else section in case of success\n",
    "\n",
    "try:\n",
    "    f = open('test1.txt','r')\n",
    "except FileNotFoundError:\n",
    "    print('File does not exist')\n",
    "except Exception:\n",
    "    print('Something Went Wrong')\n",
    "else:\n",
    "    print(f.read())"
   ]
  },
  {
   "cell_type": "code",
   "execution_count": 55,
   "id": "bc928c11",
   "metadata": {},
   "outputs": [
    {
     "name": "stdout",
     "output_type": "stream",
     "text": [
      "File does not exist\n"
     ]
    }
   ],
   "source": [
    "try:                               ## Code that may raise an exception\n",
    "    f = open('testq1.txt','r')\n",
    "except FileNotFoundError:          ## Handling a specific exception\n",
    "    print('File does not exist')\n",
    "except Exception:                  ## Handling a generic exception\n",
    "    print('Something Went Wrong')\n",
    "else:\n",
    "    print(f.read())"
   ]
  },
  {
   "cell_type": "code",
   "execution_count": 56,
   "id": "da626d2d",
   "metadata": {},
   "outputs": [
    {
     "name": "stdout",
     "output_type": "stream",
     "text": [
      "Hello World\n",
      "Code Logic is Appropriate\n"
     ]
    }
   ],
   "source": [
    "# Use of finally in exception Handling \n",
    "# finally - Code that always runs, whether an exception occurred or not\n",
    "\n",
    "\n",
    "try:                               ## Code that may raise an exception\n",
    "    f = open('test1.txt','r')\n",
    "except FileNotFoundError:          ## Handling a specific exception\n",
    "    print('File does not exist')\n",
    "except Exception:                  ## Handling a generic exception\n",
    "    print('Something Went Wrong')\n",
    "else:\n",
    "    print(f.read())\n",
    "finally:                           ## Code that always runs, whether an exception occurred or not\n",
    "    print('Code Logic is Appropriate')"
   ]
  },
  {
   "cell_type": "markdown",
   "id": "9b440ec3",
   "metadata": {},
   "source": [
    "### Raise Exception\n",
    "\n",
    " - In Python Programming, exception are raised when errors occurs at runtime.\n",
    " - we can Manually raise exceptions using raise keyword.\n",
    " - We can optionally pass values to the exception to clarify why that exception was raised."
   ]
  },
  {
   "cell_type": "code",
   "execution_count": 59,
   "id": "516f71a7",
   "metadata": {},
   "outputs": [
    {
     "ename": "ZeroDivisionError",
     "evalue": "Just Testing this Concept",
     "output_type": "error",
     "traceback": [
      "\u001b[0;31m---------------------------------------------------------------------------\u001b[0m",
      "\u001b[0;31mZeroDivisionError\u001b[0m                         Traceback (most recent call last)",
      "Cell \u001b[0;32mIn[59], line 3\u001b[0m\n\u001b[1;32m      1\u001b[0m \u001b[38;5;66;03m# raise\u001b[39;00m\n\u001b[0;32m----> 3\u001b[0m \u001b[38;5;28;01mraise\u001b[39;00m \u001b[38;5;167;01mZeroDivisionError\u001b[39;00m (\u001b[38;5;124m'\u001b[39m\u001b[38;5;124mJust Testing this Concept\u001b[39m\u001b[38;5;124m'\u001b[39m)\n",
      "\u001b[0;31mZeroDivisionError\u001b[0m: Just Testing this Concept"
     ]
    }
   ],
   "source": [
    "# raise\n",
    "\n",
    "raise ZeroDivisionError ('Just Testing this Concept')"
   ]
  },
  {
   "cell_type": "code",
   "execution_count": 58,
   "id": "54bbabf1",
   "metadata": {},
   "outputs": [
    {
     "ename": "FileNotFoundError",
     "evalue": "Checking this raise exception feature",
     "output_type": "error",
     "traceback": [
      "\u001b[0;31m---------------------------------------------------------------------------\u001b[0m",
      "\u001b[0;31mFileNotFoundError\u001b[0m                         Traceback (most recent call last)",
      "Cell \u001b[0;32mIn[58], line 1\u001b[0m\n\u001b[0;32m----> 1\u001b[0m \u001b[38;5;28;01mraise\u001b[39;00m \u001b[38;5;167;01mFileNotFoundError\u001b[39;00m(\u001b[38;5;124m'\u001b[39m\u001b[38;5;124mChecking this raise exception feature\u001b[39m\u001b[38;5;124m'\u001b[39m)\n",
      "\u001b[0;31mFileNotFoundError\u001b[0m: Checking this raise exception feature"
     ]
    }
   ],
   "source": [
    "raise FileNotFoundError('Checking this raise exception feature')"
   ]
  },
  {
   "cell_type": "code",
   "execution_count": 67,
   "id": "88d1f38c",
   "metadata": {},
   "outputs": [
    {
     "name": "stdout",
     "output_type": "stream",
     "text": [
      "paise nai hai tere paas\n"
     ]
    }
   ],
   "source": [
    "## Copied from CampusX Notebook\n",
    "class Bank:\n",
    "\n",
    "  def __init__(self,balance):\n",
    "    self.balance = balance\n",
    "\n",
    "  def withdraw(self,amount):\n",
    "    if amount < 0:\n",
    "      raise Exception('amount cannot be -ve')\n",
    "    if self.balance < amount:\n",
    "      raise Exception('paise nai hai tere paas')\n",
    "    self.balance = self.balance - amount\n",
    "\n",
    "obj = Bank(10000)\n",
    "try:\n",
    "  obj.withdraw(15000)\n",
    "except Exception as e:\n",
    "  print(e)\n",
    "else:\n",
    "  print(obj.balance)"
   ]
  },
  {
   "cell_type": "code",
   "execution_count": 62,
   "id": "cc9a10ee",
   "metadata": {},
   "outputs": [
    {
     "name": "stdout",
     "output_type": "stream",
     "text": [
      "Remaining balance: 5000\n"
     ]
    }
   ],
   "source": [
    "class Bank:\n",
    "    def __init__(self, balance):\n",
    "        self.balance = balance\n",
    "\n",
    "    def withdraw(self, amount):\n",
    "        if amount < 0:\n",
    "            raise ValueError('Amount cannot be negative')\n",
    "        if self.balance < amount:\n",
    "            raise ValueError('Sorry, you do not have enough money')\n",
    "        self.balance -= amount\n",
    "\n",
    "# Create an instance of the Bank class\n",
    "obj = Bank(10000)\n",
    "\n",
    "try:\n",
    "    obj.withdraw(5000)\n",
    "except ValueError as e:\n",
    "    print(e)\n",
    "else:\n",
    "    print(\"Remaining balance:\", obj.balance)"
   ]
  },
  {
   "cell_type": "code",
   "execution_count": 63,
   "id": "c630b01c",
   "metadata": {},
   "outputs": [
    {
     "name": "stdout",
     "output_type": "stream",
     "text": [
      "Sorry, you do not have enough money\n"
     ]
    }
   ],
   "source": [
    "class Bank:\n",
    "    def __init__(self, balance):\n",
    "        self.balance = balance\n",
    "\n",
    "    def withdraw(self, amount):\n",
    "        if amount < 0:\n",
    "            raise ValueError('Amount cannot be negative')\n",
    "        if self.balance < amount:\n",
    "            raise ValueError('Sorry, you do not have enough money')\n",
    "        self.balance -= amount\n",
    "\n",
    "# Create an instance of the Bank class\n",
    "obj = Bank(10000)\n",
    "\n",
    "try:\n",
    "    obj.withdraw(15000)\n",
    "except ValueError as e:\n",
    "    print(e)\n",
    "else:\n",
    "    print(\"Remaining balance:\", obj.balance)\n"
   ]
  },
  {
   "cell_type": "code",
   "execution_count": 64,
   "id": "97dacfee",
   "metadata": {},
   "outputs": [
    {
     "name": "stdout",
     "output_type": "stream",
     "text": [
      "Amount cannot be negative\n"
     ]
    }
   ],
   "source": [
    "class Bank:\n",
    "    def __init__(self, balance):\n",
    "        self.balance = balance\n",
    "\n",
    "    def withdraw(self, amount):\n",
    "        if amount < 0:\n",
    "            raise ValueError('Amount cannot be negative')\n",
    "        if self.balance < amount:\n",
    "            raise ValueError('Sorry, you do not have enough money')\n",
    "        self.balance -= amount\n",
    "\n",
    "# Create an instance of the Bank class\n",
    "obj = Bank(10000)\n",
    "\n",
    "try:\n",
    "    obj.withdraw(-5000)\n",
    "except ValueError as e:\n",
    "    print(e)\n",
    "else:\n",
    "    print(\"Remaining balance:\", obj.balance)\n"
   ]
  },
  {
   "cell_type": "markdown",
   "id": "1d43307d",
   "metadata": {},
   "source": [
    "### -----------------------------------------------------------------------------------------------------------------------------\n",
    "## Creating Custom Exceptions"
   ]
  },
  {
   "cell_type": "code",
   "execution_count": 69,
   "id": "8166ad71",
   "metadata": {},
   "outputs": [
    {
     "name": "stdout",
     "output_type": "stream",
     "text": [
      "Remaining balance: 5000\n"
     ]
    }
   ],
   "source": [
    "## Copied from CampusX NoteBook\n",
    "\n",
    "\n",
    "class MyException(Exception):\n",
    "  def __init__(self,message):\n",
    "    print(message)\n",
    "\n",
    "class Bank:\n",
    "\n",
    "  def __init__(self,balance):\n",
    "    self.balance = balance\n",
    "\n",
    "  def withdraw(self,amount):\n",
    "    if amount < 0:\n",
    "      raise MyException('amount cannot be -ve')\n",
    "    if self.balance < amount:\n",
    "      raise MyException('paise nai hai tere paas')\n",
    "    self.balance = self.balance - amount\n",
    "\n",
    "obj = Bank(10000)\n",
    "try:\n",
    "  obj.withdraw(5000)\n",
    "except MyException as e:\n",
    "  pass\n",
    "else:\n",
    "  print(\"Remaining balance:\",obj.balance)"
   ]
  },
  {
   "cell_type": "code",
   "execution_count": 70,
   "id": "e4260966",
   "metadata": {},
   "outputs": [
    {
     "name": "stdout",
     "output_type": "stream",
     "text": [
      "amount cannot be -ve\n"
     ]
    }
   ],
   "source": [
    "## Copied from CampusX NoteBook\n",
    "\n",
    "\n",
    "class MyException(Exception):\n",
    "  def __init__(self,message):\n",
    "    print(message)\n",
    "\n",
    "class Bank:\n",
    "\n",
    "  def __init__(self,balance):\n",
    "    self.balance = balance\n",
    "\n",
    "  def withdraw(self,amount):\n",
    "    if amount < 0:\n",
    "      raise MyException('amount cannot be -ve')\n",
    "    if self.balance < amount:\n",
    "      raise MyException('paise nai hai tere paas')\n",
    "    self.balance = self.balance - amount\n",
    "\n",
    "obj = Bank(10000)\n",
    "try:\n",
    "  obj.withdraw(-5000)\n",
    "except MyException as e:\n",
    "  pass\n",
    "else:\n",
    "  print(\"Remaining balance:\",obj.balance)"
   ]
  },
  {
   "cell_type": "code",
   "execution_count": 71,
   "id": "76b9340f",
   "metadata": {},
   "outputs": [
    {
     "name": "stdout",
     "output_type": "stream",
     "text": [
      "paise nai hai tere paas\n"
     ]
    }
   ],
   "source": [
    "## Copied from CampusX NoteBook\n",
    "\n",
    "\n",
    "class MyException(Exception):\n",
    "  def __init__(self,message):\n",
    "    print(message)\n",
    "\n",
    "class Bank:\n",
    "\n",
    "  def __init__(self,balance):\n",
    "    self.balance = balance\n",
    "\n",
    "  def withdraw(self,amount):\n",
    "    if amount < 0:\n",
    "      raise MyException('amount cannot be -ve')\n",
    "    if self.balance < amount:\n",
    "      raise MyException('paise nai hai tere paas')\n",
    "    self.balance = self.balance - amount\n",
    "\n",
    "obj = Bank(10000)\n",
    "try:\n",
    "  obj.withdraw(15000)\n",
    "except MyException as e:\n",
    "  pass\n",
    "else:\n",
    "  print(\"Remaining balance:\",obj.balance)"
   ]
  },
  {
   "cell_type": "code",
   "execution_count": 76,
   "id": "5bf34823",
   "metadata": {},
   "outputs": [
    {
     "name": "stdout",
     "output_type": "stream",
     "text": [
      "Welcome\n",
      "Prakash\n",
      "Database connection Closed\n"
     ]
    }
   ],
   "source": [
    "# creating a custom Exception\n",
    "# Simple Example\n",
    "\n",
    "class SecurityError(Exception):\n",
    "    \n",
    "    def __init__(self,message):\n",
    "        print(message)\n",
    "    \n",
    "    def logout(self):\n",
    "        print('Logout')\n",
    "    \n",
    "class Google:\n",
    "    \n",
    "    def __init__(self,name,email,password,device):\n",
    "        self.name = name\n",
    "        self.email = email\n",
    "        self.password = password\n",
    "        self.device = device\n",
    "    \n",
    "    def login(self,email,password,device):\n",
    "        if device != self.device:\n",
    "          raise SecurityError('Seems your account is compromised')\n",
    "        if email == self.email and password == self.password:\n",
    "            print('Welcome')\n",
    "        else:\n",
    "            print('Login Error')\n",
    "    \n",
    "        \n",
    "        \n",
    "obj = Google('Prakash','prakash@mail.com','password','android10923')\n",
    "\n",
    "try:\n",
    "    obj.login('prakash@mail.com','password','android10923')\n",
    "\n",
    "except SecurityError as e:\n",
    "    e.logout()\n",
    "else:\n",
    "    print(obj.name)\n",
    "finally:\n",
    "    print('Database connection Closed')\n",
    "    "
   ]
  },
  {
   "cell_type": "code",
   "execution_count": 79,
   "id": "c787493f",
   "metadata": {},
   "outputs": [
    {
     "name": "stdout",
     "output_type": "stream",
     "text": [
      "Seems your account is compromised\n",
      "Logout\n",
      "Database connection Closed\n"
     ]
    }
   ],
   "source": [
    "class SecurityError(Exception):\n",
    "    \n",
    "    def __init__(self,message):\n",
    "        print(message)\n",
    "    \n",
    "    def logout(self):\n",
    "        print('Logout')\n",
    "    \n",
    "class Google:\n",
    "    \n",
    "    def __init__(self,name,email,password,device):\n",
    "        self.name = name\n",
    "        self.email = email\n",
    "        self.password = password\n",
    "        self.device = device\n",
    "    \n",
    "    def login(self,email,password,device):\n",
    "        if device != self.device:\n",
    "          raise SecurityError('Seems your account is compromised')\n",
    "        if email == self.email and password == self.password:\n",
    "            print('Welcome')\n",
    "        else:\n",
    "            print('Login Error')\n",
    "    \n",
    "        \n",
    "        \n",
    "obj = Google('Prakash','prakash@mail.com','password','android10923')\n",
    "\n",
    "try:\n",
    "    obj.login('prakash@mail.com','password','Windows')\n",
    "\n",
    "except SecurityError as e:\n",
    "    e.logout()\n",
    "else:\n",
    "    print(obj.name)\n",
    "finally:\n",
    "    print('Database connection Closed')\n",
    "    "
   ]
  },
  {
   "cell_type": "markdown",
   "id": "080d9208",
   "metadata": {},
   "source": [
    "# --------------------------------------------------------------------------------------\n",
    " - #### Tasks of Session 11:  https://colab.research.google.com/drive/1gs4nShMY8OVf9TEYxx6g6zqQ3vuEbqyL?usp=sharing\n",
    "# -------------------------------------------------------------------------------------- "
   ]
  }
 ],
 "metadata": {
  "kernelspec": {
   "display_name": "Python 3 (ipykernel)",
   "language": "python",
   "name": "python3"
  },
  "language_info": {
   "codemirror_mode": {
    "name": "ipython",
    "version": 3
   },
   "file_extension": ".py",
   "mimetype": "text/x-python",
   "name": "python",
   "nbconvert_exporter": "python",
   "pygments_lexer": "ipython3",
   "version": "3.10.9"
  }
 },
 "nbformat": 4,
 "nbformat_minor": 5
}
