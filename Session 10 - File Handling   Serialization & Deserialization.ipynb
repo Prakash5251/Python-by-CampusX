{
 "cells": [
  {
   "cell_type": "markdown",
   "id": "dc9ea5f3",
   "metadata": {},
   "source": [
    "# --------------------------------------------------------------------------------------\n",
    "# Session 10 - File Handling + Serialization & Deserialization\n",
    "\n",
    "  - Video URL: https://youtu.be/o-TAYRMQzIQ\n",
    "\n",
    "  - Code URL: https://colab.research.google.com/drive/1TP7ks1pnEzJwwzHtswkSYvMWwo2HeRxM?usp=sharing\n",
    "# --------------------------------------------------------------------------------------"
   ]
  },
  {
   "cell_type": "markdown",
   "id": "468af05a",
   "metadata": {},
   "source": [
    "### File Handling:   \n",
    "  - #### File Handling in Python involves operations such as reading from and writing to files."
   ]
  },
  {
   "cell_type": "markdown",
   "id": "d409b0f3",
   "metadata": {},
   "source": [
    "#### Types of Data Used for I/O:\n",
    "\n",
    "- Text: '12345' as a sequence of unicode chars.   \n",
    "- Binary: '12345' as a sequence of bytes of its binary Equivalent.    \n",
    "\n",
    "   -- Hence there are two file types to deal with \n",
    "    - Text Files: All program files are text files  \n",
    "    - Binary Files: Images, Musics, Video, .exc files etc "
   ]
  },
  {
   "cell_type": "markdown",
   "id": "82c9fe76",
   "metadata": {},
   "source": [
    "### How file I/O done in most Programming languages\n",
    "\n",
    " - Open a File\n",
    " - Read/Write Data\n",
    " - Close the File"
   ]
  },
  {
   "cell_type": "markdown",
   "id": "a84b36e7",
   "metadata": {},
   "source": [
    "### -----------------------------------------------------------------------------------------------------------------------------\n",
    "## Writing to a File"
   ]
  },
  {
   "cell_type": "code",
   "execution_count": 3,
   "id": "76728d20",
   "metadata": {},
   "outputs": [],
   "source": [
    "# Case 1a: If the file is not present, create it\n",
    "\n",
    "f = open('sample.txt','w')\n",
    "f.write('Hello World')\n",
    "f.close()"
   ]
  },
  {
   "cell_type": "code",
   "execution_count": 5,
   "id": "8e6a3e1b",
   "metadata": {},
   "outputs": [],
   "source": [
    "# Case 1b: If the file is not present, create in specific folder\n",
    "f = open('/Users/satya.ps/Downloads/campus.txt','w')\n",
    "f.write('I Love Python')\n",
    "f.close()"
   ]
  },
  {
   "cell_type": "code",
   "execution_count": 6,
   "id": "5616ee41",
   "metadata": {},
   "outputs": [
    {
     "ename": "ValueError",
     "evalue": "I/O operation on closed file.",
     "output_type": "error",
     "traceback": [
      "\u001b[0;31m---------------------------------------------------------------------------\u001b[0m",
      "\u001b[0;31mValueError\u001b[0m                                Traceback (most recent call last)",
      "Cell \u001b[0;32mIn[6], line 8\u001b[0m\n\u001b[1;32m      5\u001b[0m f\u001b[38;5;241m.\u001b[39mclose()\n\u001b[1;32m      7\u001b[0m \u001b[38;5;66;03m# Since file is closed this will not work\u001b[39;00m\n\u001b[0;32m----> 8\u001b[0m \u001b[43mf\u001b[49m\u001b[38;5;241;43m.\u001b[39;49m\u001b[43mwrite\u001b[49m\u001b[43m(\u001b[49m\u001b[38;5;124;43m'\u001b[39;49m\u001b[38;5;124;43mHello\u001b[39;49m\u001b[38;5;124;43m'\u001b[39;49m\u001b[43m)\u001b[49m\n",
      "\u001b[0;31mValueError\u001b[0m: I/O operation on closed file."
     ]
    }
   ],
   "source": [
    "# Case 1c: If the file is not present, create it\n",
    "\n",
    "f = open('sample.txt','w')\n",
    "f.write('Hello World')\n",
    "f.close()\n",
    "\n",
    "# Since file is closed this will not work\n",
    "f.write('Hello')"
   ]
  },
  {
   "cell_type": "code",
   "execution_count": 10,
   "id": "19bcca11",
   "metadata": {},
   "outputs": [],
   "source": [
    "# Case 1d: Write multiline Strings\n",
    "\n",
    "f = open('sample1.txt','w')\n",
    "f.write('Hello World')\n",
    "f.write('\\nHow are You')\n",
    "f.close()"
   ]
  },
  {
   "cell_type": "code",
   "execution_count": 14,
   "id": "d594e216",
   "metadata": {},
   "outputs": [],
   "source": [
    "# Case 2a: If the file is already present\n",
    "\n",
    "f = open('sample.txt','w')\n",
    "f.write('Prakash Singh')\n",
    "f.close()\n",
    "\n",
    "# It will override existing data in the file"
   ]
  },
  {
   "cell_type": "code",
   "execution_count": 15,
   "id": "df11ec58",
   "metadata": {},
   "outputs": [],
   "source": [
    "# How Exactly open() work?\n",
    "# Refer this URL: https://docs.python.org/3/tutorial/inputoutput.html"
   ]
  },
  {
   "cell_type": "code",
   "execution_count": 16,
   "id": "6476b699",
   "metadata": {},
   "outputs": [],
   "source": [
    "# Problem with 'w' mode (Lets start with append mode)\n",
    "\n",
    "f = open('sample.txt','a')  ## Append Mode\n",
    "f.write('\\nMy Mobile Number: 7411510383')\n",
    "f.close()\n"
   ]
  },
  {
   "cell_type": "code",
   "execution_count": 17,
   "id": "d441b0e0",
   "metadata": {},
   "outputs": [],
   "source": [
    "# Write multiple lines in file using single line\n",
    "\n",
    "L = ['Hello\\n', 'hi\\n', 'how are you\\n','i am fine']\n",
    "\n",
    "f = open('sample.txt', 'w')\n",
    "f.writelines(L)\n",
    "f.close()"
   ]
  },
  {
   "cell_type": "markdown",
   "id": "9fdc79a3",
   "metadata": {},
   "source": [
    "### Why we close file in python using f.close() ?\n",
    "\n",
    "- In Python, it's important to close files after you're done working with them using the close() method. Here are a few reasons why closing files is crucial:  \n",
    "\n",
    " #### - 1. Resource Management:  \n",
    "   - When you open a file, the operating system allocates resources (file handles) to maintain the connection between your program and the file.  \n",
    "   - If you don't close the file properly, these resources might not be released immediately. Over time, this can lead to your program running out of available file handles, causing it to fail when trying to open new files.  \n",
    "   \n",
    "\n",
    " #### - 2. Data Integrity:  \n",
    "   - Closing a file ensures that all the data you wrote to the file is physically stored on the disk.  \n",
    "   - Some operations, like write buffers, might not immediately flush the data to the file. Closing the file guarantees that all changes are saved.  \n",
    "   \n",
    " #### - 3. Preventing Data Corruption:\n",
    "   - If you're writing to a file, not closing it properly might result in incomplete or corrupted data being written to the file.\n",
    "   - Closing the file ensures that all data is written correctly and avoids potential corruption.\n",
    "\n",
    "\n",
    " #### - 4. Good Programming Practice:  \n",
    "   - Explicitly closing files is considered good programming practice for clarity and reliability.\n",
    "   - It makes your code more readable and helps avoid subtle bugs related to file handling.\n"
   ]
  },
  {
   "cell_type": "markdown",
   "id": "09fbc446",
   "metadata": {},
   "source": [
    "### -----------------------------------------------------------------------------------------------------------------------------\n",
    "## Reading from a File"
   ]
  },
  {
   "cell_type": "code",
   "execution_count": 19,
   "id": "865a8274",
   "metadata": {},
   "outputs": [
    {
     "name": "stdout",
     "output_type": "stream",
     "text": [
      "Hello\n",
      "hi\n",
      "how are you\n",
      "i am fine\n"
     ]
    }
   ],
   "source": [
    "# Reading from file (using read())\n",
    "\n",
    "f = open('sample.txt','r')\n",
    "s = f.read()\n",
    "print(s)\n",
    "f.close()"
   ]
  },
  {
   "cell_type": "code",
   "execution_count": 21,
   "id": "20c58ebd",
   "metadata": {},
   "outputs": [
    {
     "name": "stdout",
     "output_type": "stream",
     "text": [
      "Hello\n",
      "hi\n",
      "how are you\n",
      "i am fine\n"
     ]
    }
   ],
   "source": [
    "print(s)"
   ]
  },
  {
   "cell_type": "code",
   "execution_count": 23,
   "id": "58a1b71d",
   "metadata": {},
   "outputs": [
    {
     "name": "stdout",
     "output_type": "stream",
     "text": [
      "Hello\n",
      "hi\n",
      "h\n"
     ]
    }
   ],
   "source": [
    "# Read upto 'n' Characters\n",
    "\n",
    "f = open('sample.txt','r')\n",
    "s = f.read(10)  # Will just read 10 characters Content of the file\n",
    "print(s)\n",
    "f.close()"
   ]
  },
  {
   "cell_type": "code",
   "execution_count": 30,
   "id": "015b9cc3",
   "metadata": {},
   "outputs": [
    {
     "name": "stdout",
     "output_type": "stream",
     "text": [
      "Hello\n",
      "\n",
      "hi\n",
      "\n"
     ]
    }
   ],
   "source": [
    "# Read Line\n",
    "\n",
    "f = open('sample.txt','r')\n",
    "s1 = f.readline()\n",
    "print(s1)\n",
    "s2 = f.readline()\n",
    "print(s2)\n",
    "f.close()\n"
   ]
  },
  {
   "cell_type": "code",
   "execution_count": 31,
   "id": "2bda41af",
   "metadata": {},
   "outputs": [
    {
     "name": "stdout",
     "output_type": "stream",
     "text": [
      "Hello\n",
      "\n",
      "hi\n",
      "\n"
     ]
    }
   ],
   "source": [
    "f = open('sample.txt','r')\n",
    "print(f.readline())\n",
    "print(f.readline())\n",
    "f.close()\n"
   ]
  },
  {
   "cell_type": "code",
   "execution_count": 33,
   "id": "9c42fbd3",
   "metadata": {},
   "outputs": [
    {
     "name": "stdout",
     "output_type": "stream",
     "text": [
      "Hello\n",
      "hi\n"
     ]
    }
   ],
   "source": [
    "f = open('sample.txt','r')\n",
    "print(f.readline(),end='')\n",
    "print(f.readline(),end='')\n",
    "f.close()\n",
    "\n",
    "#Will not return extra lines with output"
   ]
  },
  {
   "cell_type": "markdown",
   "id": "dd0afad7",
   "metadata": {},
   "source": [
    "#### In Python, the choice between using read() and readline() depends on how you want to read data from a file.\n",
    "\n",
    "##### 1. read() Method:  \n",
    " - The 'read()' method reads the entire content of a file as a single string.\n",
    " - It reads from the current file position to the end of the file or up to the specified number of characters if provided.\n",
    " - Useful when you want to read the entire content of a small file into memory.\n",
    " \n",
    " \n",
    "##### 2. readline() Method:\n",
    " - The readline() method reads a single line from the current file position and returns it as a string.\n",
    " - It stops reading when it encounters a newline character ('\\n') or reaches the end of the file.\n",
    " - Useful when you want to process the file line by line or when dealing with large files where you want to read one line at a time."
   ]
  },
  {
   "cell_type": "markdown",
   "id": "b0a1f9ee",
   "metadata": {},
   "source": [
    "##### In summary:\n",
    "\n",
    "- Use read() when you want to read the entire content of a file as a single string.\n",
    "- Use readline() when you want to read one line at a time, especially for larger files, or when you want more control over how you process the file's content."
   ]
  },
  {
   "cell_type": "code",
   "execution_count": 37,
   "id": "c0018d8d",
   "metadata": {},
   "outputs": [
    {
     "name": "stdout",
     "output_type": "stream",
     "text": [
      "Hello\n",
      "hi\n",
      "how are you\n",
      "i am fine"
     ]
    }
   ],
   "source": [
    "# Reading entire file using readline()\n",
    "\n",
    "f = open('sample.txt', 'r')\n",
    "\n",
    "while True:\n",
    "    \n",
    "    data = f.readline()\n",
    "    \n",
    "    if data == '':\n",
    "        break\n",
    "    else:\n",
    "            print(data,end='')\n",
    "f.close()"
   ]
  },
  {
   "cell_type": "markdown",
   "id": "20f0b951",
   "metadata": {},
   "source": [
    "### -----------------------------------------------------------------------------------------------------------------------------\n",
    "## Using Context Manager (With)\n",
    "\n",
    "  - It's a good idea to close a file after usage as it will free up the resources\n",
    "  -  If we dont close it, garbage collector would close it\n",
    "  -  with keyword closes the file as soon as the usage is over\n"
   ]
  },
  {
   "cell_type": "code",
   "execution_count": 39,
   "id": "ca607b0f",
   "metadata": {},
   "outputs": [],
   "source": [
    "# Using 'With'\n",
    "\n",
    "with open('sample.txt', 'w') as f:\n",
    "    f.write('A Proud Indian')\n",
    "    \n",
    "## It will close the file asap write operation done in this file"
   ]
  },
  {
   "cell_type": "code",
   "execution_count": 40,
   "id": "e144cfa9",
   "metadata": {},
   "outputs": [
    {
     "ename": "ValueError",
     "evalue": "I/O operation on closed file.",
     "output_type": "error",
     "traceback": [
      "\u001b[0;31m---------------------------------------------------------------------------\u001b[0m",
      "\u001b[0;31mValueError\u001b[0m                                Traceback (most recent call last)",
      "Cell \u001b[0;32mIn[40], line 3\u001b[0m\n\u001b[1;32m      1\u001b[0m \u001b[38;5;66;03m# Lets validate the above statement while try to write the above file\u001b[39;00m\n\u001b[0;32m----> 3\u001b[0m \u001b[43mf\u001b[49m\u001b[38;5;241;43m.\u001b[39;49m\u001b[43mwrite\u001b[49m\u001b[43m(\u001b[49m\u001b[38;5;124;43m'\u001b[39;49m\u001b[38;5;124;43mhello brother\u001b[39;49m\u001b[38;5;124;43m'\u001b[39;49m\u001b[43m)\u001b[49m\n",
      "\u001b[0;31mValueError\u001b[0m: I/O operation on closed file."
     ]
    }
   ],
   "source": [
    "# Lets validate the above statement while try to write the above file\n",
    "\n",
    "f.write('hello brother')"
   ]
  },
  {
   "cell_type": "code",
   "execution_count": 42,
   "id": "cadca9c9",
   "metadata": {},
   "outputs": [
    {
     "name": "stdout",
     "output_type": "stream",
     "text": [
      "A Proud Indian\n"
     ]
    }
   ],
   "source": [
    "# Using 'With' try to read the file\n",
    "# try f.read() now\n",
    "\n",
    "with open('sample.txt', 'r') as f:\n",
    "    print(f.read())\n",
    "\n",
    "## It will close the file asap read operation done in this file    "
   ]
  },
  {
   "cell_type": "code",
   "execution_count": 43,
   "id": "ff0dea60",
   "metadata": {},
   "outputs": [
    {
     "name": "stdout",
     "output_type": "stream",
     "text": [
      "A Proud Indian\n"
     ]
    }
   ],
   "source": [
    "# Using 'With' try to read the file\n",
    "# try f.read() now\n",
    "\n",
    "with open('sample.txt', 'r') as f:\n",
    "    print(f.readline())"
   ]
  },
  {
   "cell_type": "code",
   "execution_count": 46,
   "id": "e3f86318",
   "metadata": {},
   "outputs": [
    {
     "name": "stdout",
     "output_type": "stream",
     "text": [
      "A Proud In\n",
      "dian\n"
     ]
    }
   ],
   "source": [
    "# Moving within a file --> 10 char then 10 char\n",
    "\n",
    "with open('sample.txt', 'r') as f:\n",
    "    print(f.read(10))\n",
    "    print(f.read(10))\n",
    "    \n",
    "# Will load first char in ram then print that then will go for next char till it read entire characters of file"
   ]
  },
  {
   "cell_type": "code",
   "execution_count": 48,
   "id": "97f89802",
   "metadata": {},
   "outputs": [],
   "source": [
    "# To load a big file in memory creating a dummy file \"big.txt\"\n",
    "\n",
    "big_L = ['Hello Prakash' for i in range(1000)]\n",
    "\n",
    "with open('big.txt', 'w') as f:\n",
    "    f.writelines(big_L)\n"
   ]
  },
  {
   "cell_type": "code",
   "execution_count": 49,
   "id": "214a3868",
   "metadata": {},
   "outputs": [
    {
     "name": "stdout",
     "output_type": "stream",
     "text": [
      "['Hello Prakash', 'Hello Prakash', 'Hello Prakash', 'Hello Prakash', 'Hello Prakash', 'Hello Prakash', 'Hello Prakash', 'Hello Prakash', 'Hello Prakash', 'Hello Prakash', 'Hello Prakash', 'Hello Prakash', 'Hello Prakash', 'Hello Prakash', 'Hello Prakash', 'Hello Prakash', 'Hello Prakash', 'Hello Prakash', 'Hello Prakash', 'Hello Prakash', 'Hello Prakash', 'Hello Prakash', 'Hello Prakash', 'Hello Prakash', 'Hello Prakash', 'Hello Prakash', 'Hello Prakash', 'Hello Prakash', 'Hello Prakash', 'Hello Prakash', 'Hello Prakash', 'Hello Prakash', 'Hello Prakash', 'Hello Prakash', 'Hello Prakash', 'Hello Prakash', 'Hello Prakash', 'Hello Prakash', 'Hello Prakash', 'Hello Prakash', 'Hello Prakash', 'Hello Prakash', 'Hello Prakash', 'Hello Prakash', 'Hello Prakash', 'Hello Prakash', 'Hello Prakash', 'Hello Prakash', 'Hello Prakash', 'Hello Prakash', 'Hello Prakash', 'Hello Prakash', 'Hello Prakash', 'Hello Prakash', 'Hello Prakash', 'Hello Prakash', 'Hello Prakash', 'Hello Prakash', 'Hello Prakash', 'Hello Prakash', 'Hello Prakash', 'Hello Prakash', 'Hello Prakash', 'Hello Prakash', 'Hello Prakash', 'Hello Prakash', 'Hello Prakash', 'Hello Prakash', 'Hello Prakash', 'Hello Prakash', 'Hello Prakash', 'Hello Prakash', 'Hello Prakash', 'Hello Prakash', 'Hello Prakash', 'Hello Prakash', 'Hello Prakash', 'Hello Prakash', 'Hello Prakash', 'Hello Prakash', 'Hello Prakash', 'Hello Prakash', 'Hello Prakash', 'Hello Prakash', 'Hello Prakash', 'Hello Prakash', 'Hello Prakash', 'Hello Prakash', 'Hello Prakash', 'Hello Prakash', 'Hello Prakash', 'Hello Prakash', 'Hello Prakash', 'Hello Prakash', 'Hello Prakash', 'Hello Prakash', 'Hello Prakash', 'Hello Prakash', 'Hello Prakash', 'Hello Prakash', 'Hello Prakash', 'Hello Prakash', 'Hello Prakash', 'Hello Prakash', 'Hello Prakash', 'Hello Prakash', 'Hello Prakash', 'Hello Prakash', 'Hello Prakash', 'Hello Prakash', 'Hello Prakash', 'Hello Prakash', 'Hello Prakash', 'Hello Prakash', 'Hello Prakash', 'Hello Prakash', 'Hello Prakash', 'Hello Prakash', 'Hello Prakash', 'Hello Prakash', 'Hello Prakash', 'Hello Prakash', 'Hello Prakash', 'Hello Prakash', 'Hello Prakash', 'Hello Prakash', 'Hello Prakash', 'Hello Prakash', 'Hello Prakash', 'Hello Prakash', 'Hello Prakash', 'Hello Prakash', 'Hello Prakash', 'Hello Prakash', 'Hello Prakash', 'Hello Prakash', 'Hello Prakash', 'Hello Prakash', 'Hello Prakash', 'Hello Prakash', 'Hello Prakash', 'Hello Prakash', 'Hello Prakash', 'Hello Prakash', 'Hello Prakash', 'Hello Prakash', 'Hello Prakash', 'Hello Prakash', 'Hello Prakash', 'Hello Prakash', 'Hello Prakash', 'Hello Prakash', 'Hello Prakash', 'Hello Prakash', 'Hello Prakash', 'Hello Prakash', 'Hello Prakash', 'Hello Prakash', 'Hello Prakash', 'Hello Prakash', 'Hello Prakash', 'Hello Prakash', 'Hello Prakash', 'Hello Prakash', 'Hello Prakash', 'Hello Prakash', 'Hello Prakash', 'Hello Prakash', 'Hello Prakash', 'Hello Prakash', 'Hello Prakash', 'Hello Prakash', 'Hello Prakash', 'Hello Prakash', 'Hello Prakash', 'Hello Prakash', 'Hello Prakash', 'Hello Prakash', 'Hello Prakash', 'Hello Prakash', 'Hello Prakash', 'Hello Prakash', 'Hello Prakash', 'Hello Prakash', 'Hello Prakash', 'Hello Prakash', 'Hello Prakash', 'Hello Prakash', 'Hello Prakash', 'Hello Prakash', 'Hello Prakash', 'Hello Prakash', 'Hello Prakash', 'Hello Prakash', 'Hello Prakash', 'Hello Prakash', 'Hello Prakash', 'Hello Prakash', 'Hello Prakash', 'Hello Prakash', 'Hello Prakash', 'Hello Prakash', 'Hello Prakash', 'Hello Prakash', 'Hello Prakash', 'Hello Prakash', 'Hello Prakash', 'Hello Prakash', 'Hello Prakash', 'Hello Prakash', 'Hello Prakash', 'Hello Prakash', 'Hello Prakash', 'Hello Prakash', 'Hello Prakash', 'Hello Prakash', 'Hello Prakash', 'Hello Prakash', 'Hello Prakash', 'Hello Prakash', 'Hello Prakash', 'Hello Prakash', 'Hello Prakash', 'Hello Prakash', 'Hello Prakash', 'Hello Prakash', 'Hello Prakash', 'Hello Prakash', 'Hello Prakash', 'Hello Prakash', 'Hello Prakash', 'Hello Prakash', 'Hello Prakash', 'Hello Prakash', 'Hello Prakash', 'Hello Prakash', 'Hello Prakash', 'Hello Prakash', 'Hello Prakash', 'Hello Prakash', 'Hello Prakash', 'Hello Prakash', 'Hello Prakash', 'Hello Prakash', 'Hello Prakash', 'Hello Prakash', 'Hello Prakash', 'Hello Prakash', 'Hello Prakash', 'Hello Prakash', 'Hello Prakash', 'Hello Prakash', 'Hello Prakash', 'Hello Prakash', 'Hello Prakash', 'Hello Prakash', 'Hello Prakash', 'Hello Prakash', 'Hello Prakash', 'Hello Prakash', 'Hello Prakash', 'Hello Prakash', 'Hello Prakash', 'Hello Prakash', 'Hello Prakash', 'Hello Prakash', 'Hello Prakash', 'Hello Prakash', 'Hello Prakash', 'Hello Prakash', 'Hello Prakash', 'Hello Prakash', 'Hello Prakash', 'Hello Prakash', 'Hello Prakash', 'Hello Prakash', 'Hello Prakash', 'Hello Prakash', 'Hello Prakash', 'Hello Prakash', 'Hello Prakash', 'Hello Prakash', 'Hello Prakash', 'Hello Prakash', 'Hello Prakash', 'Hello Prakash', 'Hello Prakash', 'Hello Prakash', 'Hello Prakash', 'Hello Prakash', 'Hello Prakash', 'Hello Prakash', 'Hello Prakash', 'Hello Prakash', 'Hello Prakash', 'Hello Prakash', 'Hello Prakash', 'Hello Prakash', 'Hello Prakash', 'Hello Prakash', 'Hello Prakash', 'Hello Prakash', 'Hello Prakash', 'Hello Prakash', 'Hello Prakash', 'Hello Prakash', 'Hello Prakash', 'Hello Prakash', 'Hello Prakash', 'Hello Prakash', 'Hello Prakash', 'Hello Prakash', 'Hello Prakash', 'Hello Prakash', 'Hello Prakash', 'Hello Prakash', 'Hello Prakash', 'Hello Prakash', 'Hello Prakash', 'Hello Prakash', 'Hello Prakash', 'Hello Prakash', 'Hello Prakash', 'Hello Prakash', 'Hello Prakash', 'Hello Prakash', 'Hello Prakash', 'Hello Prakash', 'Hello Prakash', 'Hello Prakash', 'Hello Prakash', 'Hello Prakash', 'Hello Prakash', 'Hello Prakash', 'Hello Prakash', 'Hello Prakash', 'Hello Prakash', 'Hello Prakash', 'Hello Prakash', 'Hello Prakash', 'Hello Prakash', 'Hello Prakash', 'Hello Prakash', 'Hello Prakash', 'Hello Prakash', 'Hello Prakash', 'Hello Prakash', 'Hello Prakash', 'Hello Prakash', 'Hello Prakash', 'Hello Prakash', 'Hello Prakash', 'Hello Prakash', 'Hello Prakash', 'Hello Prakash', 'Hello Prakash', 'Hello Prakash', 'Hello Prakash', 'Hello Prakash', 'Hello Prakash', 'Hello Prakash', 'Hello Prakash', 'Hello Prakash', 'Hello Prakash', 'Hello Prakash', 'Hello Prakash', 'Hello Prakash', 'Hello Prakash', 'Hello Prakash', 'Hello Prakash', 'Hello Prakash', 'Hello Prakash', 'Hello Prakash', 'Hello Prakash', 'Hello Prakash', 'Hello Prakash', 'Hello Prakash', 'Hello Prakash', 'Hello Prakash', 'Hello Prakash', 'Hello Prakash', 'Hello Prakash', 'Hello Prakash', 'Hello Prakash', 'Hello Prakash', 'Hello Prakash', 'Hello Prakash', 'Hello Prakash', 'Hello Prakash', 'Hello Prakash', 'Hello Prakash', 'Hello Prakash', 'Hello Prakash', 'Hello Prakash', 'Hello Prakash', 'Hello Prakash', 'Hello Prakash', 'Hello Prakash', 'Hello Prakash', 'Hello Prakash', 'Hello Prakash', 'Hello Prakash', 'Hello Prakash', 'Hello Prakash', 'Hello Prakash', 'Hello Prakash', 'Hello Prakash', 'Hello Prakash', 'Hello Prakash', 'Hello Prakash', 'Hello Prakash', 'Hello Prakash', 'Hello Prakash', 'Hello Prakash', 'Hello Prakash', 'Hello Prakash', 'Hello Prakash', 'Hello Prakash', 'Hello Prakash', 'Hello Prakash', 'Hello Prakash', 'Hello Prakash', 'Hello Prakash', 'Hello Prakash', 'Hello Prakash', 'Hello Prakash', 'Hello Prakash', 'Hello Prakash', 'Hello Prakash', 'Hello Prakash', 'Hello Prakash', 'Hello Prakash', 'Hello Prakash', 'Hello Prakash', 'Hello Prakash', 'Hello Prakash', 'Hello Prakash', 'Hello Prakash', 'Hello Prakash', 'Hello Prakash', 'Hello Prakash', 'Hello Prakash', 'Hello Prakash', 'Hello Prakash', 'Hello Prakash', 'Hello Prakash', 'Hello Prakash', 'Hello Prakash', 'Hello Prakash', 'Hello Prakash', 'Hello Prakash', 'Hello Prakash', 'Hello Prakash', 'Hello Prakash', 'Hello Prakash', 'Hello Prakash', 'Hello Prakash', 'Hello Prakash', 'Hello Prakash', 'Hello Prakash', 'Hello Prakash', 'Hello Prakash', 'Hello Prakash', 'Hello Prakash', 'Hello Prakash', 'Hello Prakash', 'Hello Prakash', 'Hello Prakash', 'Hello Prakash', 'Hello Prakash', 'Hello Prakash', 'Hello Prakash', 'Hello Prakash', 'Hello Prakash', 'Hello Prakash', 'Hello Prakash', 'Hello Prakash', 'Hello Prakash', 'Hello Prakash', 'Hello Prakash', 'Hello Prakash', 'Hello Prakash', 'Hello Prakash', 'Hello Prakash', 'Hello Prakash', 'Hello Prakash', 'Hello Prakash', 'Hello Prakash', 'Hello Prakash', 'Hello Prakash', 'Hello Prakash', 'Hello Prakash', 'Hello Prakash', 'Hello Prakash', 'Hello Prakash', 'Hello Prakash', 'Hello Prakash', 'Hello Prakash', 'Hello Prakash', 'Hello Prakash', 'Hello Prakash', 'Hello Prakash', 'Hello Prakash', 'Hello Prakash', 'Hello Prakash', 'Hello Prakash', 'Hello Prakash', 'Hello Prakash', 'Hello Prakash', 'Hello Prakash', 'Hello Prakash', 'Hello Prakash', 'Hello Prakash', 'Hello Prakash', 'Hello Prakash', 'Hello Prakash', 'Hello Prakash', 'Hello Prakash', 'Hello Prakash', 'Hello Prakash', 'Hello Prakash', 'Hello Prakash', 'Hello Prakash', 'Hello Prakash', 'Hello Prakash', 'Hello Prakash', 'Hello Prakash', 'Hello Prakash', 'Hello Prakash', 'Hello Prakash', 'Hello Prakash', 'Hello Prakash', 'Hello Prakash', 'Hello Prakash', 'Hello Prakash', 'Hello Prakash', 'Hello Prakash', 'Hello Prakash', 'Hello Prakash', 'Hello Prakash', 'Hello Prakash', 'Hello Prakash', 'Hello Prakash', 'Hello Prakash', 'Hello Prakash', 'Hello Prakash', 'Hello Prakash', 'Hello Prakash', 'Hello Prakash', 'Hello Prakash', 'Hello Prakash', 'Hello Prakash', 'Hello Prakash', 'Hello Prakash', 'Hello Prakash', 'Hello Prakash', 'Hello Prakash', 'Hello Prakash', 'Hello Prakash', 'Hello Prakash', 'Hello Prakash', 'Hello Prakash', 'Hello Prakash', 'Hello Prakash', 'Hello Prakash', 'Hello Prakash', 'Hello Prakash', 'Hello Prakash', 'Hello Prakash', 'Hello Prakash', 'Hello Prakash', 'Hello Prakash', 'Hello Prakash', 'Hello Prakash', 'Hello Prakash', 'Hello Prakash', 'Hello Prakash', 'Hello Prakash', 'Hello Prakash', 'Hello Prakash', 'Hello Prakash', 'Hello Prakash', 'Hello Prakash', 'Hello Prakash', 'Hello Prakash', 'Hello Prakash', 'Hello Prakash', 'Hello Prakash', 'Hello Prakash', 'Hello Prakash', 'Hello Prakash', 'Hello Prakash', 'Hello Prakash', 'Hello Prakash', 'Hello Prakash', 'Hello Prakash', 'Hello Prakash', 'Hello Prakash', 'Hello Prakash', 'Hello Prakash', 'Hello Prakash', 'Hello Prakash', 'Hello Prakash', 'Hello Prakash', 'Hello Prakash', 'Hello Prakash', 'Hello Prakash', 'Hello Prakash', 'Hello Prakash', 'Hello Prakash', 'Hello Prakash', 'Hello Prakash', 'Hello Prakash', 'Hello Prakash', 'Hello Prakash', 'Hello Prakash', 'Hello Prakash', 'Hello Prakash', 'Hello Prakash', 'Hello Prakash', 'Hello Prakash', 'Hello Prakash', 'Hello Prakash', 'Hello Prakash', 'Hello Prakash', 'Hello Prakash', 'Hello Prakash', 'Hello Prakash', 'Hello Prakash', 'Hello Prakash', 'Hello Prakash', 'Hello Prakash', 'Hello Prakash', 'Hello Prakash', 'Hello Prakash', 'Hello Prakash', 'Hello Prakash', 'Hello Prakash', 'Hello Prakash', 'Hello Prakash', 'Hello Prakash', 'Hello Prakash', 'Hello Prakash', 'Hello Prakash', 'Hello Prakash', 'Hello Prakash', 'Hello Prakash', 'Hello Prakash', 'Hello Prakash', 'Hello Prakash', 'Hello Prakash', 'Hello Prakash', 'Hello Prakash', 'Hello Prakash', 'Hello Prakash', 'Hello Prakash', 'Hello Prakash', 'Hello Prakash', 'Hello Prakash', 'Hello Prakash', 'Hello Prakash', 'Hello Prakash', 'Hello Prakash', 'Hello Prakash', 'Hello Prakash', 'Hello Prakash', 'Hello Prakash', 'Hello Prakash', 'Hello Prakash', 'Hello Prakash', 'Hello Prakash', 'Hello Prakash', 'Hello Prakash', 'Hello Prakash', 'Hello Prakash', 'Hello Prakash', 'Hello Prakash', 'Hello Prakash', 'Hello Prakash', 'Hello Prakash', 'Hello Prakash', 'Hello Prakash', 'Hello Prakash', 'Hello Prakash', 'Hello Prakash', 'Hello Prakash', 'Hello Prakash', 'Hello Prakash', 'Hello Prakash', 'Hello Prakash', 'Hello Prakash', 'Hello Prakash', 'Hello Prakash', 'Hello Prakash', 'Hello Prakash', 'Hello Prakash', 'Hello Prakash', 'Hello Prakash', 'Hello Prakash', 'Hello Prakash', 'Hello Prakash', 'Hello Prakash', 'Hello Prakash', 'Hello Prakash', 'Hello Prakash', 'Hello Prakash', 'Hello Prakash', 'Hello Prakash', 'Hello Prakash', 'Hello Prakash', 'Hello Prakash', 'Hello Prakash', 'Hello Prakash', 'Hello Prakash', 'Hello Prakash', 'Hello Prakash', 'Hello Prakash', 'Hello Prakash', 'Hello Prakash', 'Hello Prakash', 'Hello Prakash', 'Hello Prakash', 'Hello Prakash', 'Hello Prakash', 'Hello Prakash', 'Hello Prakash', 'Hello Prakash', 'Hello Prakash', 'Hello Prakash', 'Hello Prakash', 'Hello Prakash', 'Hello Prakash', 'Hello Prakash', 'Hello Prakash', 'Hello Prakash', 'Hello Prakash', 'Hello Prakash', 'Hello Prakash', 'Hello Prakash', 'Hello Prakash', 'Hello Prakash', 'Hello Prakash', 'Hello Prakash', 'Hello Prakash', 'Hello Prakash', 'Hello Prakash', 'Hello Prakash', 'Hello Prakash', 'Hello Prakash', 'Hello Prakash', 'Hello Prakash', 'Hello Prakash', 'Hello Prakash', 'Hello Prakash', 'Hello Prakash', 'Hello Prakash', 'Hello Prakash', 'Hello Prakash', 'Hello Prakash', 'Hello Prakash', 'Hello Prakash', 'Hello Prakash', 'Hello Prakash', 'Hello Prakash', 'Hello Prakash', 'Hello Prakash', 'Hello Prakash', 'Hello Prakash', 'Hello Prakash', 'Hello Prakash', 'Hello Prakash', 'Hello Prakash', 'Hello Prakash', 'Hello Prakash', 'Hello Prakash', 'Hello Prakash', 'Hello Prakash', 'Hello Prakash', 'Hello Prakash', 'Hello Prakash', 'Hello Prakash', 'Hello Prakash', 'Hello Prakash', 'Hello Prakash', 'Hello Prakash', 'Hello Prakash', 'Hello Prakash', 'Hello Prakash', 'Hello Prakash', 'Hello Prakash', 'Hello Prakash', 'Hello Prakash', 'Hello Prakash', 'Hello Prakash', 'Hello Prakash', 'Hello Prakash', 'Hello Prakash', 'Hello Prakash', 'Hello Prakash', 'Hello Prakash', 'Hello Prakash', 'Hello Prakash', 'Hello Prakash', 'Hello Prakash', 'Hello Prakash', 'Hello Prakash', 'Hello Prakash', 'Hello Prakash', 'Hello Prakash', 'Hello Prakash', 'Hello Prakash', 'Hello Prakash', 'Hello Prakash', 'Hello Prakash', 'Hello Prakash', 'Hello Prakash', 'Hello Prakash', 'Hello Prakash', 'Hello Prakash', 'Hello Prakash', 'Hello Prakash', 'Hello Prakash', 'Hello Prakash', 'Hello Prakash', 'Hello Prakash', 'Hello Prakash', 'Hello Prakash', 'Hello Prakash', 'Hello Prakash', 'Hello Prakash', 'Hello Prakash', 'Hello Prakash', 'Hello Prakash', 'Hello Prakash', 'Hello Prakash', 'Hello Prakash', 'Hello Prakash', 'Hello Prakash', 'Hello Prakash', 'Hello Prakash', 'Hello Prakash', 'Hello Prakash', 'Hello Prakash', 'Hello Prakash', 'Hello Prakash', 'Hello Prakash', 'Hello Prakash', 'Hello Prakash', 'Hello Prakash', 'Hello Prakash', 'Hello Prakash', 'Hello Prakash', 'Hello Prakash', 'Hello Prakash', 'Hello Prakash', 'Hello Prakash', 'Hello Prakash', 'Hello Prakash', 'Hello Prakash', 'Hello Prakash', 'Hello Prakash', 'Hello Prakash', 'Hello Prakash', 'Hello Prakash', 'Hello Prakash', 'Hello Prakash', 'Hello Prakash', 'Hello Prakash', 'Hello Prakash', 'Hello Prakash', 'Hello Prakash', 'Hello Prakash', 'Hello Prakash', 'Hello Prakash', 'Hello Prakash', 'Hello Prakash', 'Hello Prakash', 'Hello Prakash', 'Hello Prakash', 'Hello Prakash', 'Hello Prakash', 'Hello Prakash', 'Hello Prakash', 'Hello Prakash', 'Hello Prakash', 'Hello Prakash', 'Hello Prakash', 'Hello Prakash', 'Hello Prakash', 'Hello Prakash', 'Hello Prakash', 'Hello Prakash', 'Hello Prakash', 'Hello Prakash', 'Hello Prakash', 'Hello Prakash', 'Hello Prakash', 'Hello Prakash', 'Hello Prakash', 'Hello Prakash', 'Hello Prakash', 'Hello Prakash', 'Hello Prakash', 'Hello Prakash', 'Hello Prakash', 'Hello Prakash', 'Hello Prakash', 'Hello Prakash', 'Hello Prakash', 'Hello Prakash', 'Hello Prakash', 'Hello Prakash', 'Hello Prakash', 'Hello Prakash', 'Hello Prakash', 'Hello Prakash', 'Hello Prakash', 'Hello Prakash', 'Hello Prakash', 'Hello Prakash', 'Hello Prakash', 'Hello Prakash', 'Hello Prakash', 'Hello Prakash', 'Hello Prakash', 'Hello Prakash', 'Hello Prakash', 'Hello Prakash', 'Hello Prakash', 'Hello Prakash', 'Hello Prakash', 'Hello Prakash', 'Hello Prakash', 'Hello Prakash', 'Hello Prakash', 'Hello Prakash', 'Hello Prakash', 'Hello Prakash', 'Hello Prakash', 'Hello Prakash', 'Hello Prakash', 'Hello Prakash', 'Hello Prakash', 'Hello Prakash', 'Hello Prakash', 'Hello Prakash', 'Hello Prakash', 'Hello Prakash', 'Hello Prakash', 'Hello Prakash', 'Hello Prakash', 'Hello Prakash', 'Hello Prakash', 'Hello Prakash', 'Hello Prakash', 'Hello Prakash', 'Hello Prakash', 'Hello Prakash', 'Hello Prakash', 'Hello Prakash', 'Hello Prakash', 'Hello Prakash', 'Hello Prakash', 'Hello Prakash', 'Hello Prakash', 'Hello Prakash', 'Hello Prakash', 'Hello Prakash', 'Hello Prakash', 'Hello Prakash', 'Hello Prakash', 'Hello Prakash', 'Hello Prakash', 'Hello Prakash', 'Hello Prakash', 'Hello Prakash', 'Hello Prakash', 'Hello Prakash', 'Hello Prakash', 'Hello Prakash', 'Hello Prakash', 'Hello Prakash', 'Hello Prakash', 'Hello Prakash', 'Hello Prakash', 'Hello Prakash', 'Hello Prakash', 'Hello Prakash', 'Hello Prakash', 'Hello Prakash', 'Hello Prakash', 'Hello Prakash', 'Hello Prakash', 'Hello Prakash', 'Hello Prakash', 'Hello Prakash', 'Hello Prakash', 'Hello Prakash', 'Hello Prakash', 'Hello Prakash']\n"
     ]
    }
   ],
   "source": [
    "print(big_L)"
   ]
  },
  {
   "cell_type": "code",
   "execution_count": 51,
   "id": "a034af1e",
   "metadata": {},
   "outputs": [
    {
     "name": "stdout",
     "output_type": "stream",
     "text": [
      "kashHello PrakashHello PrakashHello PrakashHello PrakashHello PrakashHello PrakashHello PrakashHello\n",
      "ashHello PrakashHello PrakashHello PrakashHello PrakashHello PrakashHello PrakashHello PrakashHello \n",
      "shHello PrakashHello PrakashHello PrakashHello PrakashHello PrakashHello PrakashHello PrakashHello P\n",
      "hHello PrakashHello PrakashHello PrakashHello PrakashHello PrakashHello PrakashHello PrakashHello Pr\n",
      "Hello PrakashHello PrakashHello PrakashHello PrakashHello PrakashHello PrakashHello PrakashHello Pra\n",
      "ello PrakashHello PrakashHello PrakashHello PrakashHello PrakashHello PrakashHello PrakashHello Prak\n",
      "llo PrakashHello PrakashHello PrakashHello PrakashHello PrakashHello PrakashHello PrakashHello Praka\n",
      "lo PrakashHello PrakashHello PrakashHello PrakashHello PrakashHello PrakashHello PrakashHello Prakas\n",
      "o PrakashHello PrakashHello PrakashHello PrakashHello PrakashHello PrakashHello PrakashHello Prakash\n",
      " PrakashHello PrakashHello PrakashHello PrakashHello PrakashHello PrakashHello PrakashHello PrakashH\n",
      "PrakashHello PrakashHello PrakashHello PrakashHello PrakashHello PrakashHello PrakashHello PrakashHe\n",
      "rakashHello PrakashHello PrakashHello PrakashHello PrakashHello PrakashHello PrakashHello PrakashHel\n",
      "akashHello PrakashHello PrakashHello PrakashHello PrakashHello PrakashHello PrakashHello PrakashHell\n",
      "kashHello PrakashHello PrakashHello PrakashHello PrakashHello PrakashHello PrakashHello PrakashHello\n",
      "ashHello PrakashHello PrakashHello PrakashHello PrakashHello PrakashHello PrakashHello PrakashHello \n",
      "shHello PrakashHello PrakashHello PrakashHello PrakashHello PrakashHello PrakashHello PrakashHello P\n",
      "hHello PrakashHello PrakashHello PrakashHello PrakashHello PrakashHello PrakashHello PrakashHello Pr\n",
      "Hello PrakashHello PrakashHello PrakashHello PrakashHello PrakashHello PrakashHello PrakashHello Pra\n",
      "ello PrakashHello PrakashHello PrakashHello PrakashHello PrakashHello PrakashHello PrakashHello Prak\n",
      "llo PrakashHello PrakashHello PrakashHello PrakashHello PrakashHello PrakashHello PrakashHello Praka\n",
      "lo PrakashHello PrakashHello PrakashHello PrakashHello PrakashHello PrakashHello PrakashHello Prakas\n",
      "o PrakashHello PrakashHello PrakashHello PrakashHello PrakashHello PrakashHello PrakashHello Prakash\n",
      " PrakashHello PrakashHello PrakashHello PrakashHello PrakashHello PrakashHello PrakashHello PrakashH\n",
      "PrakashHello PrakashHello PrakashHello PrakashHello PrakashHello PrakashHello PrakashHello PrakashHe\n",
      "rakashHello PrakashHello PrakashHello PrakashHello PrakashHello PrakashHello PrakashHello PrakashHel\n",
      "akashHello PrakashHello PrakashHello PrakashHello PrakashHello PrakashHello PrakashHello PrakashHell\n",
      "kashHello PrakashHello PrakashHello PrakashHello PrakashHello PrakashHello PrakashHello PrakashHello\n",
      "ashHello PrakashHello PrakashHello PrakashHello PrakashHello PrakashHello PrakashHello PrakashHello \n",
      "shHello PrakashHello PrakashHello PrakashHello PrakashHello PrakashHello PrakashHello PrakashHello P\n",
      "hHello PrakashHello PrakashHello PrakashHello PrakashHello PrakashHello PrakashHello PrakashHello Pr\n",
      "Hello PrakashHello PrakashHello PrakashHello PrakashHello PrakashHello PrakashHello PrakashHello Pra\n",
      "ello PrakashHello PrakashHello PrakashHello PrakashHello PrakashHello PrakashHello PrakashHello Prak\n",
      "llo PrakashHello PrakashHello PrakashHello PrakashHello PrakashHello PrakashHello PrakashHello Praka\n",
      "lo PrakashHello PrakashHello PrakashHello PrakashHello PrakashHello PrakashHello PrakashHello Prakas\n",
      "o PrakashHello PrakashHello PrakashHello PrakashHello PrakashHello PrakashHello PrakashHello Prakash\n",
      " PrakashHello PrakashHello PrakashHello PrakashHello PrakashHello PrakashHello PrakashHello PrakashH\n",
      "PrakashHello PrakashHello PrakashHello PrakashHello PrakashHello PrakashHello PrakashHello PrakashHe\n",
      "rakashHello PrakashHello PrakashHello PrakashHello PrakashHello PrakashHello PrakashHello PrakashHel\n",
      "akashHello PrakashHello PrakashHello PrakashHello PrakashHello PrakashHello PrakashHello PrakashHell\n",
      "kashHello PrakashHello PrakashHello PrakashHello PrakashHello PrakashHello PrakashHello PrakashHello\n",
      "ashHello PrakashHello PrakashHello PrakashHello PrakashHello PrakashHello PrakashHello PrakashHello \n",
      "shHello PrakashHello PrakashHello PrakashHello PrakashHello PrakashHello PrakashHello PrakashHello P\n",
      "hHello PrakashHello PrakashHello PrakashHello PrakashHello PrakashHello PrakashHello PrakashHello Pr\n",
      "\n"
     ]
    }
   ],
   "source": [
    "# Load chunk wise data into the memory and print that chunk wise\n",
    "\n",
    "with open('big.txt', 'r') as f:\n",
    "    \n",
    "    chunk_size = 100\n",
    "    \n",
    "    while len(f.read(chunk_size)) > 0:\n",
    "        print(f.read(chunk_size))\n",
    "        f.read(chunk_size)\n",
    "\n",
    "# we can not visualise the operation but its loading 100 Character in each iteration while read operation"
   ]
  },
  {
   "cell_type": "code",
   "execution_count": 57,
   "id": "d68776ca",
   "metadata": {},
   "outputs": [
    {
     "name": "stdout",
     "output_type": "stream",
     "text": [
      "ashHello P***ello Praka*** PrakashHe***kashHello ***Hello Prak***o PrakashH***akashHello***hHello Pra***lo Prakash***rakashHell***shHello Pr***llo Prakas***PrakashHel***ashHello P***ello Praka*** PrakashHe***kashHello ***Hello Prak***o PrakashH***akashHello***hHello Pra***lo Prakash***rakashHell***shHello Pr***llo Prakas***PrakashHel***ashHello P***ello Praka*** PrakashHe***kashHello ***Hello Prak***o PrakashH***akashHello***hHello Pra***lo Prakash***rakashHell***shHello Pr***llo Prakas***PrakashHel***ashHello P***ello Praka*** PrakashHe***kashHello ***Hello Prak***o PrakashH***akashHello***hHello Pra***lo Prakash***rakashHell***shHello Pr***llo Prakas***PrakashHel***ashHello P***ello Praka*** PrakashHe***kashHello ***Hello Prak***o PrakashH***akashHello***hHello Pra***lo Prakash***rakashHell***shHello Pr***llo Prakas***PrakashHel***ashHello P***ello Praka*** PrakashHe***kashHello ***Hello Prak***o PrakashH***akashHello***hHello Pra***lo Prakash***rakashHell***shHello Pr***llo Prakas***PrakashHel***ashHello P***ello Praka*** PrakashHe***kashHello ***Hello Prak***o PrakashH***akashHello***hHello Pra***lo Prakash***rakashHell***shHello Pr***llo Prakas***PrakashHel***ashHello P***ello Praka*** PrakashHe***kashHello ***Hello Prak***o PrakashH***akashHello***hHello Pra***lo Prakash***rakashHell***shHello Pr***llo Prakas***PrakashHel***ashHello P***ello Praka*** PrakashHe***kashHello ***Hello Prak***o PrakashH***akashHello***hHello Pra***lo Prakash***rakashHell***shHello Pr***llo Prakas***PrakashHel***ashHello P***ello Praka*** PrakashHe***kashHello ***Hello Prak***o PrakashH***akashHello***hHello Pra***lo Prakash***rakashHell***shHello Pr***llo Prakas***PrakashHel***ashHello P***ello Praka*** PrakashHe***kashHello ***Hello Prak***o PrakashH***akashHello***hHello Pra***lo Prakash***rakashHell***shHello Pr***llo Prakas***PrakashHel***ashHello P***ello Praka*** PrakashHe***kashHello ***Hello Prak***o PrakashH***akashHello***hHello Pra***lo Prakash***rakashHell***shHello Pr***llo Prakas***PrakashHel***ashHello P***ello Praka*** PrakashHe***kashHello ***Hello Prak***o PrakashH***akashHello***hHello Pra***lo Prakash***rakashHell***shHello Pr***llo Prakas***PrakashHel***ashHello P***ello Praka*** PrakashHe***kashHello ***Hello Prak***o PrakashH***akashHello***hHello Pra***lo Prakash***rakashHell***shHello Pr***llo Prakas***PrakashHel***ashHello P***ello Praka*** PrakashHe***kashHello ***Hello Prak***o PrakashH***akashHello***hHello Pra***lo Prakash***rakashHell***shHello Pr***llo Prakas***PrakashHel***ashHello P***ello Praka*** PrakashHe***kashHello ***Hello Prak***o PrakashH***akashHello***hHello Pra***lo Prakash***rakashHell***shHello Pr***llo Prakas***PrakashHel***ashHello P***ello Praka*** PrakashHe***kashHello ***Hello Prak***o PrakashH***akashHello***hHello Pra***lo Prakash***rakashHell***shHello Pr***llo Prakas***PrakashHel***ashHello P***ello Praka*** PrakashHe***kashHello ***Hello Prak***o PrakashH***akashHello***hHello Pra***lo Prakash***rakashHell***shHello Pr***llo Prakas***PrakashHel***ashHello P***ello Praka*** PrakashHe***kashHello ***Hello Prak***o PrakashH***akashHello***hHello Pra***lo Prakash***rakashHell***shHello Pr***llo Prakas***PrakashHel***ashHello P***ello Praka*** PrakashHe***kashHello ***Hello Prak***o PrakashH***akashHello***hHello Pra***lo Prakash***rakashHell***shHello Pr***llo Prakas***PrakashHel***ashHello P***ello Praka*** PrakashHe***kashHello ***Hello Prak***o PrakashH***akashHello***hHello Pra***lo Prakash***rakashHell***shHello Pr***llo Prakas***PrakashHel***ashHello P***ello Praka*** PrakashHe***kashHello ***Hello Prak***o PrakashH***akashHello***hHello Pra***lo Prakash***rakashHell***shHello Pr***llo Prakas***PrakashHel***ashHello P***ello Praka*** PrakashHe***kashHello ***Hello Prak***o PrakashH***akashHello***hHello Pra***lo Prakash***rakashHell***shHello Pr***llo Prakas***PrakashHel***ashHello P***ello Praka*** PrakashHe***kashHello ***Hello Prak***o PrakashH***akashHello***hHello Pra***lo Prakash***rakashHell***shHello Pr***llo Prakas***PrakashHel***ashHello P***ello Praka*** PrakashHe***kashHello ***Hello Prak***o PrakashH***akashHello***hHello Pra***lo Prakash***rakashHell***shHello Pr***llo Prakas***PrakashHel***ashHello P***ello Praka*** PrakashHe***kashHello ***Hello Prak***o PrakashH***akashHello***hHello Pra***lo Prakash***rakashHell***shHello Pr***llo Prakas***PrakashHel***ashHello P***ello Praka*** PrakashHe***kashHello ***Hello Prak***o PrakashH***akashHello***hHello Pra***lo Prakash***rakashHell***shHello Pr***llo Prakas***PrakashHel***ashHello P***ello Praka*** PrakashHe***kashHello ***Hello Prak***o PrakashH***akashHello***hHello Pra***lo Prakash***rakashHell***shHello Pr***llo Prakas***PrakashHel***ashHello P***ello Praka*** PrakashHe***kashHello ***Hello Prak***o PrakashH***akashHello***hHello Pra***lo Prakash***rakashHell***shHello Pr***llo Prakas***PrakashHel***ashHello P***ello Praka*** PrakashHe***kashHello ***Hello Prak***o PrakashH***akashHello***hHello Pra***lo Prakash***rakashHell***shHello Pr***llo Prakas***PrakashHel***ashHello P***ello Praka*** PrakashHe***kashHello ***Hello Prak***o PrakashH***akashHello***hHello Pra***lo Prakash***rakashHell***shHello Pr***llo Prakas***PrakashHel***ashHello P***ello Praka*** PrakashHe***kashHello ***Hello Prak***o PrakashH***akashHello***hHello Pra***lo Prakash***rakashHell***shHello Pr***llo Prakas***PrakashHel***ashHello P***ello Praka*** PrakashHe***kashHello ***Hello Prak***o PrakashH***akashHello***hHello Pra***lo Prakash***rakashHell***shHello Pr***llo Prakas***PrakashHel***ashHello P***ello Praka*** PrakashHe***kashHello ******"
     ]
    }
   ],
   "source": [
    "with open('big.txt', 'r') as f:\n",
    "    \n",
    "    chunk_size = 10\n",
    "    \n",
    "    while len(f.read(chunk_size)) > 0:\n",
    "        print(f.read(chunk_size),end='***')\n",
    "        f.read(chunk_size)\n",
    "        \n",
    "# After every 10 chracter '***' will be coming as we have given this in our logic"
   ]
  },
  {
   "cell_type": "markdown",
   "id": "f48b88df",
   "metadata": {},
   "source": [
    "### -----------------------------------------------------------------------------------------------------------------------------\n",
    "## Seek & Tell Function"
   ]
  },
  {
   "cell_type": "markdown",
   "id": "b9410c38",
   "metadata": {},
   "source": [
    "- In Python, the seek() and tell() functions are related to file handling and are used to navigate and retrieve information about the current position within a file. \n",
    "\n",
    "  - The 'seek()' method is used to change the file's current position.  \n",
    "  \n",
    "  - The 'tell()' method returns the current position of the file cursor. "
   ]
  },
  {
   "cell_type": "code",
   "execution_count": null,
   "id": "bd92ed99",
   "metadata": {},
   "outputs": [],
   "source": [
    "# Example of seek() function\n",
    "\n",
    "with open('example.txt', 'r') as file:\n",
    "    content = file.read(10)  # Read the first 10 characters\n",
    "    print(content)\n",
    "    \n",
    "    file.seek(0)  # Move the cursor to the beginning of the file\n",
    "    content = file.read(5)  # Read the next 5 characters from the beginning\n",
    "    print(content)"
   ]
  },
  {
   "cell_type": "code",
   "execution_count": null,
   "id": "cfc37ac7",
   "metadata": {},
   "outputs": [],
   "source": [
    "# Example of tell() function\n",
    "\n",
    "with open('example.txt', 'r') as file:\n",
    "    content = file.read(10)  # Read the first 10 characters\n",
    "    print(content)\n",
    "    \n",
    "    position = file.tell()  # Get the current position\n",
    "    print(\"Current Position:\", position)\n",
    "    \n",
    "    file.seek(0)  # Move the cursor to the beginning of the file\n",
    "    content = file.read(5)  # Read the next 5 characters from the beginning\n",
    "    print(content)\n",
    "    \n",
    "    position = file.tell()  # Get the new position\n",
    "    print(\"New Position:\", position)"
   ]
  },
  {
   "cell_type": "markdown",
   "id": "e7b1f231",
   "metadata": {},
   "source": [
    "- In the example above, seek() is used to move the cursor to a specific position, and tell() is used to retrieve the current position.  \n",
    "\n",
    "- These functions are especially useful when you need to navigate within a file, re-read certain portions, or update specific parts of the file content. "
   ]
  },
  {
   "cell_type": "code",
   "execution_count": 59,
   "id": "89e7bd68",
   "metadata": {},
   "outputs": [
    {
     "name": "stdout",
     "output_type": "stream",
     "text": [
      "A Proud In\n"
     ]
    }
   ],
   "source": [
    "# few more examples of seek functions\n",
    "\n",
    "with open('sample.txt','r') as f:\n",
    "    print(f.read(10))"
   ]
  },
  {
   "cell_type": "code",
   "execution_count": 60,
   "id": "9969cadf",
   "metadata": {},
   "outputs": [
    {
     "name": "stdout",
     "output_type": "stream",
     "text": [
      "A Proud In\n",
      "10\n"
     ]
    }
   ],
   "source": [
    "with open('sample.txt','r') as f:\n",
    "    print(f.read(10))\n",
    "    print(f.tell())"
   ]
  },
  {
   "cell_type": "code",
   "execution_count": null,
   "id": "7c5a2de0",
   "metadata": {},
   "outputs": [],
   "source": [
    "with open('sample.txt','r') as f:\n",
    "    print(f.read(10))\n",
    "    print(f.tell())"
   ]
  },
  {
   "cell_type": "code",
   "execution_count": 62,
   "id": "efa930ec",
   "metadata": {},
   "outputs": [
    {
     "name": "stdout",
     "output_type": "stream",
     "text": [
      "A Proud In\n",
      "10\n",
      "A Proud In\n",
      "10\n"
     ]
    }
   ],
   "source": [
    "with open('sample.txt','r') as f:\n",
    "    print(f.read(10))\n",
    "    print(f.tell())\n",
    "    f.seek(0)\n",
    "    print(f.read(10))\n",
    "    print(f.tell())"
   ]
  },
  {
   "cell_type": "code",
   "execution_count": 63,
   "id": "7110959b",
   "metadata": {},
   "outputs": [
    {
     "name": "stdout",
     "output_type": "stream",
     "text": [
      "roud India\n",
      "13\n",
      "A Proud In\n",
      "10\n"
     ]
    }
   ],
   "source": [
    "with open('sample.txt','r') as f:\n",
    "    f.seek(3)\n",
    "    print(f.read(10))\n",
    "    print(f.tell())\n",
    "    f.seek(0)\n",
    "    print(f.read(10))\n",
    "    print(f.tell())"
   ]
  },
  {
   "cell_type": "code",
   "execution_count": 68,
   "id": "e23b9ba8",
   "metadata": {},
   "outputs": [
    {
     "name": "stdout",
     "output_type": "stream",
     "text": [
      "<_io.TextIOWrapper name='sample.txt' mode='w' encoding='UTF-8'>\n"
     ]
    }
   ],
   "source": [
    "# seek() during write\n",
    "\n",
    "with open('sample.txt', 'w') as f:\n",
    "    f.write('Hello Python')\n",
    "    f.seek(0)\n",
    "    f.write('X')\n",
    "\n",
    "\n",
    "print(f)\n",
    "\n",
    "# Within the file it will write 'Xello Python'"
   ]
  },
  {
   "cell_type": "markdown",
   "id": "88e8e6c4",
   "metadata": {},
   "source": [
    "### Problem with working in text mode\n",
    "\n",
    "- can't work with the binary files like images\n",
    "- not good for the other data types like int/float/list/tuples\n"
   ]
  },
  {
   "cell_type": "code",
   "execution_count": 69,
   "id": "8cdd1fb4",
   "metadata": {},
   "outputs": [
    {
     "ename": "UnicodeDecodeError",
     "evalue": "'utf-8' codec can't decode byte 0xff in position 0: invalid start byte",
     "output_type": "error",
     "traceback": [
      "\u001b[0;31m---------------------------------------------------------------------------\u001b[0m",
      "\u001b[0;31mUnicodeDecodeError\u001b[0m                        Traceback (most recent call last)",
      "Cell \u001b[0;32mIn[69], line 4\u001b[0m\n\u001b[1;32m      1\u001b[0m \u001b[38;5;66;03m# Lets check binary file with write \u001b[39;00m\n\u001b[1;32m      3\u001b[0m \u001b[38;5;28;01mwith\u001b[39;00m \u001b[38;5;28mopen\u001b[39m(\u001b[38;5;124m'\u001b[39m\u001b[38;5;124m1688264416968.jpg\u001b[39m\u001b[38;5;124m'\u001b[39m, \u001b[38;5;124m'\u001b[39m\u001b[38;5;124mr\u001b[39m\u001b[38;5;124m'\u001b[39m) \u001b[38;5;28;01mas\u001b[39;00m f:\n\u001b[0;32m----> 4\u001b[0m     \u001b[43mf\u001b[49m\u001b[38;5;241;43m.\u001b[39;49m\u001b[43mread\u001b[49m\u001b[43m(\u001b[49m\u001b[43m)\u001b[49m\n",
      "File \u001b[0;32m~/anaconda3/lib/python3.10/codecs.py:322\u001b[0m, in \u001b[0;36mBufferedIncrementalDecoder.decode\u001b[0;34m(self, input, final)\u001b[0m\n\u001b[1;32m    319\u001b[0m \u001b[38;5;28;01mdef\u001b[39;00m \u001b[38;5;21mdecode\u001b[39m(\u001b[38;5;28mself\u001b[39m, \u001b[38;5;28minput\u001b[39m, final\u001b[38;5;241m=\u001b[39m\u001b[38;5;28;01mFalse\u001b[39;00m):\n\u001b[1;32m    320\u001b[0m     \u001b[38;5;66;03m# decode input (taking the buffer into account)\u001b[39;00m\n\u001b[1;32m    321\u001b[0m     data \u001b[38;5;241m=\u001b[39m \u001b[38;5;28mself\u001b[39m\u001b[38;5;241m.\u001b[39mbuffer \u001b[38;5;241m+\u001b[39m \u001b[38;5;28minput\u001b[39m\n\u001b[0;32m--> 322\u001b[0m     (result, consumed) \u001b[38;5;241m=\u001b[39m \u001b[38;5;28;43mself\u001b[39;49m\u001b[38;5;241;43m.\u001b[39;49m\u001b[43m_buffer_decode\u001b[49m\u001b[43m(\u001b[49m\u001b[43mdata\u001b[49m\u001b[43m,\u001b[49m\u001b[43m \u001b[49m\u001b[38;5;28;43mself\u001b[39;49m\u001b[38;5;241;43m.\u001b[39;49m\u001b[43merrors\u001b[49m\u001b[43m,\u001b[49m\u001b[43m \u001b[49m\u001b[43mfinal\u001b[49m\u001b[43m)\u001b[49m\n\u001b[1;32m    323\u001b[0m     \u001b[38;5;66;03m# keep undecoded input until the next call\u001b[39;00m\n\u001b[1;32m    324\u001b[0m     \u001b[38;5;28mself\u001b[39m\u001b[38;5;241m.\u001b[39mbuffer \u001b[38;5;241m=\u001b[39m data[consumed:]\n",
      "\u001b[0;31mUnicodeDecodeError\u001b[0m: 'utf-8' codec can't decode byte 0xff in position 0: invalid start byte"
     ]
    }
   ],
   "source": [
    "# Lets check binary file with write \n",
    "\n",
    "with open('1688264416968.jpg', 'r') as f:\n",
    "    f.read()"
   ]
  },
  {
   "cell_type": "code",
   "execution_count": 72,
   "id": "8adda11d",
   "metadata": {},
   "outputs": [],
   "source": [
    "# working with binary file\n",
    "\n",
    "with open('1688264416968.jpg', 'rb') as f:            # 'rb' --> read binary used to read binary file\n",
    "    with open('1688264416968_copy.jpg','wb') as wf:   # 'wb' --> write binary used to write binary file \n",
    "        wf.write(f.read())\n",
    "        \n",
    "\n",
    "\n",
    "# After Execution of this code a copy of same binary file will be created in same path"
   ]
  },
  {
   "cell_type": "code",
   "execution_count": 77,
   "id": "180e69cf",
   "metadata": {},
   "outputs": [
    {
     "ename": "TypeError",
     "evalue": "write() argument must be str, not int",
     "output_type": "error",
     "traceback": [
      "\u001b[0;31m---------------------------------------------------------------------------\u001b[0m",
      "\u001b[0;31mTypeError\u001b[0m                                 Traceback (most recent call last)",
      "Cell \u001b[0;32mIn[77], line 4\u001b[0m\n\u001b[1;32m      1\u001b[0m \u001b[38;5;66;03m# working with other data types\u001b[39;00m\n\u001b[1;32m      3\u001b[0m \u001b[38;5;28;01mwith\u001b[39;00m \u001b[38;5;28mopen\u001b[39m(\u001b[38;5;124m'\u001b[39m\u001b[38;5;124msample.txt\u001b[39m\u001b[38;5;124m'\u001b[39m, \u001b[38;5;124m'\u001b[39m\u001b[38;5;124mw\u001b[39m\u001b[38;5;124m'\u001b[39m) \u001b[38;5;28;01mas\u001b[39;00m f:\n\u001b[0;32m----> 4\u001b[0m     \u001b[43mf\u001b[49m\u001b[38;5;241;43m.\u001b[39;49m\u001b[43mwrite\u001b[49m\u001b[43m(\u001b[49m\u001b[38;5;241;43m5\u001b[39;49m\u001b[43m)\u001b[49m\n",
      "\u001b[0;31mTypeError\u001b[0m: write() argument must be str, not int"
     ]
    }
   ],
   "source": [
    "# working with other data types\n",
    "\n",
    "with open('sample.txt', 'w') as f:\n",
    "    f.write(5)\n",
    "    \n",
    "# This block of code will throw error because we can not use 'w' to update any other data types (eg - list, int etc)\n",
    "# Only string can be updated using this method"
   ]
  },
  {
   "cell_type": "code",
   "execution_count": 86,
   "id": "1c0c7a8e",
   "metadata": {},
   "outputs": [
    {
     "name": "stdout",
     "output_type": "stream",
     "text": [
      "<_io.TextIOWrapper name='sample.txt' mode='w' encoding='UTF-8'>\n",
      "1\n"
     ]
    }
   ],
   "source": [
    "with open('sample.txt', 'w') as f:\n",
    "    f.write('5')\n",
    "    print(f)\n",
    "    print(f.write('5'))\n"
   ]
  },
  {
   "cell_type": "code",
   "execution_count": 87,
   "id": "2ed733cd",
   "metadata": {},
   "outputs": [
    {
     "name": "stdout",
     "output_type": "stream",
     "text": [
      "\n"
     ]
    }
   ],
   "source": [
    "with open('sample.txt', 'r') as f:\n",
    "    f.read()\n",
    "    print(f.read())\n"
   ]
  },
  {
   "cell_type": "code",
   "execution_count": 90,
   "id": "c487cdfa",
   "metadata": {},
   "outputs": [
    {
     "name": "stdout",
     "output_type": "stream",
     "text": [
      "60\n"
     ]
    }
   ],
   "source": [
    "with open('sample.txt', 'r') as f:\n",
    "    print(int(f.read()) + 5)"
   ]
  },
  {
   "cell_type": "code",
   "execution_count": 92,
   "id": "edd2e194",
   "metadata": {},
   "outputs": [
    {
     "ename": "TypeError",
     "evalue": "write() argument must be str, not dict",
     "output_type": "error",
     "traceback": [
      "\u001b[0;31m---------------------------------------------------------------------------\u001b[0m",
      "\u001b[0;31mTypeError\u001b[0m                                 Traceback (most recent call last)",
      "Cell \u001b[0;32mIn[92], line 9\u001b[0m\n\u001b[1;32m      3\u001b[0m d \u001b[38;5;241m=\u001b[39m {\u001b[38;5;124m'\u001b[39m\u001b[38;5;124mname\u001b[39m\u001b[38;5;124m'\u001b[39m : \u001b[38;5;124m'\u001b[39m\u001b[38;5;124mPrakash\u001b[39m\u001b[38;5;124m'\u001b[39m,\n\u001b[1;32m      4\u001b[0m     \u001b[38;5;124m'\u001b[39m\u001b[38;5;124mage\u001b[39m\u001b[38;5;124m'\u001b[39m : \u001b[38;5;241m33\u001b[39m,\n\u001b[1;32m      5\u001b[0m      \u001b[38;5;124m'\u001b[39m\u001b[38;5;124mgender\u001b[39m\u001b[38;5;124m'\u001b[39m : \u001b[38;5;124m'\u001b[39m\u001b[38;5;124mMale\u001b[39m\u001b[38;5;124m'\u001b[39m\n\u001b[1;32m      6\u001b[0m     }\n\u001b[1;32m      8\u001b[0m \u001b[38;5;28;01mwith\u001b[39;00m \u001b[38;5;28mopen\u001b[39m(\u001b[38;5;124m'\u001b[39m\u001b[38;5;124msample.txt\u001b[39m\u001b[38;5;124m'\u001b[39m, \u001b[38;5;124m'\u001b[39m\u001b[38;5;124mr\u001b[39m\u001b[38;5;124m'\u001b[39m) \u001b[38;5;28;01mas\u001b[39;00m f:\n\u001b[0;32m----> 9\u001b[0m     \u001b[43mf\u001b[49m\u001b[38;5;241;43m.\u001b[39;49m\u001b[43mwrite\u001b[49m\u001b[43m(\u001b[49m\u001b[43md\u001b[49m\u001b[43m)\u001b[49m\n",
      "\u001b[0;31mTypeError\u001b[0m: write() argument must be str, not dict"
     ]
    }
   ],
   "source": [
    "# More complex data (Dictionary data tyep)\n",
    "\n",
    "d = {'name' : 'Prakash',\n",
    "    'age' : 33,\n",
    "     'gender' : 'Male'\n",
    "    }\n",
    "\n",
    "with open('sample.txt', 'r') as f:\n",
    "    f.write(d)"
   ]
  },
  {
   "cell_type": "code",
   "execution_count": 99,
   "id": "87ff060b",
   "metadata": {},
   "outputs": [],
   "source": [
    "\n",
    "with open('sample.txt', 'w') as f:\n",
    "    f.write(str(d))\n"
   ]
  },
  {
   "cell_type": "code",
   "execution_count": 109,
   "id": "d22f85c6",
   "metadata": {},
   "outputs": [
    {
     "name": "stdout",
     "output_type": "stream",
     "text": [
      "{'name': 'Prakash', 'age': 33, 'gender': 'Male'}\n",
      "<class 'str'>\n"
     ]
    }
   ],
   "source": [
    "\n",
    "with open('sample.txt', 'r') as f:\n",
    "     print(f.read())\n",
    "     print(type(f.read()))"
   ]
  },
  {
   "cell_type": "code",
   "execution_count": 110,
   "id": "53f3d006",
   "metadata": {},
   "outputs": [
    {
     "ename": "ValueError",
     "evalue": "dictionary update sequence element #0 has length 1; 2 is required",
     "output_type": "error",
     "traceback": [
      "\u001b[0;31m---------------------------------------------------------------------------\u001b[0m",
      "\u001b[0;31mValueError\u001b[0m                                Traceback (most recent call last)",
      "Cell \u001b[0;32mIn[110], line 2\u001b[0m\n\u001b[1;32m      1\u001b[0m \u001b[38;5;28;01mwith\u001b[39;00m \u001b[38;5;28mopen\u001b[39m(\u001b[38;5;124m'\u001b[39m\u001b[38;5;124msample.txt\u001b[39m\u001b[38;5;124m'\u001b[39m, \u001b[38;5;124m'\u001b[39m\u001b[38;5;124mr\u001b[39m\u001b[38;5;124m'\u001b[39m) \u001b[38;5;28;01mas\u001b[39;00m f:\n\u001b[0;32m----> 2\u001b[0m      \u001b[38;5;28mprint\u001b[39m(\u001b[38;5;28;43mdict\u001b[39;49m\u001b[43m(\u001b[49m\u001b[43mf\u001b[49m\u001b[38;5;241;43m.\u001b[39;49m\u001b[43mread\u001b[49m\u001b[43m(\u001b[49m\u001b[43m)\u001b[49m\u001b[43m)\u001b[49m)\n",
      "\u001b[0;31mValueError\u001b[0m: dictionary update sequence element #0 has length 1; 2 is required"
     ]
    }
   ],
   "source": [
    "\n",
    "with open('sample.txt', 'r') as f:\n",
    "     print(dict(f.read()))"
   ]
  },
  {
   "cell_type": "markdown",
   "id": "ba68a617",
   "metadata": {},
   "source": [
    "### -----------------------------------------------------------------------------------------------------------------------------\n",
    "## Serialization & Deserialization  \n",
    "\n",
    " - Serialization - Process of converting python data types to JSON Format\n",
    " - Deserialization - Process of converting JSON to python data types"
   ]
  },
  {
   "cell_type": "code",
   "execution_count": 117,
   "id": "aa14dfe7",
   "metadata": {},
   "outputs": [],
   "source": [
    "# Serialization using JSON\n",
    "# List\n",
    "\n",
    "import json\n",
    "\n",
    "L = [1,2,3,4,5]\n",
    "\n",
    "with open('open.json','w') as f:\n",
    "    json.dump(L,f)"
   ]
  },
  {
   "cell_type": "code",
   "execution_count": 118,
   "id": "e8ce8501",
   "metadata": {},
   "outputs": [],
   "source": [
    "# Dictionary\n",
    "\n",
    "d = {'name' : 'Prakash',\n",
    "    'age' : 33,\n",
    "     'gender' : 'Male'\n",
    "}\n",
    "\n",
    "with open('demo1.json','w') as f:\n",
    "    json.dump(d,f)"
   ]
  },
  {
   "cell_type": "code",
   "execution_count": 121,
   "id": "ef0767c8",
   "metadata": {},
   "outputs": [],
   "source": [
    "# for better visibility \n",
    "\n",
    "with open('demo1.json','w') as f:\n",
    "    json.dump(d,f,indent=4)"
   ]
  },
  {
   "cell_type": "code",
   "execution_count": 124,
   "id": "11bb08ba",
   "metadata": {},
   "outputs": [
    {
     "name": "stdout",
     "output_type": "stream",
     "text": [
      "{'name': 'Prakash', 'age': 33, 'gender': 'Male'}\n",
      "<class 'dict'>\n"
     ]
    }
   ],
   "source": [
    "# Deserialization\n",
    "\n",
    "import json\n",
    "\n",
    "with open('demo1.json','r') as f:\n",
    "    d = json.load(f)\n",
    "    print(d)\n",
    "    print(type(d))"
   ]
  },
  {
   "cell_type": "code",
   "execution_count": 127,
   "id": "83322ba9",
   "metadata": {},
   "outputs": [],
   "source": [
    "# Serialization and Deserialization tuple\n",
    "\n",
    "import json\n",
    "\n",
    "t = (1,2,3,4,5)\n",
    "\n",
    "with open('demo1.json','w') as f:\n",
    "    json.dump(t,f)"
   ]
  },
  {
   "cell_type": "markdown",
   "id": "e8cc14bb",
   "metadata": {},
   "source": [
    "- whenever we dump tuple data into json that data will be Return as list only"
   ]
  },
  {
   "cell_type": "code",
   "execution_count": 129,
   "id": "e629ceeb",
   "metadata": {},
   "outputs": [],
   "source": [
    "# Serialization and Deserialization a nested dict\n",
    "\n",
    "d = {\n",
    "    'student': 'Prakash',\n",
    "    'marks': [23,14,34,45,56]\n",
    "}\n",
    "\n",
    "with open('demo2.json','w') as f:\n",
    "    json.dump(d,f,indent=4)"
   ]
  },
  {
   "cell_type": "markdown",
   "id": "ee473b9f",
   "metadata": {},
   "source": [
    "### -----------------------------------------------------------------------------------------------------------------------------\n",
    "## Serialization and Deserialization Custom Objects"
   ]
  },
  {
   "cell_type": "code",
   "execution_count": 132,
   "id": "2c489829",
   "metadata": {},
   "outputs": [],
   "source": [
    "class Person:\n",
    "    \n",
    "    def __init__(self,fname,lname,age,gender):\n",
    "        self.fname = fname\n",
    "        self.lname = lname\n",
    "        self.age = age\n",
    "        self.gender = gender\n",
    "        \n",
    "# format to printed in\n",
    "# -> Prakash Singh age -> 32 gender -> Male"
   ]
  },
  {
   "cell_type": "code",
   "execution_count": 133,
   "id": "96ce8466",
   "metadata": {},
   "outputs": [],
   "source": [
    "person = Person('Prakash','Singh',32,'Male')"
   ]
  },
  {
   "cell_type": "code",
   "execution_count": 135,
   "id": "0a4f2d4e",
   "metadata": {},
   "outputs": [
    {
     "ename": "TypeError",
     "evalue": "Object of type Person is not JSON serializable",
     "output_type": "error",
     "traceback": [
      "\u001b[0;31m---------------------------------------------------------------------------\u001b[0m",
      "\u001b[0;31mTypeError\u001b[0m                                 Traceback (most recent call last)",
      "Cell \u001b[0;32mIn[135], line 6\u001b[0m\n\u001b[1;32m      3\u001b[0m \u001b[38;5;28;01mimport\u001b[39;00m \u001b[38;5;21;01mjson\u001b[39;00m\n\u001b[1;32m      5\u001b[0m \u001b[38;5;28;01mwith\u001b[39;00m \u001b[38;5;28mopen\u001b[39m(\u001b[38;5;124m'\u001b[39m\u001b[38;5;124mdemo.json\u001b[39m\u001b[38;5;124m'\u001b[39m,\u001b[38;5;124m'\u001b[39m\u001b[38;5;124mw\u001b[39m\u001b[38;5;124m'\u001b[39m) \u001b[38;5;28;01mas\u001b[39;00m f:\n\u001b[0;32m----> 6\u001b[0m     \u001b[43mjson\u001b[49m\u001b[38;5;241;43m.\u001b[39;49m\u001b[43mdump\u001b[49m\u001b[43m(\u001b[49m\u001b[43mperson\u001b[49m\u001b[43m,\u001b[49m\u001b[43mf\u001b[49m\u001b[43m)\u001b[49m\n",
      "File \u001b[0;32m~/anaconda3/lib/python3.10/json/__init__.py:179\u001b[0m, in \u001b[0;36mdump\u001b[0;34m(obj, fp, skipkeys, ensure_ascii, check_circular, allow_nan, cls, indent, separators, default, sort_keys, **kw)\u001b[0m\n\u001b[1;32m    173\u001b[0m     iterable \u001b[38;5;241m=\u001b[39m \u001b[38;5;28mcls\u001b[39m(skipkeys\u001b[38;5;241m=\u001b[39mskipkeys, ensure_ascii\u001b[38;5;241m=\u001b[39mensure_ascii,\n\u001b[1;32m    174\u001b[0m         check_circular\u001b[38;5;241m=\u001b[39mcheck_circular, allow_nan\u001b[38;5;241m=\u001b[39mallow_nan, indent\u001b[38;5;241m=\u001b[39mindent,\n\u001b[1;32m    175\u001b[0m         separators\u001b[38;5;241m=\u001b[39mseparators,\n\u001b[1;32m    176\u001b[0m         default\u001b[38;5;241m=\u001b[39mdefault, sort_keys\u001b[38;5;241m=\u001b[39msort_keys, \u001b[38;5;241m*\u001b[39m\u001b[38;5;241m*\u001b[39mkw)\u001b[38;5;241m.\u001b[39miterencode(obj)\n\u001b[1;32m    177\u001b[0m \u001b[38;5;66;03m# could accelerate with writelines in some versions of Python, at\u001b[39;00m\n\u001b[1;32m    178\u001b[0m \u001b[38;5;66;03m# a debuggability cost\u001b[39;00m\n\u001b[0;32m--> 179\u001b[0m \u001b[38;5;28;01mfor\u001b[39;00m chunk \u001b[38;5;129;01min\u001b[39;00m iterable:\n\u001b[1;32m    180\u001b[0m     fp\u001b[38;5;241m.\u001b[39mwrite(chunk)\n",
      "File \u001b[0;32m~/anaconda3/lib/python3.10/json/encoder.py:438\u001b[0m, in \u001b[0;36m_make_iterencode.<locals>._iterencode\u001b[0;34m(o, _current_indent_level)\u001b[0m\n\u001b[1;32m    436\u001b[0m         \u001b[38;5;28;01mraise\u001b[39;00m \u001b[38;5;167;01mValueError\u001b[39;00m(\u001b[38;5;124m\"\u001b[39m\u001b[38;5;124mCircular reference detected\u001b[39m\u001b[38;5;124m\"\u001b[39m)\n\u001b[1;32m    437\u001b[0m     markers[markerid] \u001b[38;5;241m=\u001b[39m o\n\u001b[0;32m--> 438\u001b[0m o \u001b[38;5;241m=\u001b[39m \u001b[43m_default\u001b[49m\u001b[43m(\u001b[49m\u001b[43mo\u001b[49m\u001b[43m)\u001b[49m\n\u001b[1;32m    439\u001b[0m \u001b[38;5;28;01myield from\u001b[39;00m _iterencode(o, _current_indent_level)\n\u001b[1;32m    440\u001b[0m \u001b[38;5;28;01mif\u001b[39;00m markers \u001b[38;5;129;01mis\u001b[39;00m \u001b[38;5;129;01mnot\u001b[39;00m \u001b[38;5;28;01mNone\u001b[39;00m:\n",
      "File \u001b[0;32m~/anaconda3/lib/python3.10/json/encoder.py:179\u001b[0m, in \u001b[0;36mJSONEncoder.default\u001b[0;34m(self, o)\u001b[0m\n\u001b[1;32m    160\u001b[0m \u001b[38;5;28;01mdef\u001b[39;00m \u001b[38;5;21mdefault\u001b[39m(\u001b[38;5;28mself\u001b[39m, o):\n\u001b[1;32m    161\u001b[0m \u001b[38;5;250m    \u001b[39m\u001b[38;5;124;03m\"\"\"Implement this method in a subclass such that it returns\u001b[39;00m\n\u001b[1;32m    162\u001b[0m \u001b[38;5;124;03m    a serializable object for ``o``, or calls the base implementation\u001b[39;00m\n\u001b[1;32m    163\u001b[0m \u001b[38;5;124;03m    (to raise a ``TypeError``).\u001b[39;00m\n\u001b[0;32m   (...)\u001b[0m\n\u001b[1;32m    177\u001b[0m \n\u001b[1;32m    178\u001b[0m \u001b[38;5;124;03m    \"\"\"\u001b[39;00m\n\u001b[0;32m--> 179\u001b[0m     \u001b[38;5;28;01mraise\u001b[39;00m \u001b[38;5;167;01mTypeError\u001b[39;00m(\u001b[38;5;124mf\u001b[39m\u001b[38;5;124m'\u001b[39m\u001b[38;5;124mObject of type \u001b[39m\u001b[38;5;132;01m{\u001b[39;00mo\u001b[38;5;241m.\u001b[39m\u001b[38;5;18m__class__\u001b[39m\u001b[38;5;241m.\u001b[39m\u001b[38;5;18m__name__\u001b[39m\u001b[38;5;132;01m}\u001b[39;00m\u001b[38;5;124m \u001b[39m\u001b[38;5;124m'\u001b[39m\n\u001b[1;32m    180\u001b[0m                     \u001b[38;5;124mf\u001b[39m\u001b[38;5;124m'\u001b[39m\u001b[38;5;124mis not JSON serializable\u001b[39m\u001b[38;5;124m'\u001b[39m)\n",
      "\u001b[0;31mTypeError\u001b[0m: Object of type Person is not JSON serializable"
     ]
    }
   ],
   "source": [
    "# As a string\n",
    "\n",
    "import json\n",
    "\n",
    "with open('demo.json','w') as f:\n",
    "    json.dump(person,f)\n",
    "    \n",
    "# we can not Serialization our own custom class object without definig it."
   ]
  },
  {
   "cell_type": "code",
   "execution_count": 136,
   "id": "05ef030e",
   "metadata": {},
   "outputs": [],
   "source": [
    "# Way to serialize our own Custom class object\n",
    "\n",
    "import json\n",
    "\n",
    "def show_object(person):\n",
    "    if isinstance(person,Person):\n",
    "        return \"{} {} age -> {} gender -> {}\".format(person.fname,person.lname,person.age,person.gender) \n",
    "\n",
    "with open('demo.json','w') as f:\n",
    "    json.dump(person,f,default=show_object)\n",
    "    "
   ]
  },
  {
   "cell_type": "code",
   "execution_count": 137,
   "id": "6c4b229f",
   "metadata": {},
   "outputs": [],
   "source": [
    "# same as above in dict\n",
    "\n",
    "import json\n",
    "\n",
    "def show_object(person):\n",
    "    if isinstance(person,Person):\n",
    "        return {'name': person.fname+ ' '+ person.lname,'age':person.age,'gender':person.gender}\n",
    "\n",
    "with open('demo.json','w') as f:\n",
    "    json.dump(person,f,default=show_object,indent=4)"
   ]
  },
  {
   "cell_type": "code",
   "execution_count": 139,
   "id": "325df4c6",
   "metadata": {},
   "outputs": [
    {
     "name": "stdout",
     "output_type": "stream",
     "text": [
      "{'name': 'Prakash Singh', 'age': 32, 'gender': 'Male'}\n"
     ]
    }
   ],
   "source": [
    "# # Way to serialize our own Custom class object\n",
    "\n",
    "import json\n",
    "\n",
    "with open('demo.json','r') as f:\n",
    "    print(json.load(f))"
   ]
  },
  {
   "cell_type": "code",
   "execution_count": 140,
   "id": "9f451e7a",
   "metadata": {},
   "outputs": [
    {
     "name": "stdout",
     "output_type": "stream",
     "text": [
      "{'name': 'Prakash Singh', 'age': 32, 'gender': 'Male'}\n",
      "<class 'dict'>\n"
     ]
    }
   ],
   "source": [
    "# put value in Variable\n",
    "\n",
    "import json\n",
    "\n",
    "with open('demo.json','r') as f:\n",
    "    d = json.load(f)\n",
    "    print(d)\n",
    "    print(type(d))"
   ]
  },
  {
   "cell_type": "markdown",
   "id": "3c7e3f4e",
   "metadata": {},
   "source": [
    "### -----------------------------------------------------------------------------------------------------------------------------\n",
    "## Pickling\n",
    "\n",
    "  - It is the process whereby a Python object hierarchy is converted into a byte stream, and unpickling is the inverse operation, whereby a byte stream (from a binary file or bytes-like object) is converted back into an object hierarchy."
   ]
  },
  {
   "cell_type": "code",
   "execution_count": 112,
   "id": "14370453",
   "metadata": {},
   "outputs": [],
   "source": [
    "class Person:\n",
    "    \n",
    "    def __init__(self,name,age):\n",
    "        self.name = name\n",
    "        self.age = age\n",
    "    \n",
    "    def display_info(self):\n",
    "        print('Hi my name is ',self.name,'and I am ',self.age,'years old')"
   ]
  },
  {
   "cell_type": "code",
   "execution_count": 113,
   "id": "3ad73e86",
   "metadata": {},
   "outputs": [],
   "source": [
    "p = Person('Prakash',33)"
   ]
  },
  {
   "cell_type": "code",
   "execution_count": 115,
   "id": "d7f3e5c4",
   "metadata": {},
   "outputs": [],
   "source": [
    "# Pickle dump\n",
    "\n",
    "import pickle\n",
    "with open('Person.pk1','wb') as f:\n",
    "    pickle.dump(p,f)"
   ]
  },
  {
   "cell_type": "code",
   "execution_count": 116,
   "id": "d6106594",
   "metadata": {},
   "outputs": [
    {
     "name": "stdout",
     "output_type": "stream",
     "text": [
      "Hi my name is  Prakash and I am  33 years old\n"
     ]
    }
   ],
   "source": [
    "# load pickle\n",
    "\n",
    "import pickle\n",
    "with open('person.pk1','rb') as f:\n",
    "    p = pickle.load(f)\n",
    "\n",
    "p.display_info()"
   ]
  },
  {
   "cell_type": "markdown",
   "id": "0f1e619f",
   "metadata": {},
   "source": [
    "### Difference Between Pickle v/s JSON\n",
    "\n",
    "  - Pickle lets the user to store data in binary format.\n",
    "  - But the JSON lets the user store data in a human readable text format."
   ]
  },
  {
   "cell_type": "markdown",
   "id": "3a520be4",
   "metadata": {},
   "source": [
    "# --------------------------------------------------------------------------------------\n",
    " - #### Tasks of Session 10:  https://colab.research.google.com/drive/1r18Ai7g2YqqZM1FTg_ca0uTklUaAC2Vg?usp=sharing"
   ]
  },
  {
   "cell_type": "markdown",
   "id": "dcc20168",
   "metadata": {},
   "source": [
    "# --------------------------------------------------------------------------------------\n",
    "# Recursion using Python | Recursion with examples \n",
    "  \n",
    "  - Video URL: https://youtu.be/cNvZK0Wyoik    \n",
    "# --------------------------------------------------------------------------------------"
   ]
  },
  {
   "cell_type": "markdown",
   "id": "c2c46b7c",
   "metadata": {},
   "source": [
    "### Iterative v/s Recursive \n",
    " - #### a*b"
   ]
  },
  {
   "cell_type": "code",
   "execution_count": 144,
   "id": "58e394eb",
   "metadata": {},
   "outputs": [
    {
     "name": "stdout",
     "output_type": "stream",
     "text": [
      "35\n"
     ]
    }
   ],
   "source": [
    "# Multiply two numbers using Loop \n",
    "\n",
    "def multiply(a,b):\n",
    "    \n",
    "    result = 0\n",
    "    \n",
    "    for i in range(b):\n",
    "        result = result + a\n",
    "\n",
    "    print(result)\n",
    "    \n",
    "\n",
    "multiply(5,7)"
   ]
  },
  {
   "cell_type": "code",
   "execution_count": 145,
   "id": "386b500b",
   "metadata": {},
   "outputs": [
    {
     "name": "stdout",
     "output_type": "stream",
     "text": [
      "30\n"
     ]
    }
   ],
   "source": [
    "# Multiply two numbers using Recursive code \n",
    "\n",
    "def multiply(a,b):\n",
    "    \n",
    "    if b==1:\n",
    "        return a\n",
    "    else:\n",
    "        return a+ multiply(a,b-1)\n",
    "    \n",
    "print(multiply(5,6))    "
   ]
  },
  {
   "cell_type": "code",
   "execution_count": 147,
   "id": "4f8fd216",
   "metadata": {},
   "outputs": [
    {
     "name": "stdout",
     "output_type": "stream",
     "text": [
      "24\n"
     ]
    }
   ],
   "source": [
    "# Find the factorial of given number\n",
    "\n",
    "\n",
    "def factorial(number):\n",
    "    if number ==1:\n",
    "        return 1\n",
    "    else:\n",
    "        #5 = 5*4\n",
    "        return number * factorial(number - 1)\n",
    "\n",
    "print(factorial(4))\n",
    "    "
   ]
  },
  {
   "cell_type": "code",
   "execution_count": 152,
   "id": "b259e976",
   "metadata": {},
   "outputs": [
    {
     "name": "stdout",
     "output_type": "stream",
     "text": [
      "It's a palindrome\n",
      "It's a palindrome\n",
      "It's not a palindrome\n"
     ]
    }
   ],
   "source": [
    "# Check if given string is palindrome or not\n",
    "\n",
    "def palin(text):\n",
    "    if len(text) == 1:\n",
    "        print('It\\'s a palindrome')\n",
    "    else:\n",
    "        if text[0] == text[-1]:\n",
    "            palin(text[1:-1])\n",
    "        else:\n",
    "            print('It\\'s not a palindrome')\n",
    "\n",
    "palin(\"madam\")\n",
    "palin(\"malayalam\")\n",
    "palin(\"python\")\n",
    "\n"
   ]
  },
  {
   "cell_type": "code",
   "execution_count": 153,
   "id": "efb92f62",
   "metadata": {},
   "outputs": [
    {
     "ename": "IndexError",
     "evalue": "string index out of range",
     "output_type": "error",
     "traceback": [
      "\u001b[0;31m---------------------------------------------------------------------------\u001b[0m",
      "\u001b[0;31mIndexError\u001b[0m                                Traceback (most recent call last)",
      "Cell \u001b[0;32mIn[153], line 10\u001b[0m\n\u001b[1;32m      7\u001b[0m         \u001b[38;5;28;01melse\u001b[39;00m:\n\u001b[1;32m      8\u001b[0m             \u001b[38;5;28mprint\u001b[39m(\u001b[38;5;124m'\u001b[39m\u001b[38;5;124mIt\u001b[39m\u001b[38;5;130;01m\\'\u001b[39;00m\u001b[38;5;124ms not a palindrome\u001b[39m\u001b[38;5;124m'\u001b[39m)\n\u001b[0;32m---> 10\u001b[0m \u001b[43mpalin\u001b[49m\u001b[43m(\u001b[49m\u001b[38;5;124;43m\"\u001b[39;49m\u001b[38;5;124;43mabba\u001b[39;49m\u001b[38;5;124;43m\"\u001b[39;49m\u001b[43m)\u001b[49m\n",
      "Cell \u001b[0;32mIn[153], line 6\u001b[0m, in \u001b[0;36mpalin\u001b[0;34m(text)\u001b[0m\n\u001b[1;32m      4\u001b[0m \u001b[38;5;28;01melse\u001b[39;00m:\n\u001b[1;32m      5\u001b[0m     \u001b[38;5;28;01mif\u001b[39;00m text[\u001b[38;5;241m0\u001b[39m] \u001b[38;5;241m==\u001b[39m text[\u001b[38;5;241m-\u001b[39m\u001b[38;5;241m1\u001b[39m]:\n\u001b[0;32m----> 6\u001b[0m         \u001b[43mpalin\u001b[49m\u001b[43m(\u001b[49m\u001b[43mtext\u001b[49m\u001b[43m[\u001b[49m\u001b[38;5;241;43m1\u001b[39;49m\u001b[43m:\u001b[49m\u001b[38;5;241;43m-\u001b[39;49m\u001b[38;5;241;43m1\u001b[39;49m\u001b[43m]\u001b[49m\u001b[43m)\u001b[49m\n\u001b[1;32m      7\u001b[0m     \u001b[38;5;28;01melse\u001b[39;00m:\n\u001b[1;32m      8\u001b[0m         \u001b[38;5;28mprint\u001b[39m(\u001b[38;5;124m'\u001b[39m\u001b[38;5;124mIt\u001b[39m\u001b[38;5;130;01m\\'\u001b[39;00m\u001b[38;5;124ms not a palindrome\u001b[39m\u001b[38;5;124m'\u001b[39m)\n",
      "Cell \u001b[0;32mIn[153], line 6\u001b[0m, in \u001b[0;36mpalin\u001b[0;34m(text)\u001b[0m\n\u001b[1;32m      4\u001b[0m \u001b[38;5;28;01melse\u001b[39;00m:\n\u001b[1;32m      5\u001b[0m     \u001b[38;5;28;01mif\u001b[39;00m text[\u001b[38;5;241m0\u001b[39m] \u001b[38;5;241m==\u001b[39m text[\u001b[38;5;241m-\u001b[39m\u001b[38;5;241m1\u001b[39m]:\n\u001b[0;32m----> 6\u001b[0m         \u001b[43mpalin\u001b[49m\u001b[43m(\u001b[49m\u001b[43mtext\u001b[49m\u001b[43m[\u001b[49m\u001b[38;5;241;43m1\u001b[39;49m\u001b[43m:\u001b[49m\u001b[38;5;241;43m-\u001b[39;49m\u001b[38;5;241;43m1\u001b[39;49m\u001b[43m]\u001b[49m\u001b[43m)\u001b[49m\n\u001b[1;32m      7\u001b[0m     \u001b[38;5;28;01melse\u001b[39;00m:\n\u001b[1;32m      8\u001b[0m         \u001b[38;5;28mprint\u001b[39m(\u001b[38;5;124m'\u001b[39m\u001b[38;5;124mIt\u001b[39m\u001b[38;5;130;01m\\'\u001b[39;00m\u001b[38;5;124ms not a palindrome\u001b[39m\u001b[38;5;124m'\u001b[39m)\n",
      "Cell \u001b[0;32mIn[153], line 5\u001b[0m, in \u001b[0;36mpalin\u001b[0;34m(text)\u001b[0m\n\u001b[1;32m      3\u001b[0m     \u001b[38;5;28mprint\u001b[39m(\u001b[38;5;124m'\u001b[39m\u001b[38;5;124mIt\u001b[39m\u001b[38;5;130;01m\\'\u001b[39;00m\u001b[38;5;124ms a palindrome\u001b[39m\u001b[38;5;124m'\u001b[39m)\n\u001b[1;32m      4\u001b[0m \u001b[38;5;28;01melse\u001b[39;00m:\n\u001b[0;32m----> 5\u001b[0m     \u001b[38;5;28;01mif\u001b[39;00m \u001b[43mtext\u001b[49m\u001b[43m[\u001b[49m\u001b[38;5;241;43m0\u001b[39;49m\u001b[43m]\u001b[49m \u001b[38;5;241m==\u001b[39m text[\u001b[38;5;241m-\u001b[39m\u001b[38;5;241m1\u001b[39m]:\n\u001b[1;32m      6\u001b[0m         palin(text[\u001b[38;5;241m1\u001b[39m:\u001b[38;5;241m-\u001b[39m\u001b[38;5;241m1\u001b[39m])\n\u001b[1;32m      7\u001b[0m     \u001b[38;5;28;01melse\u001b[39;00m:\n",
      "\u001b[0;31mIndexError\u001b[0m: string index out of range"
     ]
    }
   ],
   "source": [
    "\n",
    "def palin(text):\n",
    "    if len(text) == 1:\n",
    "        print('It\\'s a palindrome')\n",
    "    else:\n",
    "        if text[0] == text[-1]:\n",
    "            palin(text[1:-1])\n",
    "        else:\n",
    "            print('It\\'s not a palindrome')\n",
    "\n",
    "palin(\"abba\")\n",
    "\n",
    "# when we have 0=-1 & 1=-2\n",
    "\n"
   ]
  },
  {
   "cell_type": "code",
   "execution_count": 154,
   "id": "1a04391c",
   "metadata": {},
   "outputs": [
    {
     "name": "stdout",
     "output_type": "stream",
     "text": [
      "It's a palindrome\n"
     ]
    }
   ],
   "source": [
    "def palin(text):\n",
    "    if len(text) <= 1:\n",
    "        print('It\\'s a palindrome')\n",
    "    else:\n",
    "        if text[0] == text[-1]:\n",
    "            palin(text[1:-1])\n",
    "        else:\n",
    "            print('It\\'s not a palindrome')\n",
    "\n",
    "palin(\"abba\")"
   ]
  },
  {
   "cell_type": "code",
   "execution_count": 155,
   "id": "774041b0",
   "metadata": {},
   "outputs": [
    {
     "name": "stdout",
     "output_type": "stream",
     "text": [
      "233\n"
     ]
    }
   ],
   "source": [
    "# Write a code to generate Fibonacci number using recursive function\n",
    "\n",
    "def fib(m):\n",
    "    if m ==0 or m==1:\n",
    "        return 1\n",
    "    else:\n",
    "        return fib(m-1)+fib(m-2)\n",
    "\n",
    "print(fib(12))"
   ]
  },
  {
   "cell_type": "code",
   "execution_count": 159,
   "id": "6717655a",
   "metadata": {},
   "outputs": [
    {
     "name": "stdout",
     "output_type": "stream",
     "text": [
      "24157817\n",
      "5.934597969055176\n"
     ]
    }
   ],
   "source": [
    "# check the Execution time of above code using recursive function\n",
    "\n",
    "import time\n",
    "def fib(m):\n",
    "    if m ==0 or m==1:\n",
    "        return 1\n",
    "    else:\n",
    "        return fib(m-1)+fib(m-2)\n",
    "\n",
    "start = time.time()\n",
    "print(fib(36))\n",
    "print(time.time()- start)"
   ]
  },
  {
   "cell_type": "code",
   "execution_count": 161,
   "id": "bcd24242",
   "metadata": {},
   "outputs": [
    {
     "name": "stdout",
     "output_type": "stream",
     "text": [
      "7778742049\n"
     ]
    }
   ],
   "source": [
    "# write above code using dynamic Memory Programming \n",
    "\n",
    "def memo(m,d):\n",
    "    if m in d:\n",
    "        return d[m]\n",
    "    else:\n",
    "        d[m] = memo(m-1,d)+ memo(m-2,d)\n",
    "        return d[m]\n",
    "            \n",
    "        \n",
    "d = {0:1,1:1}\n",
    "print(memo(48,d))"
   ]
  },
  {
   "cell_type": "code",
   "execution_count": 163,
   "id": "61e18ff9",
   "metadata": {},
   "outputs": [
    {
     "name": "stdout",
     "output_type": "stream",
     "text": [
      "225591516161936330872512695036072072046011324913758190588638866418474627738686883405015987052796968498626\n",
      "0.0053920745849609375\n"
     ]
    }
   ],
   "source": [
    "import time\n",
    "\n",
    "def memo(m,d):\n",
    "    if m in d:\n",
    "        return d[m]\n",
    "    else:\n",
    "        d[m] = memo(m-1,d)+ memo(m-2,d)\n",
    "        return d[m]\n",
    "            \n",
    "start = time.time()        \n",
    "d = {0:1,1:1}\n",
    "print(memo(500,d))\n",
    "print(time.time() - start)"
   ]
  },
  {
   "cell_type": "code",
   "execution_count": 164,
   "id": "5da0cc39",
   "metadata": {},
   "outputs": [
    {
     "name": "stdout",
     "output_type": "stream",
     "text": [
      "{0: 1, 1: 1, 2: 2, 3: 3, 4: 5, 5: 8, 6: 13, 7: 21, 8: 34, 9: 55, 10: 89, 11: 144, 12: 233, 13: 377, 14: 610, 15: 987, 16: 1597, 17: 2584, 18: 4181, 19: 6765, 20: 10946, 21: 17711, 22: 28657, 23: 46368, 24: 75025, 25: 121393, 26: 196418, 27: 317811, 28: 514229, 29: 832040, 30: 1346269, 31: 2178309, 32: 3524578, 33: 5702887, 34: 9227465, 35: 14930352, 36: 24157817, 37: 39088169, 38: 63245986, 39: 102334155, 40: 165580141, 41: 267914296, 42: 433494437, 43: 701408733, 44: 1134903170, 45: 1836311903, 46: 2971215073, 47: 4807526976, 48: 7778742049, 49: 12586269025, 50: 20365011074, 51: 32951280099, 52: 53316291173, 53: 86267571272, 54: 139583862445, 55: 225851433717, 56: 365435296162, 57: 591286729879, 58: 956722026041, 59: 1548008755920, 60: 2504730781961, 61: 4052739537881, 62: 6557470319842, 63: 10610209857723, 64: 17167680177565, 65: 27777890035288, 66: 44945570212853, 67: 72723460248141, 68: 117669030460994, 69: 190392490709135, 70: 308061521170129, 71: 498454011879264, 72: 806515533049393, 73: 1304969544928657, 74: 2111485077978050, 75: 3416454622906707, 76: 5527939700884757, 77: 8944394323791464, 78: 14472334024676221, 79: 23416728348467685, 80: 37889062373143906, 81: 61305790721611591, 82: 99194853094755497, 83: 160500643816367088, 84: 259695496911122585, 85: 420196140727489673, 86: 679891637638612258, 87: 1100087778366101931, 88: 1779979416004714189, 89: 2880067194370816120, 90: 4660046610375530309, 91: 7540113804746346429, 92: 12200160415121876738, 93: 19740274219868223167, 94: 31940434634990099905, 95: 51680708854858323072, 96: 83621143489848422977, 97: 135301852344706746049, 98: 218922995834555169026, 99: 354224848179261915075, 100: 573147844013817084101, 101: 927372692193078999176, 102: 1500520536206896083277, 103: 2427893228399975082453, 104: 3928413764606871165730, 105: 6356306993006846248183, 106: 10284720757613717413913, 107: 16641027750620563662096, 108: 26925748508234281076009, 109: 43566776258854844738105, 110: 70492524767089125814114, 111: 114059301025943970552219, 112: 184551825793033096366333, 113: 298611126818977066918552, 114: 483162952612010163284885, 115: 781774079430987230203437, 116: 1264937032042997393488322, 117: 2046711111473984623691759, 118: 3311648143516982017180081, 119: 5358359254990966640871840, 120: 8670007398507948658051921, 121: 14028366653498915298923761, 122: 22698374052006863956975682, 123: 36726740705505779255899443, 124: 59425114757512643212875125, 125: 96151855463018422468774568, 126: 155576970220531065681649693, 127: 251728825683549488150424261, 128: 407305795904080553832073954, 129: 659034621587630041982498215, 130: 1066340417491710595814572169, 131: 1725375039079340637797070384, 132: 2791715456571051233611642553, 133: 4517090495650391871408712937, 134: 7308805952221443105020355490, 135: 11825896447871834976429068427, 136: 19134702400093278081449423917, 137: 30960598847965113057878492344, 138: 50095301248058391139327916261, 139: 81055900096023504197206408605, 140: 131151201344081895336534324866, 141: 212207101440105399533740733471, 142: 343358302784187294870275058337, 143: 555565404224292694404015791808, 144: 898923707008479989274290850145, 145: 1454489111232772683678306641953, 146: 2353412818241252672952597492098, 147: 3807901929474025356630904134051, 148: 6161314747715278029583501626149, 149: 9969216677189303386214405760200, 150: 16130531424904581415797907386349, 151: 26099748102093884802012313146549, 152: 42230279526998466217810220532898, 153: 68330027629092351019822533679447, 154: 110560307156090817237632754212345, 155: 178890334785183168257455287891792, 156: 289450641941273985495088042104137, 157: 468340976726457153752543329995929, 158: 757791618667731139247631372100066, 159: 1226132595394188293000174702095995, 160: 1983924214061919432247806074196061, 161: 3210056809456107725247980776292056, 162: 5193981023518027157495786850488117, 163: 8404037832974134882743767626780173, 164: 13598018856492162040239554477268290, 165: 22002056689466296922983322104048463, 166: 35600075545958458963222876581316753, 167: 57602132235424755886206198685365216, 168: 93202207781383214849429075266681969, 169: 150804340016807970735635273952047185, 170: 244006547798191185585064349218729154, 171: 394810887814999156320699623170776339, 172: 638817435613190341905763972389505493, 173: 1033628323428189498226463595560281832, 174: 1672445759041379840132227567949787325, 175: 2706074082469569338358691163510069157, 176: 4378519841510949178490918731459856482, 177: 7084593923980518516849609894969925639, 178: 11463113765491467695340528626429782121, 179: 18547707689471986212190138521399707760, 180: 30010821454963453907530667147829489881, 181: 48558529144435440119720805669229197641, 182: 78569350599398894027251472817058687522, 183: 127127879743834334146972278486287885163, 184: 205697230343233228174223751303346572685, 185: 332825110087067562321196029789634457848, 186: 538522340430300790495419781092981030533, 187: 871347450517368352816615810882615488381, 188: 1409869790947669143312035591975596518914, 189: 2281217241465037496128651402858212007295, 190: 3691087032412706639440686994833808526209, 191: 5972304273877744135569338397692020533504, 192: 9663391306290450775010025392525829059713, 193: 15635695580168194910579363790217849593217, 194: 25299086886458645685589389182743678652930, 195: 40934782466626840596168752972961528246147, 196: 66233869353085486281758142155705206899077, 197: 107168651819712326877926895128666735145224, 198: 173402521172797813159685037284371942044301, 199: 280571172992510140037611932413038677189525, 200: 453973694165307953197296969697410619233826, 201: 734544867157818093234908902110449296423351, 202: 1188518561323126046432205871807859915657177, 203: 1923063428480944139667114773918309212080528, 204: 3111581989804070186099320645726169127737705, 205: 5034645418285014325766435419644478339818233, 206: 8146227408089084511865756065370647467555938, 207: 13180872826374098837632191485015125807374171, 208: 21327100234463183349497947550385773274930109, 209: 34507973060837282187130139035400899082304280, 210: 55835073295300465536628086585786672357234389, 211: 90343046356137747723758225621187571439538669, 212: 146178119651438213260386312206974243796773058, 213: 236521166007575960984144537828161815236311727, 214: 382699285659014174244530850035136059033084785, 215: 619220451666590135228675387863297874269396512, 216: 1001919737325604309473206237898433933302481297, 217: 1621140188992194444701881625761731807571877809, 218: 2623059926317798754175087863660165740874359106, 219: 4244200115309993198876969489421897548446236915, 220: 6867260041627791953052057353082063289320596021, 221: 11111460156937785151929026842503960837766832936, 222: 17978720198565577104981084195586024127087428957, 223: 29090180355503362256910111038089984964854261893, 224: 47068900554068939361891195233676009091941690850, 225: 76159080909572301618801306271765994056795952743, 226: 123227981463641240980692501505442003148737643593, 227: 199387062373213542599493807777207997205533596336, 228: 322615043836854783580186309282650000354271239929, 229: 522002106210068326179680117059857997559804836265, 230: 844617150046923109759866426342507997914076076194, 231: 1366619256256991435939546543402365995473880912459, 232: 2211236406303914545699412969744873993387956988653, 233: 3577855662560905981638959513147239988861837901112, 234: 5789092068864820527338372482892113982249794889765, 235: 9366947731425726508977331996039353971111632790877, 236: 15156039800290547036315704478931467953361427680642, 237: 24522987531716273545293036474970821924473060471519, 238: 39679027332006820581608740953902289877834488152161, 239: 64202014863723094126901777428873111802307548623680, 240: 103881042195729914708510518382775401680142036775841, 241: 168083057059453008835412295811648513482449585399521, 242: 271964099255182923543922814194423915162591622175362, 243: 440047156314635932379335110006072428645041207574883, 244: 712011255569818855923257924200496343807632829750245, 245: 1152058411884454788302593034206568772452674037325128, 246: 1864069667454273644225850958407065116260306867075373, 247: 3016128079338728432528443992613633888712980904400501, 248: 4880197746793002076754294951020699004973287771475874, 249: 7896325826131730509282738943634332893686268675876375, 250: 12776523572924732586037033894655031898659556447352249, 251: 20672849399056463095319772838289364792345825123228624, 252: 33449372971981195681356806732944396691005381570580873, 253: 54122222371037658776676579571233761483351206693809497, 254: 87571595343018854458033386304178158174356588264390370, 255: 141693817714056513234709965875411919657707794958199867, 256: 229265413057075367692743352179590077832064383222590237, 257: 370959230771131880927453318055001997489772178180790104, 258: 600224643828207248620196670234592075321836561403380341, 259: 971183874599339129547649988289594072811608739584170445, 260: 1571408518427546378167846658524186148133445300987550786, 261: 2542592393026885507715496646813780220945054040571721231, 262: 4114000911454431885883343305337966369078499341559272017, 263: 6656593304481317393598839952151746590023553382130993248, 264: 10770594215935749279482183257489712959102052723690265265, 265: 17427187520417066673081023209641459549125606105821258513, 266: 28197781736352815952563206467131172508227658829511523778, 267: 45624969256769882625644229676772632057353264935332782291, 268: 73822750993122698578207436143903804565580923764844306069, 269: 119447720249892581203851665820676436622934188700177088360, 270: 193270471243015279782059101964580241188515112465021394429, 271: 312718191492907860985910767785256677811449301165198482789, 272: 505988662735923140767969869749836918999964413630219877218, 273: 818706854228831001753880637535093596811413714795418360007, 274: 1324695516964754142521850507284930515811378128425638237225, 275: 2143402371193585144275731144820024112622791843221056597232, 276: 3468097888158339286797581652104954628434169971646694834457, 277: 5611500259351924431073312796924978741056961814867751431689, 278: 9079598147510263717870894449029933369491131786514446266146, 279: 14691098406862188148944207245954912110548093601382197697835, 280: 23770696554372451866815101694984845480039225387896643963981, 281: 38461794961234640015759308940939757590587318989278841661816, 282: 62232491515607091882574410635924603070626544377175485625797, 283: 100694286476841731898333719576864360661213863366454327287613, 284: 162926777992448823780908130212788963731840407743629812913410, 285: 263621064469290555679241849789653324393054271110084140201023, 286: 426547842461739379460149980002442288124894678853713953114433, 287: 690168906931029935139391829792095612517948949963798093315456, 288: 1116716749392769314599541809794537900642843628817512046429889, 289: 1806885656323799249738933639586633513160792578781310139745345, 290: 2923602405716568564338475449381171413803636207598822186175234, 291: 4730488062040367814077409088967804926964428786380132325920579, 292: 7654090467756936378415884538348976340768064993978954512095813, 293: 12384578529797304192493293627316781267732493780359086838016392, 294: 20038668997554240570909178165665757608500558774338041350112205, 295: 32423247527351544763402471792982538876233052554697128188128597, 296: 52461916524905785334311649958648296484733611329035169538240802, 297: 84885164052257330097714121751630835360966663883732297726369399, 298: 137347080577163115432025771710279131845700275212767467264610201, 299: 222232244629420445529739893461909967206666939096499764990979600, 300: 359579325206583560961765665172189099052367214309267232255589801, 301: 581811569836004006491505558634099066259034153405766997246569401, 302: 941390895042587567453271223806288165311401367715034229502159202, 303: 1523202464878591573944776782440387231570435521120801226748728603, 304: 2464593359921179141398048006246675396881836888835835456250887805, 305: 3987795824799770715342824788687062628452272409956636682999616408, 306: 6452389184720949856740872794933738025334109298792472139250504213, 307: 10440185009520720572083697583620800653786381708749108822250120621, 308: 16892574194241670428824570378554538679120491007541580961500624834, 309: 27332759203762391000908267962175339332906872716290689783750745455, 310: 44225333398004061429732838340729878012027363723832270745251370289, 311: 71558092601766452430641106302905217344934236440122960529002115744, 312: 115783425999770513860373944643635095356961600163955231274253486033, 313: 187341518601536966291015050946540312701895836604078191803255601777, 314: 303124944601307480151388995590175408058857436768033423077509087810, 315: 490466463202844446442404046536715720760753273372111614880764689587, 316: 793591407804151926593793042126891128819610710140145037958273777397, 317: 1284057871006996373036197088663606849580363983512256652839038466984, 318: 2077649278811148299629990130790497978399974693652401690797312244381, 319: 3361707149818144672666187219454104827980338677164658343636350711365, 320: 5439356428629292972296177350244602806380313370817060034433662955746, 321: 8801063578447437644962364569698707634360652047981718378070013667111, 322: 14240420007076730617258541919943310440740965418798778412503676622857, 323: 23041483585524168262220906489642018075101617466780496790573690289968, 324: 37281903592600898879479448409585328515842582885579275203077366912825, 325: 60323387178125067141700354899227346590944200352359771993651057202793, 326: 97605290770725966021179803308812675106786783237939047196728424115618, 327: 157928677948851033162880158208040021697730983590298819190379481318411, 328: 255533968719576999184059961516852696804517766828237866387107905434029, 329: 413462646668428032346940119724892718502248750418536685577487386752440, 330: 668996615388005031531000081241745415306766517246774551964595292186469, 331: 1082459262056433063877940200966638133809015267665311237542082678938909, 332: 1751455877444438095408940282208383549115781784912085789506677971125378, 333: 2833915139500871159286880483175021682924797052577397027048760650064287, 334: 4585371016945309254695820765383405232040578837489482816555438621189665, 335: 7419286156446180413982701248558426914965375890066879843604199271253952, 336: 12004657173391489668678522013941832147005954727556362660159637892443617, 337: 19423943329837670082661223262500259061971330617623242503763837163697569, 338: 31428600503229159751339745276442091208977285345179605163923475056141186, 339: 50852543833066829834000968538942350270948615962802847667687312219838755, 340: 82281144336295989585340713815384441479925901307982452831610787275979941, 341: 133133688169362819419341682354326791750874517270785300499298099495818696, 342: 215414832505658809004682396169711233230800418578767753330908886771798637, 343: 348548520675021628424024078524038024981674935849553053830206986267617333, 344: 563963353180680437428706474693749258212475354428320807161115873039415970, 345: 912511873855702065852730553217787283194150290277873860991322859307033303, 346: 1476475227036382503281437027911536541406625644706194668152438732346449273, 347: 2388987100892084569134167581129323824600775934984068529143761591653482576, 348: 3865462327928467072415604609040860366007401579690263197296200323999931849, 349: 6254449428820551641549772190170184190608177514674331726439961915653414425, 350: 10119911756749018713965376799211044556615579094364594923736162239653346274, 351: 16374361185569570355515148989381228747223756609038926650176124155306760699, 352: 26494272942318589069480525788592273303839335703403521573912286394960106973, 353: 42868634127888159424995674777973502051063092312442448224088410550266867672, 354: 69362907070206748494476200566565775354902428015845969798000696945226974645, 355: 112231541198094907919471875344539277405965520328288418022089107495493842317, 356: 181594448268301656413948075911105052760867948344134387820089804440720816962, 357: 293825989466396564333419951255644330166833468672422805842178911936214659279, 358: 475420437734698220747368027166749382927701417016557193662268716376935476241, 359: 769246427201094785080787978422393713094534885688979999504447628313150135520, 360: 1244666864935793005828156005589143096022236302705537193166716344690085611761, 361: 2013913292136887790908943984011536809116771188394517192671163973003235747281, 362: 3258580157072680796737099989600679905139007491100054385837880317693321359042, 363: 5272493449209568587646043973612216714255778679494571578509044290696557106323, 364: 8531073606282249384383143963212896619394786170594625964346924608389878465365, 365: 13803567055491817972029187936825113333650564850089197542855968899086435571688, 366: 22334640661774067356412331900038009953045351020683823507202893507476314037053, 367: 36138207717265885328441519836863123286695915870773021050058862406562749608741, 368: 58472848379039952684853851736901133239741266891456844557261755914039063645794, 369: 94611056096305838013295371573764256526437182762229865607320618320601813254535, 370: 153083904475345790698149223310665389766178449653686710164582374234640876900329, 371: 247694960571651628711444594884429646292615632415916575771902992555242690154864, 372: 400778865046997419409593818195095036058794082069603285936485366789883567055193, 373: 648473825618649048121038413079524682351409714485519861708388359345126257210057, 374: 1049252690665646467530632231274619718410203796555123147644873726135009824265250, 375: 1697726516284295515651670644354144400761613511040643009353262085480136081475307, 376: 2746979206949941983182302875628764119171817307595766156998135811615145905740557, 377: 4444705723234237498833973519982908519933430818636409166351397897095281987215864, 378: 7191684930184179482016276395611672639105248126232175323349533708710427892956421, 379: 11636390653418416980850249915594581159038678944868584489700931605805709880172285, 380: 18828075583602596462866526311206253798143927071100759813050465314516137773128706, 381: 30464466237021013443716776226800834957182606015969344302751396920321847653300991, 382: 49292541820623609906583302538007088755326533087070104115801862234837985426429697, 383: 79757008057644623350300078764807923712509139103039448418553259155159833079730688, 384: 129049549878268233256883381302815012467835672190109552534355121389997818506160385, 385: 208806557935912856607183460067622936180344811293149000952908380545157651585891073, 386: 337856107814181089864066841370437948648180483483258553487263501935155470092051458, 387: 546662665750093946471250301438060884828525294776407554440171882480313121677942531, 388: 884518773564275036335317142808498833476705778259666107927435384415468591769993989, 389: 1431181439314368982806567444246559718305231073036073662367607266895781713447936520, 390: 2315700212878644019141884587055058551781936851295739770295042651311250305217930509, 391: 3746881652193013001948452031301618270087167924331813432662649918207032018665867029, 392: 6062581865071657021090336618356676821869104775627553202957692569518282323883797538, 393: 9809463517264670023038788649658295091956272699959366635620342487725314342549664567, 394: 15872045382336327044129125268014971913825377475586919838578035057243596666433462105, 395: 25681508899600997067167913917673267005781650175546286474198377544968911008983126672, 396: 41553554281937324111297039185688238919607027651133206312776412602212507675416588777, 397: 67235063181538321178464953103361505925388677826679492786974790147181418684399715449, 398: 108788617463475645289761992289049744844995705477812699099751202749393926359816304226, 399: 176023680645013966468226945392411250770384383304492191886725992896575345044216019675, 400: 284812298108489611757988937681460995615380088782304890986477195645969271404032323901, 401: 460835978753503578226215883073872246385764472086797082873203188542544616448248343576, 402: 745648276861993189984204820755333242001144560869101973859680384188513887852280667477, 403: 1206484255615496768210420703829205488386909032955899056732883572731058504300529011053, 404: 1952132532477489958194625524584538730388053593825001030592563956919572392152809678530, 405: 3158616788092986726405046228413744218774962626780900087325447529650630896453338689583, 406: 5110749320570476684599671752998282949163016220605901117918011486570203288606148368113, 407: 8269366108663463411004717981412027167937978847386801205243459016220834185059487057696, 408: 13380115429233940095604389734410310117100995067992702323161470502791037473665635425809, 409: 21649481537897403506609107715822337285038973915379503528404929519011871658725122483505, 410: 35029596967131343602213497450232647402139968983372205851566400021802909132390757909314, 411: 56679078505028747108822605166054984687178942898751709379971329540814780791115880392819, 412: 91708675472160090711036102616287632089318911882123915231537729562617689923506638302133, 413: 148387753977188837819858707782342616776497854780875624611509059103432470714622518694952, 414: 240096429449348928530894810398630248865816766662999539843046788666050160638129156997085, 415: 388484183426537766350753518180972865642314621443875164454555847769482631352751675692037, 416: 628580612875886694881648328579603114508131388106874704297602636435532791990880832689122, 417: 1017064796302424461232401846760575980150446009550749868752158484205015423343632508381159, 418: 1645645409178311156114050175340179094658577397657624573049761120640548215334513341070281, 419: 2662710205480735617346452022100755074809023407208374441801919604845563638678145849451440, 420: 4308355614659046773460502197440934169467600804865999014851680725486111854012659190521721, 421: 6971065820139782390806954219541689244276624212074373456653600330331675492690805039973161, 422: 11279421434798829164267456416982623413744225016940372471505281055817787346703464230494882, 423: 18250487254938611555074410636524312658020849229014745928158881386149462839394269270468043, 424: 29529908689737440719341867053506936071765074245955118399664162441967250186097733500962925, 425: 47780395944676052274416277690031248729785923474969864327823043828116713025492002771430968, 426: 77310304634413492993758144743538184801550997720924982727487206270083963211589736272393893, 427: 125090700579089545268174422433569433531336921195894847055310250098200676237081739043824861, 428: 202401005213503038261932567177107618332887918916819829782797456368284639448671475316218754, 429: 327491705792592583530106989610677051864224840112714676838107706466485315685753214360043615, 430: 529892711006095621792039556787784670197112759029534506620905162834769955134424689676262369, 431: 857384416798688205322146546398461722061337599142249183459012869301255270820177904036305984, 432: 1387277127804783827114186103186246392258450358171783690079918032136025225954602593712568353, 433: 2244661544603472032436332649584708114319787957314032873538930901437280496774780497748874337, 434: 3631938672408255859550518752770954506578238315485816563618848933573305722729383091461442690, 435: 5876600217011727891986851402355662620898026272799849437157779835010586219504163589210317027, 436: 9508538889419983751537370155126617127476264588285666000776628768583891942233546680671759717, 437: 15385139106431711643524221557482279748374290861085515437934408603594478161737710269882076744, 438: 24893677995851695395061591712608896875850555449371181438711037372178370103971256950553836461, 439: 40278817102283407038585813270091176624224846310456696876645445975772848265708967220435913205, 440: 65172495098135102433647404982700073500075401759827878315356483347951218369680224170989749666, 441: 105451312200418509472233218252791250124300248070284575192001929323724066635389191391425662871, 442: 170623807298553611905880623235491323624375649830112453507358412671675285005069415562415412537, 443: 276075119498972121378113841488282573748675897900397028699360341995399351640458606953841075408, 444: 446698926797525733283994464723773897373051547730509482206718754667074636645528022516256487945, 445: 722774046296497854662108306212056471121727445630906510906079096662473988285986629470097563353, 446: 1169472973094023587946102770935830368494778993361415993112797851329548624931514651986354051298, 447: 1892247019390521442608211077147886839616506438992322504018876947992022613217501281456451614651, 448: 3061719992484545030554313848083717208111285432353738497131674799321571238149015933442805665949, 449: 4953967011875066473162524925231604047727791871346061001150551747313593851366517214899257280600, 450: 8015687004359611503716838773315321255839077303699799498282226546635165089515533148342062946549, 451: 12969654016234677976879363698546925303566869175045860499432778293948758940882050363241320227149, 452: 20985341020594289480596202471862246559405946478745659997715004840583924030397583511583383173698, 453: 33954995036828967457475566170409171862972815653791520497147783134532682971279633874824703400847, 454: 54940336057423256938071768642271418422378762132537180494862787975116607001677217386408086574545, 455: 88895331094252224395547334812680590285351577786328700992010571109649289972956851261232789975392, 456: 143835667151675481333619103454952008707730339918865881486873359084765896974634068647640876549937, 457: 232730998245927705729166438267632598993081917705194582478883930194415186947590919908873666525329, 458: 376566665397603187062785541722584607700812257624060463965757289279181083922224988556514543075266, 459: 609297663643530892791951979990217206693894175329255046444641219473596270869815908465388209600595, 460: 985864329041134079854737521712801814394706432953315510410398508752777354792040897021902752675861, 461: 1595161992684664972646689501703019021088600608282570556855039728226373625661856805487290962276456, 462: 2581026321725799052501427023415820835483307041235886067265438236979150980453897702509193714952317, 463: 4176188314410464025148116525118839856571907649518456624120477965205524606115754507996484677228773, 464: 6757214636136263077649543548534660692055214690754342691385916202184675586569652210505678392181090, 465: 10933402950546727102797660073653500548627122340272799315506394167390200192685406718502163069409863, 466: 17690617586682990180447203622188161240682337031027142006892310369574875779255058929007841461590953, 467: 28624020537229717283244863695841661789309459371299941322398704536965075971940465647510004531000816, 468: 46314638123912707463692067318029823029991796402327083329291014906539951751195524576517845992591769, 469: 74938658661142424746936931013871484819301255773627024651689719443505027723135990224027850523592585, 470: 121253296785055132210628998331901307849293052175954107980980734350044979474331514800545696516184354, 471: 196191955446197556957565929345772792668594307949581132632670453793550007197467505024573547039776939, 472: 317445252231252689168194927677674100517887360125535240613651188143594986671799019825119243555961293, 473: 513637207677450246125760857023446893186481668075116373246321641937144993869266524849692790595738232, 474: 831082459908702935293955784701120993704369028200651613859972830080739980541065544674812034151699525, 475: 1344719667586153181419716641724567886890850696275767987106294472017884974410332069524504824747437757, 476: 2175802127494856116713672426425688880595219724476419600966267302098624954951397614199316858899137282, 477: 3520521795081009298133389068150256767486070420752187588072561774116509929361729683723821683646575039, 478: 5696323922575865414847061494575945648081290145228607189038829076215134884313127297923138542545712321, 479: 9216845717656874712980450562726202415567360565980794777111390850331644813674856981646960226192287360, 480: 14913169640232740127827512057302148063648650711209401966150219926546779697987984279570098768737999681, 481: 24130015357889614840807962620028350479216011277190196743261610776878424511662841261217058994930287041, 482: 39043184998122354968635474677330498542864661988399598709411830703425204209650825540787157763668286722, 483: 63173200356011969809443437297358849022080673265589795452673441480303628721313666802004216758598573763, 484: 102216385354134324778078911974689347564945335253989394162085272183728832930964492342791374522266860485, 485: 165389585710146294587522349272048196587026008519579189614758713664032461652278159144795591280865434248, 486: 267605971064280619365601261246737544151971343773568583776843985847761294583242651487586965803132294733, 487: 432995556774426913953123610518785740738997352293147773391602699511793756235520810632382557083997728981, 488: 700601527838707533318724871765523284890968696066716357168446685359555050818763462119969522887130023714, 489: 1133597084613134447271848482284309025629966048359864130560049384871348807054284272752352079971127752695, 490: 1834198612451841980590573354049832310520934744426580487728496070230903857873047734872321602858257776409, 491: 2967795697064976427862421836334141336150900792786444618288545455102252664927332007624673682829385529104, 492: 4801994309516818408452995190383973646671835537213025106017041525333156522800379742496995285687643305513, 493: 7769790006581794836315417026718114982822736329999469724305586980435409187727711750121668968517028834617, 494: 12571784316098613244768412217102088629494571867212494830322628505768565710528091492618664254204672140130, 495: 20341574322680408081083829243820203612317308197211964554628215486203974898255803242740333222721700974747, 496: 32913358638779021325852241460922292241811880064424459384950843991972540608783894735358997476926373114877, 497: 53254932961459429406936070704742495854129188261636423939579059478176515507039697978099330699648074089624, 498: 86168291600238450732788312165664788095941068326060883324529903470149056115823592713458328176574447204501, 499: 139423224561697880139724382870407283950070256587697307264108962948325571622863290691557658876222521294125, 500: 225591516161936330872512695036072072046011324913758190588638866418474627738686883405015987052796968498626}\n"
     ]
    }
   ],
   "source": [
    "print(d)"
   ]
  },
  {
   "cell_type": "code",
   "execution_count": 165,
   "id": "2291a0e4",
   "metadata": {},
   "outputs": [],
   "source": [
    "# write a code to create a power set from the given set value"
   ]
  },
  {
   "cell_type": "markdown",
   "id": "d4445bed",
   "metadata": {},
   "source": [
    "# --------------------------------------------------------------------------------------"
   ]
  }
 ],
 "metadata": {
  "kernelspec": {
   "display_name": "Python 3 (ipykernel)",
   "language": "python",
   "name": "python3"
  },
  "language_info": {
   "codemirror_mode": {
    "name": "ipython",
    "version": 3
   },
   "file_extension": ".py",
   "mimetype": "text/x-python",
   "name": "python",
   "nbconvert_exporter": "python",
   "pygments_lexer": "ipython3",
   "version": "3.10.9"
  }
 },
 "nbformat": 4,
 "nbformat_minor": 5
}
