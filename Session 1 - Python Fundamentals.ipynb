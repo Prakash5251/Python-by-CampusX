{
 "cells": [
  {
   "cell_type": "markdown",
   "id": "2e99292e",
   "metadata": {},
   "source": [
    "# --------------------------------------------------------------------------------------\n",
    "# Session 1 - Python Fundamentals\n",
    "\n",
    "  - Video URL: https://youtu.be/1z5-O7-5AXk  \n",
    "  - Code URL: https://colab.research.google.com/drive/10jVbuKq2Owsz_hIIrXA9Y09DMLdDt_21?usp=sharing  \n",
    "# --------------------------------------------------------------------------------------"
   ]
  },
  {
   "cell_type": "markdown",
   "id": "85c161d7",
   "metadata": {},
   "source": [
    "## Python Output\n",
    "\n",
    " - Python is the case sensitive language."
   ]
  },
  {
   "cell_type": "code",
   "execution_count": 1,
   "id": "2158ef45",
   "metadata": {},
   "outputs": [
    {
     "name": "stdout",
     "output_type": "stream",
     "text": [
      "Hello World\n"
     ]
    }
   ],
   "source": [
    "# Print Hello World\n",
    "\n",
    "print('Hello World')"
   ]
  },
  {
   "cell_type": "code",
   "execution_count": 2,
   "id": "3a27483f",
   "metadata": {},
   "outputs": [
    {
     "name": "stdout",
     "output_type": "stream",
     "text": [
      "10\n"
     ]
    }
   ],
   "source": [
    "# Print a Number 10\n",
    "print(10)"
   ]
  },
  {
   "cell_type": "code",
   "execution_count": 3,
   "id": "6d6f7926",
   "metadata": {},
   "outputs": [
    {
     "name": "stdout",
     "output_type": "stream",
     "text": [
      "Prakash 10 10.91 True\n"
     ]
    }
   ],
   "source": [
    "# Print multiple things through print function\n",
    "print('Prakash', 10, 10.91, True)"
   ]
  },
  {
   "cell_type": "code",
   "execution_count": 4,
   "id": "4f6d9ca7",
   "metadata": {},
   "outputs": [
    {
     "name": "stdout",
     "output_type": "stream",
     "text": [
      "Prakash/10/10.91/True\n"
     ]
    }
   ],
   "source": [
    "# Use '/' separator in print function to print message\n",
    "print('Prakash', 10, 10.91, True,sep='/')"
   ]
  },
  {
   "cell_type": "code",
   "execution_count": 5,
   "id": "1b6f6d28",
   "metadata": {},
   "outputs": [
    {
     "name": "stdout",
     "output_type": "stream",
     "text": [
      "Prakash-Singh\n"
     ]
    }
   ],
   "source": [
    "# Use '-' with end Parameter to print message through print function\n",
    "print('Prakash',end='-')\n",
    "print('Singh')"
   ]
  },
  {
   "cell_type": "markdown",
   "id": "6de91775",
   "metadata": {},
   "source": [
    "### -------------------------------------------------------------------------------------------------------------------------------- "
   ]
  },
  {
   "cell_type": "markdown",
   "id": "2c6a0e16",
   "metadata": {},
   "source": [
    "## Data Types"
   ]
  },
  {
   "cell_type": "code",
   "execution_count": 6,
   "id": "459888a9",
   "metadata": {},
   "outputs": [
    {
     "name": "stdout",
     "output_type": "stream",
     "text": [
      "10\n"
     ]
    }
   ],
   "source": [
    "# Integer\n",
    "print(10)"
   ]
  },
  {
   "cell_type": "code",
   "execution_count": 7,
   "id": "b123a47f",
   "metadata": {},
   "outputs": [
    {
     "name": "stdout",
     "output_type": "stream",
     "text": [
      "91.1\n"
     ]
    }
   ],
   "source": [
    "# Decimal/Float\n",
    "print(91.10)"
   ]
  },
  {
   "cell_type": "code",
   "execution_count": 8,
   "id": "a60836ab",
   "metadata": {},
   "outputs": [
    {
     "name": "stdout",
     "output_type": "stream",
     "text": [
      "True\n",
      "False\n"
     ]
    }
   ],
   "source": [
    "# Boolean\n",
    "print(True)\n",
    "print(False)"
   ]
  },
  {
   "cell_type": "code",
   "execution_count": 9,
   "id": "183aca54",
   "metadata": {},
   "outputs": [
    {
     "name": "stdout",
     "output_type": "stream",
     "text": [
      "Prakash Singh\n"
     ]
    }
   ],
   "source": [
    "# Text/String\n",
    "print('Prakash Singh')"
   ]
  },
  {
   "cell_type": "code",
   "execution_count": 10,
   "id": "f23d0cd3",
   "metadata": {},
   "outputs": [
    {
     "name": "stdout",
     "output_type": "stream",
     "text": [
      "(5+6j)\n"
     ]
    }
   ],
   "source": [
    "# Complex\n",
    "print(5+6j)"
   ]
  },
  {
   "cell_type": "code",
   "execution_count": 11,
   "id": "da7065a6",
   "metadata": {},
   "outputs": [
    {
     "name": "stdout",
     "output_type": "stream",
     "text": [
      "[1, 2, 3, 4, 5, 6, 7, 8, 9, 10]\n"
     ]
    }
   ],
   "source": [
    "# List(Arrays in C)\n",
    "print([1,2,3,4,5,6,7,8,9,10])"
   ]
  },
  {
   "cell_type": "code",
   "execution_count": 12,
   "id": "409bffdf",
   "metadata": {},
   "outputs": [
    {
     "name": "stdout",
     "output_type": "stream",
     "text": [
      "(1, 2, 3, 4, 5, 6, 7, 8, 9, 10)\n"
     ]
    }
   ],
   "source": [
    "# Tuple\n",
    "print((1,2,3,4,5,6,7,8,9,10))"
   ]
  },
  {
   "cell_type": "code",
   "execution_count": 13,
   "id": "b5572519",
   "metadata": {},
   "outputs": [
    {
     "name": "stdout",
     "output_type": "stream",
     "text": [
      "{1, 2, 3, 4, 5, 6, 7, 8, 9, 10}\n"
     ]
    }
   ],
   "source": [
    "# Sets\n",
    "print({1,2,3,4,5,6,7,8,9,10})"
   ]
  },
  {
   "cell_type": "code",
   "execution_count": 14,
   "id": "bb510a25",
   "metadata": {},
   "outputs": [
    {
     "name": "stdout",
     "output_type": "stream",
     "text": [
      "{'Name': 'Prakash', 'Gender': 'Male', 'Location': 'Bangalore'}\n"
     ]
    }
   ],
   "source": [
    "# Dictionary\n",
    "print({'Name': 'Prakash', 'Gender': 'Male', 'Location': 'Bangalore'})"
   ]
  },
  {
   "cell_type": "markdown",
   "id": "c134afec",
   "metadata": {},
   "source": [
    "## Type()\n",
    "\n",
    " - Python type() is a built-in function that is used to return the type of data stored in the objects or variables in the program.\n",
    "\n",
    " - For example, if a variable contains a value of 45.5 then the type of that variable is float"
   ]
  },
  {
   "cell_type": "code",
   "execution_count": 15,
   "id": "58200adb",
   "metadata": {},
   "outputs": [
    {
     "data": {
      "text/plain": [
       "list"
      ]
     },
     "execution_count": 15,
     "metadata": {},
     "output_type": "execute_result"
    }
   ],
   "source": [
    "# Type\n",
    "type([1,2,3])"
   ]
  },
  {
   "cell_type": "code",
   "execution_count": 16,
   "id": "fa9bf242",
   "metadata": {},
   "outputs": [
    {
     "data": {
      "text/plain": [
       "str"
      ]
     },
     "execution_count": 16,
     "metadata": {},
     "output_type": "execute_result"
    }
   ],
   "source": [
    "type('Prakash')"
   ]
  },
  {
   "cell_type": "code",
   "execution_count": 17,
   "id": "686e1bac",
   "metadata": {},
   "outputs": [
    {
     "data": {
      "text/plain": [
       "int"
      ]
     },
     "execution_count": 17,
     "metadata": {},
     "output_type": "execute_result"
    }
   ],
   "source": [
    "type(10)"
   ]
  },
  {
   "cell_type": "code",
   "execution_count": 18,
   "id": "7f2be7a2",
   "metadata": {},
   "outputs": [
    {
     "data": {
      "text/plain": [
       "float"
      ]
     },
     "execution_count": 18,
     "metadata": {},
     "output_type": "execute_result"
    }
   ],
   "source": [
    "type(3.5)"
   ]
  },
  {
   "cell_type": "code",
   "execution_count": 19,
   "id": "a821224c",
   "metadata": {},
   "outputs": [
    {
     "data": {
      "text/plain": [
       "complex"
      ]
     },
     "execution_count": 19,
     "metadata": {},
     "output_type": "execute_result"
    }
   ],
   "source": [
    "type(3+6j)"
   ]
  },
  {
   "cell_type": "markdown",
   "id": "f27e8289",
   "metadata": {},
   "source": [
    "### -------------------------------------------------------------------------------------------------------------------------------- "
   ]
  },
  {
   "cell_type": "markdown",
   "id": "f0bcaff1",
   "metadata": {},
   "source": [
    "## Variables\n",
    "\n",
    " - In python we don’t have to explicitly declare data type of the object"
   ]
  },
  {
   "cell_type": "code",
   "execution_count": 21,
   "id": "def1ef94",
   "metadata": {},
   "outputs": [
    {
     "name": "stdout",
     "output_type": "stream",
     "text": [
      "Prakash\n"
     ]
    }
   ],
   "source": [
    "name = 'Prakash'\n",
    "print(name)"
   ]
  },
  {
   "cell_type": "code",
   "execution_count": 22,
   "id": "49e3f6c1",
   "metadata": {},
   "outputs": [
    {
     "name": "stdout",
     "output_type": "stream",
     "text": [
      "11\n"
     ]
    }
   ],
   "source": [
    "a = 5\n",
    "b = 6\n",
    "print(a+b)"
   ]
  },
  {
   "cell_type": "markdown",
   "id": "7f8e4f58",
   "metadata": {},
   "source": [
    "### Dynamic Typing\n",
    "\n",
    "- Dynamic typing in Python means that you don't have to tell Python what kind of data a variable will hold when you create it. Python figures it out automatically based on what you put into the variable"
   ]
  },
  {
   "cell_type": "code",
   "execution_count": 23,
   "id": "6aaca3a7",
   "metadata": {},
   "outputs": [],
   "source": [
    "x = 5          # Here, x is an integer\n",
    "x = \"Hello\"    # Now, x is a string\n",
    "x = [1, 2, 3]  # And now, x is a list\n"
   ]
  },
  {
   "cell_type": "markdown",
   "id": "60f03201",
   "metadata": {},
   "source": [
    "### Static Typing\n",
    "\n",
    "- Static typing means that you specify the data type of a variable when you declare it, and Python checks these type hints at compile-time for consistency"
   ]
  },
  {
   "cell_type": "code",
   "execution_count": 24,
   "id": "6f319182",
   "metadata": {},
   "outputs": [],
   "source": [
    "# Static typing with type hints\n",
    "def add_numbers(a: int, b: int) -> int:\n",
    "    return a + b\n",
    "\n",
    "result = add_numbers(5, 10)"
   ]
  },
  {
   "cell_type": "markdown",
   "id": "f3e175ce",
   "metadata": {},
   "source": [
    "### Dynamic Binding\n",
    "\n",
    "- Dynamic binding in Python means that when you call a method or access an attribute on an object, Python figures out which method or attribute to use based on the object's actual type at runtime. It allows different objects to have the same method name but behave differently based on their types, making your code more flexible and versatile.   \n",
    "- Python by Default supports Dynamic Binding"
   ]
  },
  {
   "cell_type": "code",
   "execution_count": 25,
   "id": "2e0c5c5f",
   "metadata": {},
   "outputs": [],
   "source": [
    "class Dog:\n",
    "    def speak(self):\n",
    "        return \"Woof!\"\n",
    "\n",
    "class Cat:\n",
    "    def speak(self):\n",
    "        return \"Meow!\""
   ]
  },
  {
   "cell_type": "code",
   "execution_count": 26,
   "id": "a12c38d0",
   "metadata": {},
   "outputs": [
    {
     "name": "stdout",
     "output_type": "stream",
     "text": [
      "Woof!\n",
      "Meow!\n"
     ]
    }
   ],
   "source": [
    "dog = Dog()\n",
    "cat = Cat()\n",
    "\n",
    "print(dog.speak())  # Python dynamically binds the 'speak' method of the 'Dog' class\n",
    "print(cat.speak())  # Python dynamically binds the 'speak' method of the 'Cat' class\n"
   ]
  },
  {
   "cell_type": "markdown",
   "id": "42796e06",
   "metadata": {},
   "source": [
    "- In this example, you can see that the speak method behaves differently for the Dog and Cat objects. Python determines which speak method to use based on the actual type of the object at runtime, which is an example of dynamic binding. This allows you to write flexible and polymorphic code, where different objects can share the same method name but have different implementations based on their types.\n"
   ]
  },
  {
   "cell_type": "code",
   "execution_count": 27,
   "id": "cb37ad65",
   "metadata": {},
   "outputs": [
    {
     "name": "stdout",
     "output_type": "stream",
     "text": [
      "1 2 3\n"
     ]
    }
   ],
   "source": [
    "# Way to declare variables\n",
    "\n",
    "a = 1\n",
    "b = 2\n",
    "c = 3\n",
    "print(a,b,c)"
   ]
  },
  {
   "cell_type": "code",
   "execution_count": 28,
   "id": "0aac4b46",
   "metadata": {},
   "outputs": [
    {
     "name": "stdout",
     "output_type": "stream",
     "text": [
      "1 2 3\n"
     ]
    }
   ],
   "source": [
    "# Another way to Declare Variables\n",
    "\n",
    "a,b,c = 1,2,3\n",
    "print(a,b,c)"
   ]
  },
  {
   "cell_type": "code",
   "execution_count": 29,
   "id": "b7e2e78e",
   "metadata": {},
   "outputs": [
    {
     "name": "stdout",
     "output_type": "stream",
     "text": [
      "5 5 5\n"
     ]
    }
   ],
   "source": [
    "# Another way \n",
    "a=b=c = 5\n",
    "print(a,b,c)"
   ]
  },
  {
   "cell_type": "markdown",
   "id": "2ca2c1ff",
   "metadata": {},
   "source": [
    "## Comments\n",
    "\n",
    "- In Python, you can add comments to your code to provide explanations, notes, or documentation. Comments are lines of text that are not executed as code and are used to make your code more understandable for yourself and others."
   ]
  },
  {
   "cell_type": "code",
   "execution_count": 30,
   "id": "58a1a824",
   "metadata": {},
   "outputs": [
    {
     "name": "stdout",
     "output_type": "stream",
     "text": [
      "10\n"
     ]
    }
   ],
   "source": [
    "# this is a comment\n",
    "a= 4\n",
    "b = 6 #Like this\n",
    "\n",
    "# second comment \n",
    "print(a+b)"
   ]
  },
  {
   "cell_type": "markdown",
   "id": "1277d3f1",
   "metadata": {},
   "source": [
    "### -------------------------------------------------------------------------------------------------------------------------------- "
   ]
  },
  {
   "cell_type": "markdown",
   "id": "1108cf6f",
   "metadata": {},
   "source": [
    "## Keywords & Identifiers"
   ]
  },
  {
   "cell_type": "markdown",
   "id": "cb53f299",
   "metadata": {},
   "source": [
    "#### Keywords: \n",
    "\n",
    "- Python has a set of reserved keywords that have specific meanings within the language. These keywords cannot be used as variable names, function names, or for any other purpose in your code. Here is a list of Python keywords:\n",
    "  \n",
    "  - False, None, True, and, as, assert, async, await, break, class, continue, def, del, elif, else, except, finally, for, from, global, if, import, in, is, lambda, nonlocal, not, or, pass, raise, return, try, while, with, yield.             \n",
    "  \n",
    "\n",
    "- These keywords are an integral part of Python's syntax and have specific purposes in the language. When writing Python code, you should avoid using these words as identifiers for your variables, functions, or classes to prevent conflicts and ensure that your code is clear and easy to understand."
   ]
  },
  {
   "cell_type": "markdown",
   "id": "48f360f6",
   "metadata": {},
   "source": [
    " #### Identifiers: \n",
    " \n",
    " - In Python, an identifier is a name used to identify a variable, function, class, module, or any other object in your code. Identifiers are essential for giving meaningful names to your program elements, making your code more readable and understandable.\n",
    " \n",
    "   - Here are some rules and conventions for naming identifiers in Python:\n",
    "\n",
    "- 1> Rules for Python Identifiers:    \n",
    "\n",
    "  - Identifiers must start with a letter (a-z, A-Z) or an underscore (_). The subsequent characters in an identifier can be letters, digits (0-9), or underscores. Identifiers are case-sensitive, meaning myVar and myvar are treated as different identifiers. Naming Conventions:    \n",
    "\n",
    "- 2> There are several naming conventions commonly followed in Python to make your code more readable and consistent. The most widely used conventions include: Camel Case: This is used for naming classes, functions, and methods. It starts with a lowercase letter and then capitalizes the first letter of each subsequent concatenated word, like myVariableName, calculateArea(). Pascal Case: Similar to camel case but starts with an uppercase letter. It's commonly used for naming classes, like MyClass, EmployeeRecord. Snake Case: This is used for naming variables, functions, and methods. Words are separated by underscores, like my_variable_name, calculate_area(). \n",
    "\n",
    "- 3> Reserved Words:\n",
    "  - Avoid using Python reserved keywords (e.g., if, else, while, for, class, def, etc.) as identifiers, as they have special meanings in the language.\n",
    "\n",
    "- 4> Descriptive Names:\n",
    "\n",
    "    - Choose meaningful and descriptive names for your identifiers to make your code self-explanatory. For example, use total_score instead of ts, calculate_area instead of calc."
   ]
  },
  {
   "cell_type": "markdown",
   "id": "a279d0e0",
   "metadata": {},
   "source": [
    "- Here are some examples of valid Python identifiers:  \n",
    "\n",
    "  - my_variable totalScore calculate_area _my_variable MyClass    \n",
    "\n",
    "- And here are examples of invalid identifiers:   \n",
    "\n",
    "  - 3variable # Starts with a digit my-variable # Contains a hyphen for # A reserved keyword class # A reserved keyword"
   ]
  },
  {
   "cell_type": "code",
   "execution_count": 31,
   "id": "d9027563",
   "metadata": {},
   "outputs": [
    {
     "name": "stdout",
     "output_type": "stream",
     "text": [
      "Prakash\n"
     ]
    }
   ],
   "source": [
    "# Identifiers \n",
    "# You can't start with a digit\n",
    "\n",
    "name1 = \"Prakash\"\n",
    "print(name1)\n",
    "\n",
    "# You can use special Characters - > \"_\"\n",
    "\n",
    "# Identifiers can not be keywords"
   ]
  },
  {
   "cell_type": "markdown",
   "id": "f3afb8a3",
   "metadata": {},
   "source": [
    "### -------------------------------------------------------------------------------------------------------------------------------- "
   ]
  },
  {
   "cell_type": "markdown",
   "id": "62adf015",
   "metadata": {},
   "source": [
    "## User Input"
   ]
  },
  {
   "cell_type": "code",
   "execution_count": 32,
   "id": "02baef2a",
   "metadata": {},
   "outputs": [
    {
     "name": "stdout",
     "output_type": "stream",
     "text": [
      "enter fisrt number:10\n",
      "enter second number:11\n",
      "<class 'str'> <class 'builtin_function_or_method'>\n",
      "1011\n"
     ]
    }
   ],
   "source": [
    "# Take input from users and store them in a variable\n",
    "# Add the Variables\n",
    "# Print the results\n",
    "\n",
    "fnum = input ('enter fisrt number:')\n",
    "snum = input ('enter second number:')\n",
    "print(type(fnum),type(sum))\n",
    "result = fnum +snum\n",
    "print(result)"
   ]
  },
  {
   "cell_type": "markdown",
   "id": "e763c84a",
   "metadata": {},
   "source": [
    "- The Above result is not correct because the user input in python stored as string value. The string is Universal data format for python"
   ]
  },
  {
   "cell_type": "markdown",
   "id": "b8d6cb41",
   "metadata": {},
   "source": [
    "### -------------------------------------------------------------------------------------------------------------------------------- "
   ]
  },
  {
   "cell_type": "markdown",
   "id": "b77e0110",
   "metadata": {},
   "source": [
    "## Type Conversion"
   ]
  },
  {
   "cell_type": "code",
   "execution_count": 33,
   "id": "0e9ac931",
   "metadata": {},
   "outputs": [
    {
     "name": "stdout",
     "output_type": "stream",
     "text": [
      "14.2\n",
      "<class 'int'> <class 'float'>\n"
     ]
    }
   ],
   "source": [
    "# Implicit v/s Explicit\n",
    "\n",
    "print(5+9.2)\n",
    "print(type(5),type(9.2))\n"
   ]
  },
  {
   "cell_type": "markdown",
   "id": "f9662e5c",
   "metadata": {},
   "source": [
    "### Implicit Type Conversion (Automatic Type Casting)\n",
    "\n",
    "- In implicit type conversion, Python automatically converts data from one type to another when required.  \n",
    "\n",
    "- This usually occurs when you perform operations involving different data types, and Python tries to make the data types compatible.  \n",
    "\n",
    "- For example, when you add an integer and a float, Python automatically converts the integer to a float for the operation.  "
   ]
  },
  {
   "cell_type": "code",
   "execution_count": 34,
   "id": "4c96e73f",
   "metadata": {},
   "outputs": [],
   "source": [
    "int_value = 5\n",
    "float_value = 2.5\n",
    "\n",
    "# result = int_value + float_value  # Implicit conversion of int to float\n"
   ]
  },
  {
   "cell_type": "markdown",
   "id": "535c5f97",
   "metadata": {},
   "source": [
    "### Explicit Type Conversion (Type Casting)\n",
    "\n",
    "- Explicit type conversion, also known as type casting, is when you intentionally change the data type of a value from one type to another.\n",
    "\n",
    "- Python provides built-in functions for type casting, such as int(), float(), str(), etc.\n",
    "\n",
    "- You need to explicitly specify the target data type using these functions."
   ]
  },
  {
   "cell_type": "code",
   "execution_count": 35,
   "id": "16d3a509",
   "metadata": {},
   "outputs": [],
   "source": [
    "float_value = 2.5\n",
    "\n",
    "int_value = int(float_value)  # Explicitly converting a float to an integer\n"
   ]
  },
  {
   "cell_type": "markdown",
   "id": "30e6b838",
   "metadata": {},
   "source": [
    "### Here are some common type casting functions:\n",
    "\n",
    "- int(x): Converts x to an integer.\n",
    "\n",
    "- float(x): Converts x to a float.\n",
    "\n",
    "- str(x): Converts x to a string.\n",
    "\n",
    "- list(x): Converts x to a list.\n",
    "\n",
    "- tuple(x): Converts x to a tuple."
   ]
  },
  {
   "cell_type": "code",
   "execution_count": 36,
   "id": "f6310108",
   "metadata": {},
   "outputs": [
    {
     "data": {
      "text/plain": [
       "10"
      ]
     },
     "execution_count": 36,
     "metadata": {},
     "output_type": "execute_result"
    }
   ],
   "source": [
    "int('10')"
   ]
  },
  {
   "cell_type": "code",
   "execution_count": 37,
   "id": "bb709d05",
   "metadata": {},
   "outputs": [
    {
     "data": {
      "text/plain": [
       "int"
      ]
     },
     "execution_count": 37,
     "metadata": {},
     "output_type": "execute_result"
    }
   ],
   "source": [
    "type(int('10'))"
   ]
  },
  {
   "cell_type": "code",
   "execution_count": 38,
   "id": "86395f78",
   "metadata": {},
   "outputs": [
    {
     "data": {
      "text/plain": [
       "9"
      ]
     },
     "execution_count": 38,
     "metadata": {},
     "output_type": "execute_result"
    }
   ],
   "source": [
    "int(9.1)"
   ]
  },
  {
   "cell_type": "code",
   "execution_count": 39,
   "id": "3c00ae6d",
   "metadata": {},
   "outputs": [
    {
     "data": {
      "text/plain": [
       "int"
      ]
     },
     "execution_count": 39,
     "metadata": {},
     "output_type": "execute_result"
    }
   ],
   "source": [
    "type(int(9.1))"
   ]
  },
  {
   "cell_type": "code",
   "execution_count": 40,
   "id": "473eebbc",
   "metadata": {},
   "outputs": [
    {
     "data": {
      "text/plain": [
       "5.0"
      ]
     },
     "execution_count": 40,
     "metadata": {},
     "output_type": "execute_result"
    }
   ],
   "source": [
    "float('5')"
   ]
  },
  {
   "cell_type": "code",
   "execution_count": 41,
   "id": "54bf6286",
   "metadata": {},
   "outputs": [
    {
     "data": {
      "text/plain": [
       "float"
      ]
     },
     "execution_count": 41,
     "metadata": {},
     "output_type": "execute_result"
    }
   ],
   "source": [
    "type(float('5'))"
   ]
  },
  {
   "cell_type": "code",
   "execution_count": 42,
   "id": "b52f13ae",
   "metadata": {},
   "outputs": [
    {
     "data": {
      "text/plain": [
       "'101091'"
      ]
     },
     "execution_count": 42,
     "metadata": {},
     "output_type": "execute_result"
    }
   ],
   "source": [
    "str(101091)"
   ]
  },
  {
   "cell_type": "code",
   "execution_count": 43,
   "id": "037aff0f",
   "metadata": {},
   "outputs": [
    {
     "data": {
      "text/plain": [
       "str"
      ]
     },
     "execution_count": 43,
     "metadata": {},
     "output_type": "execute_result"
    }
   ],
   "source": [
    "type(str(101091))"
   ]
  },
  {
   "cell_type": "code",
   "execution_count": 44,
   "id": "2fc6037d",
   "metadata": {},
   "outputs": [
    {
     "name": "stdout",
     "output_type": "stream",
     "text": [
      "enter fisrt number:7\n",
      "enter second number:9\n",
      "16\n"
     ]
    }
   ],
   "source": [
    "# Take input from users and store them in a variable\n",
    "# Add the Variables\n",
    "# Print the results\n",
    "\n",
    "\n",
    "fnum = input ('enter fisrt number:')\n",
    "snum = input ('enter second number:')\n",
    "\n",
    "result = int(fnum) + int(snum)\n",
    "print(result)\n"
   ]
  },
  {
   "cell_type": "code",
   "execution_count": 45,
   "id": "3ef4241f",
   "metadata": {},
   "outputs": [
    {
     "name": "stdout",
     "output_type": "stream",
     "text": [
      "<class 'str'>\n"
     ]
    }
   ],
   "source": [
    "print(type(fnum))"
   ]
  },
  {
   "cell_type": "code",
   "execution_count": 46,
   "id": "f343d265",
   "metadata": {},
   "outputs": [
    {
     "name": "stdout",
     "output_type": "stream",
     "text": [
      "enter n1:12\n",
      "enter n2:8\n",
      "20\n",
      "<class 'int'>\n"
     ]
    }
   ],
   "source": [
    "# Correct way to hadle previous task was \n",
    "\n",
    "fnum = int(input('enter n1:'))\n",
    "snum = int(input('enter n2:'))\n",
    "result = fnum+snum\n",
    "print(result)\n",
    "print(type(result))"
   ]
  },
  {
   "cell_type": "markdown",
   "id": "f4093581",
   "metadata": {},
   "source": [
    "### -------------------------------------------------------------------------------------------------------------------------------- "
   ]
  },
  {
   "cell_type": "markdown",
   "id": "46ef3ca6",
   "metadata": {},
   "source": [
    "## Literals\n",
    "\n",
    "- Literals are used to represent data values directly in your code, making it more readable and understandable. Depending on the data type and context, you can use the appropriate type of literal in your Python programs."
   ]
  },
  {
   "cell_type": "code",
   "execution_count": 47,
   "id": "84a197ed",
   "metadata": {},
   "outputs": [
    {
     "name": "stdout",
     "output_type": "stream",
     "text": [
      "10\n"
     ]
    }
   ],
   "source": [
    "a = 0b1010\n",
    "print(a)"
   ]
  },
  {
   "cell_type": "code",
   "execution_count": 48,
   "id": "06305d5f",
   "metadata": {},
   "outputs": [],
   "source": [
    "a = 0b1010  #Binary Literal\n",
    "b = 100     #Decimal Literal\n",
    "c = 0o310   #Octal Literal\n",
    "d = 0x12c   #Hexadecimal Literal\n",
    "\n",
    "float_1 = 10.5 #Float Litral\n",
    "float_2 = 1.5e2\n",
    "float_3 = 1.5e-3\n",
    "\n",
    "x = 3.14j #Complex Litral\n"
   ]
  },
  {
   "cell_type": "code",
   "execution_count": 49,
   "id": "e628377a",
   "metadata": {},
   "outputs": [
    {
     "name": "stdout",
     "output_type": "stream",
     "text": [
      "This is Python\n",
      "This is Python\n",
      "C\n",
      "This is a multiline string with more than one line code.\n",
      "😀😆🤣\n",
      "raw \\n string\n"
     ]
    }
   ],
   "source": [
    "string_1 = 'This is Python' #String Litral\n",
    "string_2 = \"This is Python\"\n",
    "char = \"C\"\n",
    "multiline_str = \"\"\"This is a multiline string with more than one line code.\"\"\"\n",
    "unicode = u\"\\U0001f600\\U0001F606\\U0001F923\"\n",
    "raw_str = r\"raw \\n string\"\n",
    "\n",
    "print(string_1)\n",
    "print(string_2)\n",
    "print(char)\n",
    "print(multiline_str)\n",
    "print(unicode)\n",
    "print(raw_str)\n"
   ]
  },
  {
   "cell_type": "code",
   "execution_count": 50,
   "id": "7df67bac",
   "metadata": {},
   "outputs": [
    {
     "name": "stdout",
     "output_type": "stream",
     "text": [
      "a: 5\n",
      "b: 10\n"
     ]
    }
   ],
   "source": [
    "a = True + 4\n",
    "b = False + 10\n",
    "\n",
    "print(\"a:\", a)\n",
    "print(\"b:\", b)"
   ]
  },
  {
   "cell_type": "code",
   "execution_count": 51,
   "id": "832b3a15",
   "metadata": {},
   "outputs": [
    {
     "name": "stdout",
     "output_type": "stream",
     "text": [
      "Program exe\n"
     ]
    }
   ],
   "source": [
    "k = None\n",
    "a = 5\n",
    "b = 6\n",
    "print('Program exe')"
   ]
  },
  {
   "cell_type": "markdown",
   "id": "b110e11c",
   "metadata": {},
   "source": [
    "# --------------------------------------------------------------------------------------\n",
    " - #### Tasks of Session 1: https://colab.research.google.com/drive/1j7D_owmjwodnY8zedxdpIOQIyB-GufeU?usp=sharing\n",
    "# -------------------------------------------------------------------------------------- "
   ]
  }
 ],
 "metadata": {
  "kernelspec": {
   "display_name": "Python 3 (ipykernel)",
   "language": "python",
   "name": "python3"
  },
  "language_info": {
   "codemirror_mode": {
    "name": "ipython",
    "version": 3
   },
   "file_extension": ".py",
   "mimetype": "text/x-python",
   "name": "python",
   "nbconvert_exporter": "python",
   "pygments_lexer": "ipython3",
   "version": "3.10.9"
  }
 },
 "nbformat": 4,
 "nbformat_minor": 5
}
